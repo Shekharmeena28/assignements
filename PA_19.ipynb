{
 "cells": [
  {
   "cell_type": "markdown",
   "id": "a103dc6b",
   "metadata": {},
   "source": [
    "Question1\n",
    "Create a function that takes a string and returns a string in which each character is repeated\n",
    "once."
   ]
  },
  {
   "cell_type": "code",
   "execution_count": 18,
   "id": "54b34d36",
   "metadata": {},
   "outputs": [
    {
     "name": "stdout",
     "output_type": "stream",
     "text": [
      "ssttrriinngg\n",
      "HHeelllloo  WWoorrlldd\n",
      "11223344!!__\n"
     ]
    }
   ],
   "source": [
    "def double(s):\n",
    "    return \"\".join([c*2 for c in s])\n",
    "\n",
    "print(double('string'))\n",
    "print(double('Hello World'))\n",
    "print(double('1234!_'))"
   ]
  },
  {
   "cell_type": "markdown",
   "id": "4c267a0b",
   "metadata": {},
   "source": [
    "Question2\n",
    "Create a function that reverses a boolean value and returns the string &quot;boolean expected&quot;\n",
    "if another variable type is given."
   ]
  },
  {
   "cell_type": "code",
   "execution_count": 23,
   "id": "62e7d1ce",
   "metadata": {},
   "outputs": [],
   "source": [
    "def reverse(b):\n",
    "    if type(b) == bool:\n",
    "        return not b\n",
    "    else:\n",
    "        return \"boolean expected\""
   ]
  },
  {
   "cell_type": "code",
   "execution_count": 24,
   "id": "1f445c1d",
   "metadata": {},
   "outputs": [
    {
     "name": "stdout",
     "output_type": "stream",
     "text": [
      "False\n",
      "True\n",
      "boolean expected\n",
      "boolean expected\n"
     ]
    }
   ],
   "source": [
    "print(reverse(True))\n",
    "print(reverse(False))\n",
    "\n",
    "print(reverse(0))\n",
    "print(reverse(None))\n",
    "\n"
   ]
  },
  {
   "cell_type": "markdown",
   "id": "9a7bbd7f",
   "metadata": {},
   "source": [
    "Question3\n",
    "Create a function that returns the thickness (in meters) of a piece of paper after folding it n\n",
    "number of times. The paper starts off with a thickness of 0.5mm."
   ]
  },
  {
   "cell_type": "code",
   "execution_count": 30,
   "id": "d9ec127d",
   "metadata": {},
   "outputs": [],
   "source": [
    "def num_layers(n):\n",
    "    thickness = 0.5 / 1000 # Starting thickness of the paper in meters\n",
    "    for i in range(n):\n",
    "        thickness *= 2\n",
    "    return \"{:.3f}m\".format(thickness)"
   ]
  },
  {
   "cell_type": "code",
   "execution_count": 29,
   "id": "c38fe00d",
   "metadata": {},
   "outputs": [
    {
     "name": "stdout",
     "output_type": "stream",
     "text": [
      "0.001m\n",
      "0.008m\n",
      "1048.576m\n"
     ]
    }
   ],
   "source": [
    "print(num_layers(1))\n",
    "print(num_layers(4))\n",
    "print(num_layers(21))"
   ]
  },
  {
   "cell_type": "markdown",
   "id": "aa1abcbc",
   "metadata": {},
   "source": [
    "Question4\n",
    "\n",
    "Create a function that takes a single string as argument and returns an ordered list containing\n",
    "the indices of all capital letters in the string."
   ]
  },
  {
   "cell_type": "code",
   "execution_count": 55,
   "id": "c69a0641",
   "metadata": {},
   "outputs": [],
   "source": [
    "def index_of_caps(s):\n",
    "    indices = []\n",
    "    for i in range(len(s)):\n",
    "        if s[i].isupper():\n",
    "            indices.append(i)\n",
    "    return indices\n"
   ]
  },
  {
   "cell_type": "code",
   "execution_count": 56,
   "id": "0a4f0dff",
   "metadata": {},
   "outputs": [
    {
     "name": "stdout",
     "output_type": "stream",
     "text": [
      "[1, 3, 5]\n"
     ]
    }
   ],
   "source": [
    "print(index_of_caps(\"eDaBiT\"))"
   ]
  },
  {
   "cell_type": "code",
   "execution_count": 57,
   "id": "7856e941",
   "metadata": {},
   "outputs": [
    {
     "name": "stdout",
     "output_type": "stream",
     "text": [
      "[1, 3, 4, 6]\n"
     ]
    }
   ],
   "source": [
    "print(index_of_caps(\"eQuINoX\"))"
   ]
  },
  {
   "cell_type": "markdown",
   "id": "f07fa85c",
   "metadata": {},
   "source": [
    "Question5\n",
    "Using list comprehensions, create a function that finds all even numbers from 1 to the given\n",
    "number."
   ]
  },
  {
   "cell_type": "code",
   "execution_count": 65,
   "id": "e416cb42",
   "metadata": {},
   "outputs": [],
   "source": [
    "def find_even_num(n):\n",
    "    lst=[]\n",
    "    for i in range(n+1):\n",
    "        if i%2==0:\n",
    "            lst.append(i)\n",
    "    return lst"
   ]
  },
  {
   "cell_type": "code",
   "execution_count": 66,
   "id": "decbbc4e",
   "metadata": {},
   "outputs": [
    {
     "data": {
      "text/plain": [
       "[0, 2, 4, 6, 8]"
      ]
     },
     "execution_count": 66,
     "metadata": {},
     "output_type": "execute_result"
    }
   ],
   "source": [
    "find_even_num(8)"
   ]
  },
  {
   "cell_type": "code",
   "execution_count": 67,
   "id": "37ceba9d",
   "metadata": {},
   "outputs": [
    {
     "data": {
      "text/plain": [
       "[0, 2, 4]"
      ]
     },
     "execution_count": 67,
     "metadata": {},
     "output_type": "execute_result"
    }
   ],
   "source": [
    "find_even_num(4)"
   ]
  },
  {
   "cell_type": "code",
   "execution_count": 68,
   "id": "bd3b2d83",
   "metadata": {},
   "outputs": [
    {
     "data": {
      "text/plain": [
       "[0, 2]"
      ]
     },
     "execution_count": 68,
     "metadata": {},
     "output_type": "execute_result"
    }
   ],
   "source": [
    "find_even_num(2)"
   ]
  },
  {
   "cell_type": "code",
   "execution_count": null,
   "id": "6eccd319",
   "metadata": {},
   "outputs": [],
   "source": []
  }
 ],
 "metadata": {
  "kernelspec": {
   "display_name": "Python 3 (ipykernel)",
   "language": "python",
   "name": "python3"
  },
  "language_info": {
   "codemirror_mode": {
    "name": "ipython",
    "version": 3
   },
   "file_extension": ".py",
   "mimetype": "text/x-python",
   "name": "python",
   "nbconvert_exporter": "python",
   "pygments_lexer": "ipython3",
   "version": "3.9.13"
  }
 },
 "nbformat": 4,
 "nbformat_minor": 5
}
