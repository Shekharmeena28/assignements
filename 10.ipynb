{
 "cells": [
  {
   "cell_type": "markdown",
   "id": "6754bfdb",
   "metadata": {},
   "source": [
    "Q1. What is the difference between __getattr__ and __getattribute__?"
   ]
  },
  {
   "cell_type": "markdown",
   "id": "c554ce68",
   "metadata": {},
   "source": [
    "`__getattr__` and `__getattribute__` are two special methods in Python that are related to attribute access in objects, but they have different purposes and behaviors:\n",
    "\n",
    "1. **`__getattr__`**:\n",
    "\n",
    "   - `__getattr__` is a special method that gets called when you attempt to access an attribute that does not exist in an object.\n",
    "   - It is invoked only when the requested attribute is not found through the usual attribute lookup process.\n",
    "   - You can use `__getattr__` to dynamically create or compute attributes when they are accessed.\n",
    "\n",
    "   ```python\n",
    "   class MyClass:\n",
    "       def __getattr__(self, name):\n",
    "           if name == 'example':\n",
    "               return \"This is a dynamic attribute.\"\n",
    "           raise AttributeError(f\"'MyClass' object has no attribute '{name}'\")\n",
    "\n",
    "   obj = MyClass()\n",
    "   print(obj.example)  # Calls obj.__getattr__('example')\n",
    "   ```\n",
    "\n",
    "   In this example, when you access `obj.example`, `__getattr__` is called to provide a dynamic attribute.\n",
    "\n",
    "2. **`__getattribute__`**:\n",
    "\n",
    "   - `__getattribute__` is a more powerful special method that gets called for all attribute access, whether the attribute exists or not.\n",
    "   - It is invoked automatically when any attribute is accessed on the object.\n",
    "   - You need to be cautious when using `__getattribute__` because it can intercept all attribute access and may lead to infinite recursion if not implemented carefully.\n",
    "\n",
    "   ```python\n",
    "   class MyClass:\n",
    "       def __getattribute__(self, name):\n",
    "           print(f\"Accessing attribute: {name}\")\n",
    "           return object.__getattribute__(self, name)\n",
    "\n",
    "   obj = MyClass()\n",
    "   obj.example  # Calls obj.__getattribute__('example')\n",
    "   ```\n",
    "\n",
    "   In this example, `__getattribute__` is called for all attribute access, including `obj.example`.\n",
    "\n",
    "In summary:\n",
    "\n",
    "- `__getattr__` is used for handling attribute access when the attribute does not exist in the object. It allows you to define custom behavior for missing attributes.\n",
    "- `__getattribute__` is called for all attribute access and can be used for intercepting and customizing attribute access, but it should be used with caution to avoid unintended side effects and infinite loops.\n",
    "\n",
    "Most of the time, you'll use `__getattr__` when you want to handle missing attributes, while `__getattribute__` is less commonly used due to its broader scope and potential for complexity."
   ]
  },
  {
   "cell_type": "markdown",
   "id": "fae8387a",
   "metadata": {},
   "source": [
    "Q2. What is the difference between properties and descriptors?"
   ]
  },
  {
   "cell_type": "markdown",
   "id": "42259555",
   "metadata": {},
   "source": [
    "Properties and descriptors are two mechanisms in Python that allow you to customize attribute access and modify how attributes are accessed and set in classes. While they share similarities, they have distinct differences:\n",
    "\n",
    "**Properties**:\n",
    "\n",
    "1. **Implemented Using Decorators or Methods**:\n",
    "   - Properties are implemented using decorators (`@property`) or methods (`def get_x(self)`) within a class.\n",
    "   - They provide a way to define custom behavior for attribute access (getting) without changing the attribute's name.\n",
    "\n",
    "2. **Per-Attribute Customization**:\n",
    "   - Properties allow you to customize the behavior of individual attributes within a class.\n",
    "   - You can use properties to make calculated or derived attributes or to enforce specific behaviors when reading an attribute's value.\n",
    "\n",
    "3. **Attribute Naming Convention**:\n",
    "   - Properties use the same attribute name for both getting and setting the attribute value.\n",
    "   - For example, if you have a property `x`, you access it as `obj.x`.\n",
    "\n",
    "4. **Read-Only or Computed Attributes**:\n",
    "   - Properties are often used for defining read-only or computed attributes. You can provide a custom getter method (`@property`) but cannot customize setting the value directly.\n",
    "\n",
    "**Descriptors**:\n",
    "\n",
    "1. **Implemented as Separate Classes**:\n",
    "   - Descriptors are implemented as separate classes that define the `__get__`, `__set__`, and/or `__delete__` methods.\n",
    "   - They are typically used as class-level attributes, not instance-level methods or decorators.\n",
    "\n",
    "2. **Class-Level Customization**:\n",
    "   - Descriptors allow you to customize attribute access and modification at the class level, affecting all instances of the class that use the descriptor.\n",
    "   - You can define descriptors to handle both getting and setting attribute values, providing fine-grained control.\n",
    "\n",
    "3. **Attribute Naming Flexibility**:\n",
    "   - Descriptors can have different names for getting and setting attributes, allowing you to customize the attribute access and modification methods separately.\n",
    "\n",
    "4. **Can Be Used for More Complex Behaviors**:\n",
    "   - Descriptors are more versatile than properties and can be used to implement a wide range of attribute behaviors, including data validation, lazy loading, and custom access control.\n",
    "\n",
    "In summary, properties are typically used for simple attribute customization on a per-attribute basis, especially when you want to customize getting an attribute's value. On the other hand, descriptors are more powerful and flexible, allowing you to define complex attribute access and modification behaviors at the class level, affecting all instances that use the descriptor. The choice between properties and descriptors depends on the specific needs of your code and the level of customization and control required."
   ]
  },
  {
   "cell_type": "markdown",
   "id": "ae4e52ae",
   "metadata": {},
   "source": [
    "Q3. What are the key differences in functionality between __getattr__ and __getattribute__, as well as\n",
    "properties and descriptors?"
   ]
  },
  {
   "cell_type": "code",
   "execution_count": null,
   "id": "d8991cc6",
   "metadata": {},
   "outputs": [],
   "source": []
  }
 ],
 "metadata": {
  "kernelspec": {
   "display_name": "Python 3 (ipykernel)",
   "language": "python",
   "name": "python3"
  },
  "language_info": {
   "codemirror_mode": {
    "name": "ipython",
    "version": 3
   },
   "file_extension": ".py",
   "mimetype": "text/x-python",
   "name": "python",
   "nbconvert_exporter": "python",
   "pygments_lexer": "ipython3",
   "version": "3.9.13"
  }
 },
 "nbformat": 4,
 "nbformat_minor": 5
}
