{
 "cells": [
  {
   "cell_type": "markdown",
   "id": "63bb7518-1986-4a44-808e-65da620f4674",
   "metadata": {},
   "source": [
    "Assignment-2"
   ]
  },
  {
   "cell_type": "markdown",
   "id": "e65c028a-a8f5-4b26-b2f0-fccaef6a311d",
   "metadata": {},
   "source": [
    "Answer-1|"
   ]
  },
  {
   "cell_type": "markdown",
   "id": "7edeb690-66a4-44ec-8b5c-e443c8dabd4b",
   "metadata": {},
   "source": [
    "there are two types of boolean data type which is true and false, they are written as True and false"
   ]
  },
  {
   "cell_type": "markdown",
   "id": "6ad374bc-1b42-4ed0-99cd-41f1306662a8",
   "metadata": {},
   "source": [
    "Answer-2"
   ]
  },
  {
   "cell_type": "markdown",
   "id": "883c7d08-5c52-4f74-924d-e1834b075708",
   "metadata": {},
   "source": [
    "there are 3 boolean operators AND, OR, NOT"
   ]
  },
  {
   "cell_type": "markdown",
   "id": "0b8ba859-8b48-4b87-861a-9142bc15deb4",
   "metadata": {},
   "source": [
    "Answer-3"
   ]
  },
  {
   "cell_type": "code",
   "execution_count": null,
   "id": "1bf290d5-8956-44a1-b74c-169898929f16",
   "metadata": {},
   "outputs": [],
   "source": [
    "'AND truth table        OR truth table        NOT TRUTH TABLE   \n",
    "A    B      AB         A      B     AB           A     B     \n",
    "0    0       0         0      0      0           1     0\n",
    "1    0       0         0      1      1           0   \n",
    "0    1       0         1      0      1\n",
    "1    1       1         1      1      1                            '"
   ]
  },
  {
   "cell_type": "markdown",
   "id": "e6297051-cdb8-4e4d-8bbe-4876789da151",
   "metadata": {},
   "source": [
    "Answer-4"
   ]
  },
  {
   "cell_type": "code",
   "execution_count": 10,
   "id": "8d3c424b-c03d-4d27-abd4-e24ef64c21ce",
   "metadata": {},
   "outputs": [
    {
     "data": {
      "text/plain": [
       "False"
      ]
     },
     "execution_count": 10,
     "metadata": {},
     "output_type": "execute_result"
    }
   ],
   "source": [
    "(5>4) and (3 == 5)"
   ]
  },
  {
   "cell_type": "code",
   "execution_count": 11,
   "id": "58f0baf2-5c55-4773-844d-0afa8e6c2a9b",
   "metadata": {},
   "outputs": [
    {
     "data": {
      "text/plain": [
       "False"
      ]
     },
     "execution_count": 11,
     "metadata": {},
     "output_type": "execute_result"
    }
   ],
   "source": [
    "not(5>4)"
   ]
  },
  {
   "cell_type": "code",
   "execution_count": 12,
   "id": "92cfa7a2-a03d-4848-94ee-a83a0f51cd1d",
   "metadata": {},
   "outputs": [
    {
     "data": {
      "text/plain": [
       "False"
      ]
     },
     "execution_count": 12,
     "metadata": {},
     "output_type": "execute_result"
    }
   ],
   "source": [
    "not ((5>4) or (3 == 5))"
   ]
  },
  {
   "cell_type": "code",
   "execution_count": 13,
   "id": "5097755e-487d-46cc-950d-d3856a40a01d",
   "metadata": {},
   "outputs": [
    {
     "data": {
      "text/plain": [
       "False"
      ]
     },
     "execution_count": 13,
     "metadata": {},
     "output_type": "execute_result"
    }
   ],
   "source": [
    "(True and True) and (True == False)"
   ]
  },
  {
   "cell_type": "code",
   "execution_count": 14,
   "id": "992b9e72-ace2-44d7-a0d9-f45d76a3f27d",
   "metadata": {},
   "outputs": [
    {
     "data": {
      "text/plain": [
       "True"
      ]
     },
     "execution_count": 14,
     "metadata": {},
     "output_type": "execute_result"
    }
   ],
   "source": [
    "(not False) or (not True)"
   ]
  },
  {
   "cell_type": "markdown",
   "id": "2121c667-a4c0-4576-be2a-d9ed1c407eda",
   "metadata": {},
   "source": [
    "answer-5"
   ]
  },
  {
   "cell_type": "markdown",
   "id": "b11a364b-bd4c-4549-9a37-135bf8532c73",
   "metadata": {},
   "source": [
    "the six comparison operators are  <, >, ==(equal to), !=(not equal to),<=(less than equal to),>=(greator than equal to)"
   ]
  },
  {
   "cell_type": "markdown",
   "id": "421ed10e-4568-4329-b2d7-828116084abf",
   "metadata": {},
   "source": [
    "answer-6"
   ]
  },
  {
   "cell_type": "markdown",
   "id": "223ee3aa-d6a4-4b0b-9514-64906b14f316",
   "metadata": {},
   "source": [
    "= and == are to different things as = is used to assign the value to particular variable for example a=5, b='shekhar' whereas\n",
    "== is used to compare two values if it is true it will return true else it will false for example 5==5."
   ]
  },
  {
   "cell_type": "markdown",
   "id": "f6ce58f6-15f8-4f73-b977-e340d5ef5983",
   "metadata": {},
   "source": [
    "answer-7"
   ]
  },
  {
   "cell_type": "code",
   "execution_count": 15,
   "id": "883a9d97-166d-49b3-bde7-1c4e36a97de2",
   "metadata": {},
   "outputs": [],
   "source": [
    "spam=0"
   ]
  },
  {
   "cell_type": "code",
   "execution_count": 17,
   "id": "044018b9-cffc-4277-81cd-a6c1f1082524",
   "metadata": {},
   "outputs": [
    {
     "name": "stdout",
     "output_type": "stream",
     "text": [
      "ham\n",
      "spam\n",
      "spam\n"
     ]
    }
   ],
   "source": [
    "if spam==10:\n",
    "    print('eggs')\n",
    "if spam>5:\n",
    "    print('bacon')\n",
    "else:\n",
    "    print('ham')\n",
    "    print('spam')\n",
    "    print('spam')"
   ]
  },
  {
   "cell_type": "markdown",
   "id": "150471ea-5973-4d22-be2f-a7c9ad0e4e4d",
   "metadata": {},
   "source": [
    "her we have given the value of spam=0 initialty when it gets in ifelse statement eggs and bacon will not be printed as value of spam is 0, print will be\n",
    "what comes under else statement as there is no conditon mentioned"
   ]
  },
  {
   "cell_type": "markdown",
   "id": "5ebc5730-0008-4cff-9381-d4b6b9733703",
   "metadata": {},
   "source": [
    "ANSWER-8(Write code that prints Hello if 1 is stored in spam, prints Howdy if 2 is stored in spam, and prints\n",
    "Greetings! if anything else is stored in spam.)"
   ]
  },
  {
   "cell_type": "code",
   "execution_count": 23,
   "id": "75f8b489-3229-473a-bf1b-90d60e5bc2b2",
   "metadata": {},
   "outputs": [
    {
     "name": "stdin",
     "output_type": "stream",
     "text": [
      " enter 1 or 2:  0\n"
     ]
    },
    {
     "name": "stdout",
     "output_type": "stream",
     "text": [
      "spam\n"
     ]
    }
   ],
   "source": [
    "spam=int(input(' enter 1 or 2: '))\n",
    "if spam==1:\n",
    "         print('Howdy')\n",
    "elif spam==2:\n",
    "         print('Greetings')\n",
    "else:\n",
    "         print('spam')\n",
    "         \n",
    "        "
   ]
  },
  {
   "cell_type": "markdown",
   "id": "a9d74714-5c2f-400a-84ef-3b4dc8b696e7",
   "metadata": {},
   "source": [
    "Answer-9"
   ]
  },
  {
   "cell_type": "markdown",
   "id": "b3dd3398-e2e4-4e5a-8caf-92081aa19998",
   "metadata": {},
   "source": [
    "if programme is stuck in infinite loop we will press ctrl+c to exit from the loop."
   ]
  },
  {
   "cell_type": "markdown",
   "id": "a3f2c36d-addb-4f8b-973e-fbae4f79203c",
   "metadata": {},
   "source": [
    "Answer-10"
   ]
  },
  {
   "cell_type": "markdown",
   "id": "18920ac4-7e8f-40ca-b8df-7470e76ba632",
   "metadata": {},
   "source": [
    "Break will eliminate the execution  of the remaing iteration of loop and continue will terminate only the current iteration of loop."
   ]
  },
  {
   "cell_type": "markdown",
   "id": "9d267fc9-bb03-4729-83e6-5c52eca563be",
   "metadata": {},
   "source": [
    "Answer-11"
   ]
  },
  {
   "cell_type": "code",
   "execution_count": 31,
   "id": "2db7e2cf-0db3-467c-9680-36fb93948590",
   "metadata": {},
   "outputs": [
    {
     "name": "stdout",
     "output_type": "stream",
     "text": [
      "0\n",
      "1\n",
      "2\n",
      "3\n",
      "4\n",
      "5\n",
      "6\n",
      "7\n",
      "8\n",
      "9\n",
      "0\n",
      "1\n",
      "2\n",
      "3\n",
      "4\n",
      "5\n",
      "6\n",
      "7\n",
      "8\n",
      "9\n",
      "0\n",
      "1\n",
      "2\n",
      "3\n",
      "4\n",
      "5\n",
      "6\n",
      "7\n",
      "8\n",
      "9\n"
     ]
    }
   ],
   "source": [
    "for i in range(10):   #here range of i is mentioned i will be print from 0 to 9 as it will not include 10\n",
    "    print(i)\n",
    "    \n",
    "for i in range(0,10):  #it is same as above\n",
    "    print(i)\n",
    "\n",
    "for i in range(0,10,1): #it is same as above but in third place where 1 in written it represent steps\n",
    "    print(i)"
   ]
  },
  {
   "cell_type": "markdown",
   "id": "bb015f74-847b-45a5-a293-8e6fbcc4c4c9",
   "metadata": {},
   "source": [
    "Answer-12"
   ]
  },
  {
   "cell_type": "code",
   "execution_count": 34,
   "id": "c1b7d90f-79b6-4142-ab34-a530b707ed71",
   "metadata": {},
   "outputs": [
    {
     "name": "stdout",
     "output_type": "stream",
     "text": [
      "1\n",
      "2\n",
      "3\n",
      "4\n",
      "5\n",
      "6\n",
      "7\n",
      "8\n",
      "9\n",
      "10\n"
     ]
    }
   ],
   "source": [
    "n=10\n",
    "for i in range(1,n+1):\n",
    "    print(i)"
   ]
  },
  {
   "cell_type": "code",
   "execution_count": 1,
   "id": "9004dad0-592a-4701-b87c-f270d4b0228f",
   "metadata": {},
   "outputs": [
    {
     "name": "stdout",
     "output_type": "stream",
     "text": [
      "1\n",
      "2\n",
      "3\n",
      "4\n",
      "5\n",
      "6\n",
      "7\n",
      "8\n",
      "9\n",
      "10\n"
     ]
    }
   ],
   "source": [
    "i=1\n",
    "while(i<=10):\n",
    "    print(i)\n",
    "    i+=1"
   ]
  },
  {
   "cell_type": "markdown",
   "id": "10b33b4f-03ad-47a0-8e4e-a18e2a933429",
   "metadata": {},
   "source": [
    "Answer-13"
   ]
  },
  {
   "cell_type": "markdown",
   "id": "f479c677-0db6-4053-a76f-5d4aa2feafdf",
   "metadata": {},
   "source": [
    "it will be called by spam.bacon()"
   ]
  },
  {
   "cell_type": "code",
   "execution_count": null,
   "id": "9b58d529-d287-45ef-97ec-896b2cd19f13",
   "metadata": {},
   "outputs": [],
   "source": []
  }
 ],
 "metadata": {
  "kernelspec": {
   "display_name": "Python 3 (ipykernel)",
   "language": "python",
   "name": "python3"
  },
  "language_info": {
   "codemirror_mode": {
    "name": "ipython",
    "version": 3
   },
   "file_extension": ".py",
   "mimetype": "text/x-python",
   "name": "python",
   "nbconvert_exporter": "python",
   "pygments_lexer": "ipython3",
   "version": "3.9.12"
  }
 },
 "nbformat": 4,
 "nbformat_minor": 5
}
