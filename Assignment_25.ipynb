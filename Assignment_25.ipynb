{
 "cells": [
  {
   "cell_type": "markdown",
   "id": "2392a6f4",
   "metadata": {},
   "source": [
    "1) . What is the difference between enclosing a list comprehension in square brackets and\n",
    "parentheses?"
   ]
  },
  {
   "cell_type": "markdown",
   "id": "ae1ed76f",
   "metadata": {},
   "source": [
    "Enclosing a list comprehension in square brackets produces a list object, whereas enclosing it in parentheses produces a generator object.\n",
    "\n",
    "When enclosed in square brackets, a list comprehension is immediately executed and returns a list containing the result of the iteration over the input sequence. This means that the entire list is created in memory at once, which can be inefficient for large input sequences.\n",
    "\n",
    "On the other hand, when enclosed in parentheses, a generator expression is created which lazily evaluates the sequence elements. This means that the elements are generated only as needed, making it more memory-efficient for larger input sequences. A generator object can be iterated over using a for loop or the next() built-in function."
   ]
  },
  {
   "cell_type": "markdown",
   "id": "1abce535",
   "metadata": {},
   "source": [
    "2) What is the relationship between generators and iterators?"
   ]
  },
  {
   "cell_type": "markdown",
   "id": "29bd73da",
   "metadata": {},
   "source": [
    "\n",
    "Generators are a type of iterator in Python. While both iterators and generators are used to iterate over sequences of data, generators are a more convenient and efficient way to create iterators in Python.\n",
    "\n",
    "In Python, an iterator is an object that produces a sequence of values. It has two main methods: __next__() and __iter__(). The __next__() method returns the next value in the sequence, while the __iter__() method returns the iterator object itself.\n",
    "\n",
    "Generators, on the other hand, are a special type of iterator that are created using a generator function. A generator function is defined using the yield keyword instead of the return keyword. When a generator function is called, it returns a generator object which can be used to iterate over the values produced by the generator function.\n",
    "\n",
    "In summary, all generators are iterators, but not all iterators are generators."
   ]
  },
  {
   "cell_type": "markdown",
   "id": "5db295d5",
   "metadata": {},
   "source": [
    "3) What are the signs that a function is a generator function?"
   ]
  },
  {
   "cell_type": "markdown",
   "id": "530196ae",
   "metadata": {},
   "source": [
    "\n",
    "A function is a generator function if it contains at least one yield statement. The yield statement suspends the function’s state and sends a value back to the caller. When the function is called again, it continues executing from where it left off, remembering the state it was in. This allows generator functions to produce a series of values, one at a time, and to resume their execution between each value. The yield statement makes generator functions lazy in the sense that they don't generate all values at once but instead generate values on demand."
   ]
  },
  {
   "cell_type": "markdown",
   "id": "9c9af978",
   "metadata": {},
   "source": [
    "4) What is the purpose of a yield statement?"
   ]
  },
  {
   "cell_type": "markdown",
   "id": "dc5273eb",
   "metadata": {},
   "source": [
    "The yield statement in Python is used in generator functions to produce a series of values to be returned to the caller. When a generator function is called, it returns an iterator object without actually executing the function body. When the iterator's __next__() method is called, the function body is executed until the next yield statement is encountered, at which point the value after the yield keyword is returned."
   ]
  },
  {
   "cell_type": "markdown",
   "id": "c33d9a39",
   "metadata": {},
   "source": [
    "5) What is the relationship between map calls and list comprehensions? Make a comparison and\n",
    "contrast between the two."
   ]
  },
  {
   "cell_type": "markdown",
   "id": "8e32749a",
   "metadata": {},
   "source": [
    "Both map calls and list comprehensions are used to apply a given function to each element of an iterable, but they differ in their syntax and return values.\n",
    "\n",
    "In a map call, the function and iterable are passed as arguments, and the function is applied to each element of the iterable, returning a map object which can be converted to a list or iterated over"
   ]
  },
  {
   "cell_type": "code",
   "execution_count": 1,
   "id": "526307fa",
   "metadata": {},
   "outputs": [
    {
     "name": "stdout",
     "output_type": "stream",
     "text": [
      "[1, 4, 9, 16, 25]\n"
     ]
    }
   ],
   "source": [
    "def square(x):\n",
    "    return x**2\n",
    "\n",
    "nums = [1, 2, 3, 4, 5]\n",
    "squared_nums = map(square, nums)\n",
    "print(list(squared_nums))"
   ]
  },
  {
   "cell_type": "markdown",
   "id": "47d686fd",
   "metadata": {},
   "source": [
    "In a list comprehension, the function and iterable are combined using a more compact syntax, with the function applied to each element of the iterable within the comprehension. The result is a new list. Here is an equivalent example using a list comprehension:"
   ]
  },
  {
   "cell_type": "code",
   "execution_count": 2,
   "id": "f9360f3b",
   "metadata": {},
   "outputs": [
    {
     "name": "stdout",
     "output_type": "stream",
     "text": [
      "[1, 4, 9, 16, 25]\n"
     ]
    }
   ],
   "source": [
    "nums = [1, 2, 3, 4, 5]\n",
    "squared_nums = [square(x) for x in nums]\n",
    "print(squared_nums)  "
   ]
  },
  {
   "cell_type": "markdown",
   "id": "ee500f8b",
   "metadata": {},
   "source": [
    "One advantage of list comprehensions is that they can include conditionals and multiple iterable expressions, allowing for more complex operations in a single line of code. However, map calls can sometimes be more efficient for large datasets or when working with complex functions."
   ]
  },
  {
   "cell_type": "code",
   "execution_count": null,
   "id": "c2945ab1",
   "metadata": {},
   "outputs": [],
   "source": []
  }
 ],
 "metadata": {
  "kernelspec": {
   "display_name": "Python 3 (ipykernel)",
   "language": "python",
   "name": "python3"
  },
  "language_info": {
   "codemirror_mode": {
    "name": "ipython",
    "version": 3
   },
   "file_extension": ".py",
   "mimetype": "text/x-python",
   "name": "python",
   "nbconvert_exporter": "python",
   "pygments_lexer": "ipython3",
   "version": "3.9.13"
  }
 },
 "nbformat": 4,
 "nbformat_minor": 5
}
