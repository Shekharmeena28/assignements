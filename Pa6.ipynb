{
 "cells": [
  {
   "cell_type": "markdown",
   "id": "d263d8b7",
   "metadata": {},
   "source": [
    "Answer-1"
   ]
  },
  {
   "cell_type": "code",
   "execution_count": 39,
   "id": "c9241402",
   "metadata": {},
   "outputs": [
    {
     "name": "stdout",
     "output_type": "stream",
     "text": [
      "enter the terms you want12\n",
      "fibonacci series is:\n",
      "0\n",
      "1\n",
      "1\n",
      "2\n",
      "3\n",
      "5\n",
      "8\n",
      "13\n",
      "21\n",
      "34\n",
      "55\n",
      "89\n"
     ]
    }
   ],
   "source": [
    "def fibo(x):\n",
    "    if x<=1:\n",
    "        return x\n",
    "    else:\n",
    "        return (fibo(x-1)+fibo(x-2))\n",
    "terms=int(input('enter the terms you want'))\n",
    "if terms<=0:\n",
    "    print('enter the positive number: ')\n",
    "else:\n",
    "    print('fibonacci series is:')\n",
    "    for i in range(terms):\n",
    "        print(fibo(i))"
   ]
  },
  {
   "cell_type": "markdown",
   "id": "9199f340",
   "metadata": {},
   "source": [
    "Answer-2"
   ]
  },
  {
   "cell_type": "code",
   "execution_count": 40,
   "id": "a4dbeb28",
   "metadata": {},
   "outputs": [
    {
     "name": "stdout",
     "output_type": "stream",
     "text": [
      "enter the number for which u want to find the factorial=5\n",
      "factorial of the number is 120\n"
     ]
    }
   ],
   "source": [
    "def fact(x):\n",
    "    fact=1\n",
    "    for i in range(1,x+1):\n",
    "        fact*=i\n",
    "    return fact\n",
    "number=int(input('enter the number for which u want to find the factorial='))\n",
    "if number==1:\n",
    "    print(number)\n",
    "else:\n",
    "    print('factorial of the number is',fact(number))"
   ]
  },
  {
   "cell_type": "markdown",
   "id": "da0d1723",
   "metadata": {},
   "source": [
    "Answer-3"
   ]
  },
  {
   "cell_type": "code",
   "execution_count": 4,
   "id": "1db8f913",
   "metadata": {},
   "outputs": [
    {
     "name": "stdout",
     "output_type": "stream",
     "text": [
      "enter the weight in kg:75\n",
      "enter the height in m: 1.76\n",
      "the BODY MASS INDEX IS 24.212293388429753\n"
     ]
    }
   ],
   "source": [
    "def BMI(w,h):\n",
    "    bmi=w/(h**2)\n",
    "    return bmi\n",
    "weight=float(input('enter the weight in kg:'))\n",
    "height=float(input('enter the height in m: '))\n",
    "print('the BODY MASS INDEX IS',BMI(weight,height))"
   ]
  },
  {
   "cell_type": "code",
   "execution_count": null,
   "id": "ff639225",
   "metadata": {},
   "outputs": [],
   "source": [
    "Answer-4"
   ]
  },
  {
   "cell_type": "code",
   "execution_count": 2,
   "id": "213ae28b",
   "metadata": {},
   "outputs": [],
   "source": [
    "import math"
   ]
  },
  {
   "cell_type": "code",
   "execution_count": 4,
   "id": "5e9b82a8",
   "metadata": {},
   "outputs": [
    {
     "name": "stdout",
     "output_type": "stream",
     "text": [
      "enter the number: 3\n",
      "the log of 3 is  1.0986122886681098\n"
     ]
    }
   ],
   "source": [
    "number=int(input('enter the number: '))\n",
    "print(f'the log of {number} is ',math.log(number))\n"
   ]
  },
  {
   "cell_type": "markdown",
   "id": "684030a5",
   "metadata": {},
   "source": [
    "Answer-5"
   ]
  },
  {
   "cell_type": "code",
   "execution_count": 32,
   "id": "22f80e8c",
   "metadata": {},
   "outputs": [],
   "source": [
    "def cube_natural(x):\n",
    "    sum=0\n",
    "    if x>0:\n",
    "        for i in range(1,x+1):\n",
    "            sum+=i**3\n",
    "        print('the sum of cube of entered in range of natural number is=',sum)"
   ]
  },
  {
   "cell_type": "code",
   "execution_count": 34,
   "id": "d98f65e6",
   "metadata": {},
   "outputs": [
    {
     "name": "stdout",
     "output_type": "stream",
     "text": [
      "the sum of cube of entered in range of natural number is= 225\n"
     ]
    }
   ],
   "source": [
    "cube_natural(5)"
   ]
  },
  {
   "cell_type": "code",
   "execution_count": null,
   "id": "ed78858e",
   "metadata": {},
   "outputs": [],
   "source": []
  },
  {
   "cell_type": "code",
   "execution_count": null,
   "id": "c4c27285",
   "metadata": {},
   "outputs": [],
   "source": []
  }
 ],
 "metadata": {
  "kernelspec": {
   "display_name": "Python 3 (ipykernel)",
   "language": "python",
   "name": "python3"
  },
  "language_info": {
   "codemirror_mode": {
    "name": "ipython",
    "version": 3
   },
   "file_extension": ".py",
   "mimetype": "text/x-python",
   "name": "python",
   "nbconvert_exporter": "python",
   "pygments_lexer": "ipython3",
   "version": "3.9.12"
  }
 },
 "nbformat": 4,
 "nbformat_minor": 5
}
