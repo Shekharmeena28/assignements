{
 "cells": [
  {
   "cell_type": "markdown",
   "id": "6d6a5958-732a-4655-9cb7-bf5cdaba2e4a",
   "metadata": {},
   "source": [
    "Assignment 1"
   ]
  },
  {
   "cell_type": "markdown",
   "id": "4c466a65-a8ab-472d-9385-d54a5489b6d2",
   "metadata": {},
   "source": [
    "ANSWER -1"
   ]
  },
  {
   "cell_type": "raw",
   "id": "6f5f3203-c1fb-415f-ad7c-cc5149c9e927",
   "metadata": {},
   "source": [
    "* is a expression or operator it is used for multiplication"
   ]
  },
  {
   "cell_type": "raw",
   "id": "1cd4e816-f5b1-41c4-8b71-933b8834e98b",
   "metadata": {},
   "source": [
    "'hello' is a string hence it falls under the category of value"
   ]
  },
  {
   "cell_type": "raw",
   "id": "10cf7677-ee49-446d-8cf5-af560aeedc20",
   "metadata": {},
   "source": [
    "-87.8 it is value"
   ]
  },
  {
   "cell_type": "raw",
   "id": "4486fbf6-9bef-4f66-b9eb-75a1fd390340",
   "metadata": {
    "tags": []
   },
   "source": [
    "/ is an expression"
   ]
  },
  {
   "cell_type": "raw",
   "id": "6285a953-1fdb-412d-8363-c3a1c5af0718",
   "metadata": {},
   "source": [
    "+ is an expression "
   ]
  },
  {
   "cell_type": "raw",
   "id": "9463731e-978c-4e4e-ae63-13821fb72741",
   "metadata": {},
   "source": [
    "6 it is a value"
   ]
  },
  {
   "cell_type": "markdown",
   "id": "846e2aaa-5eff-45fd-ad46-80612a7dad99",
   "metadata": {},
   "source": []
  },
  {
   "cell_type": "markdown",
   "id": "3b18cb67-5aad-44de-a526-350c51841757",
   "metadata": {},
   "source": [
    "ANSWER - 2"
   ]
  },
  {
   "cell_type": "raw",
   "id": "e10ec72a-a42c-4853-9738-39a33cfc3b49",
   "metadata": {},
   "source": [
    " The difference between string and variable is that in variable we store the information and string is type information we store in a variable.\n",
    " for example  name ='shekhar' here name is the variable and shekhar is the string type information"
   ]
  },
  {
   "cell_type": "markdown",
   "id": "d1011357-1c67-426c-9a9b-1b22402782bb",
   "metadata": {},
   "source": [
    "ANSWER - 3"
   ]
  },
  {
   "cell_type": "raw",
   "id": "909ad29b-3b35-4c21-90fa-350603cbd3e8",
   "metadata": {},
   "source": [
    "We have int as the data type in python which can store integer value, this comes under numeric data type"
   ]
  },
  {
   "cell_type": "raw",
   "id": "708cad69-5008-4353-a051-6122ab16455b",
   "metadata": {},
   "source": [
    "we have boolean data type in python which is true and false"
   ]
  },
  {
   "cell_type": "raw",
   "id": "22728eac-4a64-48fc-acb5-37aa645be032",
   "metadata": {},
   "source": [
    "we have set and seqeunce data type in python."
   ]
  },
  {
   "cell_type": "markdown",
   "id": "3d01c27c-fe2c-48e6-814a-b2817c2e02fe",
   "metadata": {},
   "source": [
    "ANSWER - 4"
   ]
  },
  {
   "cell_type": "raw",
   "id": "08bf1180-317c-49b4-bab4-40ea9a3d25fe",
   "metadata": {},
   "source": [
    "An expression is the combination of operators and operands that is used to produce some values, they are constructed according to the syntax of\n",
    "the language, that evaluates to single value.for example:( +, -, *,etc) they are all expressions"
   ]
  },
  {
   "cell_type": "markdown",
   "id": "07729545-fd56-4fc8-afd8-eb3458736154",
   "metadata": {},
   "source": [
    "ANSWER - 5\n"
   ]
  },
  {
   "cell_type": "raw",
   "id": "ffda9357-a01b-4283-b41d-86c7eda60677",
   "metadata": {},
   "source": [
    "spam=10, here spam is a variable and 10 is the value\n",
    "an Expression always evaluates to a value. \n",
    "and a statement does something, like creating a variable or displaying a value, it only does whatever the statement says"
   ]
  },
  {
   "cell_type": "markdown",
   "id": "411636b6-8e43-4a4b-b76b-930879f384be",
   "metadata": {},
   "source": [
    "ANSWER - 6"
   ]
  },
  {
   "cell_type": "code",
   "execution_count": 2,
   "id": "f68c0f9d-7bae-494a-8d82-38333daca681",
   "metadata": {},
   "outputs": [],
   "source": [
    "bacon=22"
   ]
  },
  {
   "cell_type": "code",
   "execution_count": 3,
   "id": "f8daa35d-292d-4ec2-b9ad-515e0a9ae6f2",
   "metadata": {},
   "outputs": [
    {
     "data": {
      "text/plain": [
       "23"
      ]
     },
     "execution_count": 3,
     "metadata": {},
     "output_type": "execute_result"
    }
   ],
   "source": [
    "bacon+1"
   ]
  },
  {
   "cell_type": "code",
   "execution_count": 4,
   "id": "cc13c56a-b26c-48e3-9659-dcbb64713ac3",
   "metadata": {},
   "outputs": [
    {
     "data": {
      "text/plain": [
       "22"
      ]
     },
     "execution_count": 4,
     "metadata": {},
     "output_type": "execute_result"
    }
   ],
   "source": [
    "bacon"
   ]
  },
  {
   "cell_type": "markdown",
   "id": "10e5cce9-8601-4a2c-a5b9-e9091736a517",
   "metadata": {},
   "source": [
    "ANSWER-7"
   ]
  },
  {
   "cell_type": "code",
   "execution_count": 5,
   "id": "7dcdee49-9866-45d3-817c-22c3bd6d29f2",
   "metadata": {},
   "outputs": [
    {
     "data": {
      "text/plain": [
       "'sampspamspam'"
      ]
     },
     "execution_count": 5,
     "metadata": {},
     "output_type": "execute_result"
    }
   ],
   "source": [
    "'samp'+'spamspam'"
   ]
  },
  {
   "cell_type": "code",
   "execution_count": 6,
   "id": "fd66d775-855c-45bd-9550-b2a793a73342",
   "metadata": {},
   "outputs": [
    {
     "data": {
      "text/plain": [
       "'sampsampsamp'"
      ]
     },
     "execution_count": 6,
     "metadata": {},
     "output_type": "execute_result"
    }
   ],
   "source": [
    "'samp'*3\n"
   ]
  },
  {
   "cell_type": "raw",
   "id": "43ec4b75-7f46-4611-a7aa-686e9ae89d80",
   "metadata": {},
   "source": [
    " the results are same for both above"
   ]
  },
  {
   "cell_type": "markdown",
   "id": "9feb934d-91d2-4c98-9e80-08cd8de36844",
   "metadata": {},
   "source": [
    "ANSWER - 8"
   ]
  },
  {
   "cell_type": "raw",
   "id": "8468c591-8713-4583-8a30-1f0b759cec0e",
   "metadata": {},
   "source": [
    "because the variable name cannot begin with the number as we assign values to the variable which can be of any data type, 3three='string', as 3three it is invalid because it starts with 3 as valid will three3 as variable name starts with alphabet\n",
    "have given the name to the variable which is not valid."
   ]
  },
  {
   "cell_type": "markdown",
   "id": "62830270-9d02-491e-a578-57c1f119b908",
   "metadata": {},
   "source": [
    "ANSWER - 9"
   ]
  },
  {
   "cell_type": "raw",
   "id": "ba68bddb-6543-4e37-b446-9f2a156f7068",
   "metadata": {},
   "source": [
    "for integer it is int()\n",
    "for string it is str()\n",
    "for float it is float()"
   ]
  },
  {
   "cell_type": "markdown",
   "id": "e70ef68a-8ab9-4976-bb49-398f2e72878f",
   "metadata": {},
   "source": [
    "ANSWER 10"
   ]
  },
  {
   "cell_type": "code",
   "execution_count": 8,
   "id": "bc9b4fab-3dc6-4337-ac2d-0d7068fa77fc",
   "metadata": {},
   "outputs": [
    {
     "ename": "TypeError",
     "evalue": "can only concatenate str (not \"int\") to str",
     "output_type": "error",
     "traceback": [
      "\u001b[1;31m---------------------------------------------------------------------------\u001b[0m",
      "\u001b[1;31mTypeError\u001b[0m                                 Traceback (most recent call last)",
      "Input \u001b[1;32mIn [8]\u001b[0m, in \u001b[0;36m<cell line: 1>\u001b[1;34m()\u001b[0m\n\u001b[1;32m----> 1\u001b[0m \u001b[38;5;124;43m'\u001b[39;49m\u001b[38;5;124;43mi have eaten\u001b[39;49m\u001b[38;5;124;43m'\u001b[39;49m\u001b[43m \u001b[49m\u001b[38;5;241;43m+\u001b[39;49m\u001b[38;5;241;43m99\u001b[39;49m\u001b[38;5;241m+\u001b[39m \u001b[38;5;124m'\u001b[39m\u001b[38;5;124mburritos.\u001b[39m\u001b[38;5;124m'\u001b[39m\n",
      "\u001b[1;31mTypeError\u001b[0m: can only concatenate str (not \"int\") to str"
     ]
    }
   ],
   "source": [
    "'i have eaten' +99+ 'burritos.'"
   ]
  },
  {
   "cell_type": "raw",
   "id": "216c6279-e66d-4cd6-a2a1-eb811ef296a1",
   "metadata": {},
   "source": [
    "as it will show error because 99 is the integer type and (i have eaten, burritos) is string type, we haven't mention the 99 value type as python interpretor cannot take this correction of this will be"
   ]
  },
  {
   "cell_type": "code",
   "execution_count": 9,
   "id": "5fbd3af8-457d-4ad2-9d4e-0569a95ca94c",
   "metadata": {},
   "outputs": [
    {
     "data": {
      "text/plain": [
       "' i have eaten +99+ burritos'"
      ]
     },
     "execution_count": 9,
     "metadata": {},
     "output_type": "execute_result"
    }
   ],
   "source": [
    "' i have eaten +99+ burritos'"
   ]
  },
  {
   "cell_type": "code",
   "execution_count": null,
   "id": "d0c63f74-d89f-4882-ae63-4d50b55d5062",
   "metadata": {},
   "outputs": [],
   "source": []
  }
 ],
 "metadata": {
  "kernelspec": {
   "display_name": "Python 3 (ipykernel)",
   "language": "python",
   "name": "python3"
  },
  "language_info": {
   "codemirror_mode": {
    "name": "ipython",
    "version": 3
   },
   "file_extension": ".py",
   "mimetype": "text/x-python",
   "name": "python",
   "nbconvert_exporter": "python",
   "pygments_lexer": "ipython3",
   "version": "3.9.12"
  }
 },
 "nbformat": 4,
 "nbformat_minor": 5
}
