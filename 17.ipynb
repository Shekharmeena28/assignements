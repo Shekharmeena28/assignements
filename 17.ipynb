{
 "cells": [
  {
   "cell_type": "markdown",
   "id": "6f1b2c69",
   "metadata": {},
   "source": [
    "Q1. Explain the difference between greedy and non-greedy syntax with visual terms in as few words\n",
    "as possible. What is the bare minimum effort required to transform a greedy pattern into a non-greedy\n",
    "one? What characters or characters can you introduce or change?"
   ]
  },
  {
   "cell_type": "markdown",
   "id": "feda2e86",
   "metadata": {},
   "source": [
    "**Greedy vs. Non-Greedy Matching**:\n",
    "\n",
    "- **Greedy**: Greedy matching tries to match as much text as possible while still allowing the overall pattern to match. It grabs the longest possible substring that fits the pattern.\n",
    "\n",
    "   Visual Representation: `.*` (Matches the longest possible substring)\n",
    "  \n",
    "- **Non-Greedy (Lazy)**: Non-greedy matching, also known as lazy or minimal matching, tries to match as little text as possible while still allowing the pattern to match. It grabs the shortest possible substring that fits the pattern.\n",
    "\n",
    "   Visual Representation: `.*?` (Matches the shortest possible substring)\n",
    "\n",
    "**Transforming Greedy to Non-Greedy**:\n",
    "\n",
    "To transform a greedy pattern into a non-greedy one, you can introduce a `?` character immediately after a quantifier such as `*`, `+`, `?`, or `{}` in the pattern. For example:\n",
    "\n",
    "- Greedy: `.*` (Matches the longest substring)\n",
    "- Non-Greedy: `.*?` (Matches the shortest substring)\n",
    "\n",
    "By adding `?` after the quantifier, you change the behavior from greedy to non-greedy, making it match the shortest possible substring instead of the longest."
   ]
  },
  {
   "cell_type": "markdown",
   "id": "5e684a4d",
   "metadata": {},
   "source": [
    "Q2. When exactly does greedy versus non-greedy make a difference?  What if you&#39;re looking for a\n",
    "non-greedy match but the only one available is greedy?"
   ]
  },
  {
   "cell_type": "markdown",
   "id": "fd1c8c34",
   "metadata": {},
   "source": [
    "**Greedy vs. Non-Greedy Matching**:\n",
    "\n",
    "Greedy versus non-greedy matching makes a difference when you are working with regular expressions that contain quantifiers (e.g., `*`, `+`, `?`, `{}`) and when you want to match a specific part of a string:\n",
    "\n",
    "- **Greedy Matching**: Greedy matching tries to match as much text as possible while still allowing the overall pattern to match. It grabs the longest possible substring that fits the pattern.\n",
    "\n",
    "- **Non-Greedy (Lazy) Matching**: Non-greedy matching, on the other hand, tries to match as little text as possible while still allowing the pattern to match. It grabs the shortest possible substring that fits the pattern.\n",
    "\n",
    "**When It Makes a Difference**:\n",
    "\n",
    "Greedy versus non-greedy matching makes a significant difference when your input text contains multiple occurrences of the pattern you are trying to match, and you want to capture specific occurrences. In such cases:\n",
    "\n",
    "- Greedy Matching: It captures the longest substring that fits the pattern. This can result in capturing more than you intended, especially when there are multiple occurrences of the pattern.\n",
    "\n",
    "- Non-Greedy Matching: It captures the shortest substring that fits the pattern. This is useful when you want to capture individual occurrences of the pattern without including extra text.\n",
    "\n",
    "**Example**:\n",
    "\n",
    "Consider the input string: `\"The cat and the dog are friends. The cat is black.\"`\n",
    "\n",
    "If you want to capture the text between \"The\" and \"cat,\" you can use a regular expression:\n",
    "\n",
    "- Greedy: `The.*cat` (Matches the longest substring)\n",
    "   - Result: \"The cat and the dog are friends. The cat\"\n",
    "\n",
    "- Non-Greedy: `The.*?cat` (Matches the shortest substring)\n",
    "   - Result: \"The cat\"\n",
    "\n",
    "**If Only Greedy Matches Are Available**:\n",
    "\n",
    "If the only available matches are greedy and you need a non-greedy match, you may need to adapt your approach. This can involve modifying the regular expression pattern or using post-processing to extract the desired information from the greedy match. However, it's generally more efficient and precise to use the non-greedy approach when it's applicable to your use case."
   ]
  },
  {
   "cell_type": "markdown",
   "id": "6bdafd11",
   "metadata": {},
   "source": [
    "Q3. In a simple match of a string, which looks only for one match and does not do any replacement, is\n",
    "the use of a nontagged group likely to make any practical difference?"
   ]
  },
  {
   "cell_type": "markdown",
   "id": "893d7dab",
   "metadata": {},
   "source": [
    "In a simple match of a string where you are looking for one match and not performing any replacement, the use of a non-tagged group is unlikely to make a practical difference in the result of the match. Non-tagged groups (also known as non-capturing groups) are primarily used for grouping and specifying the structure of the regular expression but do not capture the matched text.\n",
    "\n",
    "Here's a brief explanation:\n",
    "\n",
    "1. **Tagged Group (Capturing Group)**: A tagged group is created by enclosing a part of the regular expression in parentheses `( )`. It captures the text that matches the enclosed pattern and allows you to access the captured text as a separate group in the match result. Tagged groups are useful when you want to extract specific parts of the matched text.\n",
    "\n",
    "   Example with tagged group:\n",
    "   ```python\n",
    "   import re\n",
    "\n",
    "   text = \"The price is $50 and $25 for additional items.\"\n",
    "   pattern = r\"\\$(\\d+)\"  # Capturing group captures the digits following '$'\n",
    "\n",
    "   match = re.search(pattern, text)\n",
    "   if match:\n",
    "       captured_text = match.group(1)\n",
    "       print(captured_text)  # Output: '50'\n",
    "   ```\n",
    "\n",
    "2. **Non-Tagged Group (Non-Capturing Group)**: A non-tagged group is created by using `(?: )` instead of `( )`. It groups the enclosed pattern without capturing the matched text as a separate group in the match result. Non-tagged groups are used when you want to group parts of the regular expression for logical grouping or applying quantifiers without capturing the text.\n",
    "\n",
    "   Example with non-tagged group:\n",
    "   ```python\n",
    "   import re\n",
    "\n",
    "   text = \"The price is $50 and $25 for additional items.\"\n",
    "   pattern = r\"\\$(?:\\d+)\"  # Non-capturing group for grouping digits following '$'\n",
    "\n",
    "   match = re.search(pattern, text)\n",
    "   if match:\n",
    "       matched_text = match.group()  # Access the entire match\n",
    "       print(matched_text)  # Output: '$50'\n",
    "   ```\n",
    "\n",
    "In a simple match where you are not interested in capturing and extracting specific parts of the matched text, the choice between tagged (capturing) and non-tagged (non-capturing) groups is often a matter of personal coding style and readability. If you don't need to capture the matched text for later use, using a non-tagged group is a reasonable choice for logical grouping or applying quantifiers without affecting the match result. However, it is unlikely to make a practical difference in the outcome of the match itself."
   ]
  },
  {
   "cell_type": "markdown",
   "id": "4f786b59",
   "metadata": {},
   "source": [
    "Q4. Describe a scenario in which using a nontagged category would have a significant impact on the\n",
    "program&#39;s outcomes."
   ]
  },
  {
   "cell_type": "markdown",
   "id": "687b1da8",
   "metadata": {},
   "source": [
    "\n",
    "**Scenario: Extracting URLs from Text*:\n",
    "\n",
    "```\n",
    "Here are some links:\n",
    "- http://www.example.com\n",
    "- (https://www.example2.com)\n",
    "- Visit our website (https://www.example3.com)\n",
    "```\n",
    "\n",
    "In this scenario, if you want to capture the URLs but exclude any surrounding parentheses, you can use non-capturing groups. Here's how it can be done:\n",
    "\n",
    "```python\n",
    "import re\n",
    "\n",
    "text = \"\"\"\n",
    "Here are some links:\n",
    "- http://www.example.com\n",
    "- (https://www.example2.com)\n",
    "- Visit our website (https://www.example3.com)\n",
    "\"\"\"\n",
    "\n",
    "# Regular expression with non-capturing group\n",
    "pattern = r\"(?:\\()(https?://\\S+)(?:\\))\"\n",
    "\n",
    "matches = re.findall(pattern, text)\n",
    "print(matches)\n",
    "```\n",
    "\n",
    "In this regular expression, we use non-capturing groups `(?: )` to enclose the opening and closing parentheses surrounding the URLs. This allows us to match the URLs within parentheses while excluding the parentheses themselves from the captured text.\n",
    "\n",
    "As a result, the program's outcome is a list of extracted URLs:\n",
    "\n",
    "```\n",
    "['https://www.example2.com', 'https://www.example3.com']\n",
    "```\n",
    "\n",
    "Using non-capturing groups in this scenario is crucial because it ensures that only the URLs within parentheses are captured, while the parentheses themselves are not included in the extracted URLs. This significantly impacts the program's outcome by providing a clean and accurate list of URLs, addressing the specific requirements of the task.m"
   ]
  },
  {
   "cell_type": "markdown",
   "id": "8fa0b3ed",
   "metadata": {},
   "source": [
    "Q5. Unlike a normal regex pattern, a look-ahead condition does not consume the characters it\n",
    "examines. Describe a situation in which this could make a difference in the results of your\n",
    "programme."
   ]
  },
  {
   "cell_type": "markdown",
   "id": "9e3a003d",
   "metadata": {},
   "source": [
    "Look-ahead conditions in regular expressions, specifically positive lookaheads (`(?= )`), indeed do not consume the characters they examine. This unique behavior can make a significant difference in the results of your program in scenarios where you need to match patterns that are followed by specific conditions without consuming the characters that follow. Here's a situation to illustrate the impact:\n",
    "\n",
    "**Scenario: Validating Passwords**\n",
    "\n",
    "Suppose you are developing a program that validates user passwords according to specific criteria, such as requiring at least one uppercase letter, one digit, and a minimum length. However, you want to ensure that these criteria are met without consuming the characters that follow the password in the input string.\n",
    "\n",
    "Here's a sample program:\n",
    "\n",
    "\n",
    "\n",
    "In this scenario, the regular expression `^(?=.*[A-Z])(?=.*\\d).{8,}$` is used to validate passwords. Let's break down the components:\n",
    "\n",
    "- `^`: Anchors the match at the start of the string.\n",
    "- `(?=.*[A-Z])`: Positive lookahead that checks for at least one uppercase letter without consuming characters.\n",
    "- `(?=.*\\d)`: Positive lookahead that checks for at least one digit without consuming characters.\n",
    "- `.{8,}`: Matches any characters (password) with a minimum length of 8 characters.\n",
    "- `$`: Anchors the match at the end of the string.\n",
    "\n",
    "The key here is the use of positive lookaheads `(?= )`. They allow you to check specific conditions within the password pattern (uppercase and digit requirements) without consuming characters beyond the password. This is crucial because you want to ensure that the password criteria are met while leaving the rest of the input string intact.\n",
    "\n",
    "As a result, the program accurately validates passwords without affecting the characters that follow the password in the input string. This behavior is essential for password validation and ensures that the program's results are correct and that user input is properly validated."
   ]
  },
  {
   "cell_type": "code",
   "execution_count": 2,
   "id": "5c25919e",
   "metadata": {},
   "outputs": [],
   "source": [
    "import re\n",
    "def valid_password(password):\n",
    "    pattern = r\"^(?=.*[A-Z])(?=.*\\d).{8,}$\"\n",
    "    \n",
    "    if re.match(pattern, password):\n",
    "        return \"valid password\"\n",
    "    else:\n",
    "        return \"invalid password\""
   ]
  },
  {
   "cell_type": "code",
   "execution_count": 6,
   "id": "cfb421c0",
   "metadata": {},
   "outputs": [
    {
     "data": {
      "text/plain": [
       "'valid password'"
      ]
     },
     "execution_count": 6,
     "metadata": {},
     "output_type": "execute_result"
    }
   ],
   "source": [
    "valid_password('123Ab@rgrgs')"
   ]
  },
  {
   "cell_type": "markdown",
   "id": "ab67db23",
   "metadata": {},
   "source": [
    "Q6. In standard expressions, what is the difference between positive look-ahead and negative look-\n",
    "ahead?"
   ]
  },
  {
   "cell_type": "markdown",
   "id": "18a89596",
   "metadata": {},
   "source": [
    "In regular expressions, both positive look-ahead and negative look-ahead are used to assert whether a specific condition is met at a particular position in the string without consuming characters. However, they serve opposite purposes:\n",
    "\n",
    "1. **Positive Look-Ahead (`(?= )`)**:\n",
    "   - Positive look-ahead asserts that a particular condition **must be true** at a specific position in the string.\n",
    "   - It succeeds if the condition is met, and it does not consume characters.\n",
    "   - Syntax: `(?=expression)`\n",
    "\n",
    "   Example: `foo(?=bar)` matches \"foo\" only if it is followed by \"bar\" without including \"bar\" in the match.\n",
    "\n",
    "2. **Negative Look-Ahead (`(?! )`)**:\n",
    "   - Negative look-ahead asserts that a particular condition **must not be true** at a specific position in the string.\n",
    "   - It succeeds if the condition is not met, and it does not consume characters.\n",
    "   - Syntax: `(?!expression)`\n",
    "\n",
    "   Example: `foo(?!bar)` matches \"foo\" only if it is not followed by \"bar.\"\n",
    "\n",
    "**Positive Look-Ahead Example**:\n",
    "\n",
    "Suppose you want to match email addresses in a string that are followed by a specific domain (e.g., \"@example.com\") but without including the domain in the match:\n",
    "\n",
    "```python\n",
    "import re\n",
    "\n",
    "text = \"Send an email to john@example.com and jane@example.net.\"\n",
    "pattern = r\"\\b\\w+@(?=example\\.com)\\w+\\.\\w+\\b\"\n",
    "\n",
    "matches = re.findall(pattern, text)\n",
    "print(matches)  # Output: ['john']\n",
    "```\n",
    "\n",
    "In this example, positive look-ahead `(?=example\\.com)` ensures that the email address must be followed by \"example.com\" without consuming \"example.com\" in the match.\n",
    "\n",
    "**Negative Look-Ahead Example**:\n",
    "\n",
    "Suppose you want to find instances of \"apple\" in a string but only if they are not followed by \"pie.\" You want to match \"apple\" but exclude cases like \"apple pie\":\n",
    "\n",
    "```python\n",
    "import re\n",
    "\n",
    "text = \"I like apple, but not apple pie.\"\n",
    "pattern = r\"apple(?! pie)\"\n",
    "\n",
    "matches = re.findall(pattern, text)\n",
    "print(matches)  # Output: ['apple']\n",
    "```\n",
    "\n",
    "In this example, negative look-ahead `(?! pie)` ensures that \"apple\" is matched only if it is not followed by \" pie.\"\n",
    "\n",
    "In summary, positive look-ahead and negative look-ahead are powerful tools in regular expressions to assert conditions at specific positions in the string, allowing you to control and fine-tune your pattern matching based on whether a condition is met or not met at those positions."
   ]
  },
  {
   "cell_type": "markdown",
   "id": "8cb139c3",
   "metadata": {},
   "source": [
    "Q7. What is the benefit of referring to groups by name rather than by number in a standard\n",
    "expression?"
   ]
  },
  {
   "cell_type": "markdown",
   "id": "42432a1e",
   "metadata": {},
   "source": [
    "Referring to groups by name rather than by number in a regular expression provides several benefits, particularly in terms of code readability, maintainability, and self-documentation. Here are the key advantages of using named groups:\n",
    "\n",
    "1. **Improved Readability**: Named groups make the regular expression pattern more human-readable. Instead of referring to groups by numeric indices, you can use descriptive names that convey the purpose of each group. This makes it easier for others (and your future self) to understand the intent of the pattern.\n",
    "\n",
    "2. **Self-Documenting**: Named groups act as self-documentation for the regular expression. By using meaningful names for groups, you provide a clear explanation of what each group captures, which can serve as inline documentation for the pattern.\n",
    "\n",
    "3. **Easier Maintenance**: When you revisit or update your regular expressions, using named groups reduces the risk of errors. You don't have to worry about renumbering groups if you add, remove, or reorder them in the pattern. Named groups are less prone to breaking when the pattern changes.\n",
    "\n",
    "4. **Accessibility**: Named groups are accessible in a more structured and intuitive way within your code. You can access captured text using the names as keys, which is more intuitive than using numeric indices, especially when dealing with complex patterns.\n",
    "\n",
    "5. **Avoid Confusion**: In patterns with multiple capturing groups, using numeric indices can lead to confusion, especially when groups are nested or when the pattern evolves over time. Named groups help prevent such confusion by providing clear labels.\n",
    "\n",
    "6. **Reuse**: Named groups allow you to reuse the same group name in different parts of the pattern, capturing different content. This can be valuable when you need to extract various pieces of information with similar formats.\n",
    "\n",
    "**Example**:\n",
    "\n",
    "Consider a scenario where you want to extract dates from a text in the format \"MM/DD/YYYY.\" Using named groups, you can create a more readable and maintainable pattern:\n",
    "\n",
    "```python\n",
    "import re\n",
    "\n",
    "text = \"Event on 07/15/2023 and meeting on 12/31/2023\"\n",
    "pattern = r\"(?P<month>\\d{2})/(?P<day>\\d{2})/(?P<year>\\d{4})\"\n",
    "\n",
    "matches = re.finditer(pattern, text)\n",
    "for match in matches:\n",
    "    print(match.group(\"year\"), match.group(\"month\"), match.group(\"day\"))\n",
    "```\n",
    "\n",
    "In this example, named groups like `(?P<month>...)`, `(?P<day>...)`, and `(?P<year>...)` make it clear what each part of the pattern captures. When accessing captured text, you use the group names as keys, enhancing code clarity and maintainability.\n",
    "\n",
    "In summary, using named groups in regular expressions offers clarity, documentation, and ease of maintenance, making your patterns more accessible and less error-prone, especially in complex matching scenarios."
   ]
  },
  {
   "cell_type": "markdown",
   "id": "b3aaa6b2",
   "metadata": {},
   "source": [
    "Q8. Can you identify repeated items within a target string using named groups, as in &quot;The cow\n",
    "jumped over the moon&quot;?"
   ]
  },
  {
   "cell_type": "code",
   "execution_count": 7,
   "id": "a5e7ce7e",
   "metadata": {},
   "outputs": [
    {
     "name": "stdout",
     "output_type": "stream",
     "text": [
      "Repeated word: moon\n"
     ]
    }
   ],
   "source": [
    "import re\n",
    "\n",
    "text = \"The cow jumped over the moon moon.\"\n",
    "\n",
    "# Define a pattern with a named group 'word' and a backreference '\\1'\n",
    "pattern = r\"\\b(?P<word>\\w+)\\b.*\\b(?P=word)\\b\"\n",
    "\n",
    "matches = re.finditer(pattern, text)\n",
    "for match in matches:\n",
    "    repeated_word = match.group(\"word\")\n",
    "    print(f\"Repeated word: {repeated_word}\")\n"
   ]
  },
  {
   "cell_type": "code",
   "execution_count": null,
   "id": "2c01f70c",
   "metadata": {},
   "outputs": [],
   "source": []
  }
 ],
 "metadata": {
  "kernelspec": {
   "display_name": "Python 3 (ipykernel)",
   "language": "python",
   "name": "python3"
  },
  "language_info": {
   "codemirror_mode": {
    "name": "ipython",
    "version": 3
   },
   "file_extension": ".py",
   "mimetype": "text/x-python",
   "name": "python",
   "nbconvert_exporter": "python",
   "pygments_lexer": "ipython3",
   "version": "3.9.13"
  }
 },
 "nbformat": 4,
 "nbformat_minor": 5
}
