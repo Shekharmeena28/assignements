{
 "cells": [
  {
   "cell_type": "markdown",
   "id": "5338a46a",
   "metadata": {},
   "source": [
    "1. Add the current date to the text file today.txt as a string."
   ]
  },
  {
   "cell_type": "code",
   "execution_count": 1,
   "id": "364006e4",
   "metadata": {},
   "outputs": [],
   "source": [
    "import datetime\n",
    "\n",
    "today = datetime.date.today()\n",
    "\n",
    "with open('today.txt', 'w') as file:\n",
    "    file.write(str(today))"
   ]
  },
  {
   "cell_type": "markdown",
   "id": "f167c5ca",
   "metadata": {},
   "source": [
    "2. Read the text file today.txt into the string today_string"
   ]
  },
  {
   "cell_type": "code",
   "execution_count": 2,
   "id": "f60ed9c9",
   "metadata": {},
   "outputs": [],
   "source": [
    "with open('today.txt', 'r') as f:\n",
    "    today_string=f.read()\n",
    "    "
   ]
  },
  {
   "cell_type": "code",
   "execution_count": 3,
   "id": "d924b3a7",
   "metadata": {},
   "outputs": [
    {
     "data": {
      "text/plain": [
       "'2023-05-07'"
      ]
     },
     "execution_count": 3,
     "metadata": {},
     "output_type": "execute_result"
    }
   ],
   "source": [
    "today_string"
   ]
  },
  {
   "cell_type": "markdown",
   "id": "98c4d997",
   "metadata": {},
   "source": [
    "3. Parse the date from today_string."
   ]
  },
  {
   "cell_type": "code",
   "execution_count": 4,
   "id": "279467b8",
   "metadata": {},
   "outputs": [
    {
     "name": "stdout",
     "output_type": "stream",
     "text": [
      "2023-05-07\n"
     ]
    }
   ],
   "source": [
    "import datetime\n",
    "\n",
    "date_format = '%Y-%m-%d'\n",
    "parsed_date = datetime.datetime.strptime(today_string, date_format).date()\n",
    "\n",
    "print(parsed_date)"
   ]
  },
  {
   "cell_type": "markdown",
   "id": "0d55ff99",
   "metadata": {},
   "source": [
    "4. List the files in your current directory"
   ]
  },
  {
   "cell_type": "code",
   "execution_count": 6,
   "id": "28b5e674",
   "metadata": {},
   "outputs": [
    {
     "name": "stdout",
     "output_type": "stream",
     "text": [
      "['.ipynb_checkpoints', 'Assignment-16.ipynb', 'Assignment-17.ipynb', 'Assignment-18.ipynb', 'Assignment-19.ipynb', 'Assignment_20.ipynb', 'Assignment_21.ipynb', 'books.csv', 'books.db', 'test.txt', 'today.txt', 'zoo.py', '__pycache__']\n"
     ]
    }
   ],
   "source": [
    "import os\n",
    "\n",
    "files = os.listdir('.')\n",
    "print(files)"
   ]
  },
  {
   "cell_type": "markdown",
   "id": "d95ba4b3",
   "metadata": {},
   "source": [
    "5. Create a list of all of the files in your parent directory (minimum five files should be available)."
   ]
  },
  {
   "cell_type": "code",
   "execution_count": 7,
   "id": "d16941a2",
   "metadata": {},
   "outputs": [
    {
     "name": "stdout",
     "output_type": "stream",
     "text": [
      "['.ipynb_checkpoints', '1000_F_492842121_yLcDpjSUX37vXt4vBTNIyrjK6fbdPydi.jpg', '1414186_vision-bill-07-11-2022_05-36.pdf', '1495606311m_23_et.pdf', '162689-games-review-hands-on-call-of-duty-modern-warfare-2-preview-refining-it-down-image5-poxzpg2kkw.jpg', '1641377325976 (1).pdf', '1641377325976.pdf', '1679341234_prelims-answer-gs2-2020.pdf', '1679358907_prelims-questions-gs2-2020.pdf', '19.2.MySQL', '19.2.MySQL (1).7z', '19.2.MySQL.7z', '19.3 MongoDB', '19.3 MongoDB.7z', '1st factorial..Ila .pdf', '1_1wy_l-q16tmNbVkLOaCwOQ.webp', '2014.pdf', '2015.pdf', '289485.webp', '2nd dose certi rahul.pdf', '3514989d8b624c96023a0c90a1f21764.jpg', '3rd & 4th Dec FSDSbootcamp(aps-fault-detection-main).zip', '4852154566_Family_ECard.pdf', '57A23BC55DC2029F1CC4A4530983778E8C328066.torrent', '5_6196967355143161713.pdf', '641c403415e0a243577416_ANNEXURE2023.doc', '7th Dec FSDSbootcamp(Naive-Bayes-main) (1)', '7th Dec FSDSbootcamp(Naive-Bayes-main) (1).zip', '7th Dec FSDSbootcamp(Naive-Bayes-main) (2).zip', '7th Dec FSDSbootcamp(Naive-Bayes-main).zip', '98789-tree-twilight-morning-venice-evening-x750.jpg', 'a.jpg', 'acknowledgementSlip (1).pdf', 'acknowledgementSlip.pdf', 'ad.pdf', 'Admission_Predict.csv', 'Admission_Predict_Ver1.1.csv', 'admit card.pdf', 'Adobe Scan Apr 22, 2022.pdf', 'Adobe Scan Apr 6, 2022.pdf', 'Adobe Scan May 14, 2022.pdf', 'adult.csv', 'adult.names', 'Advt._of_Basic&Senior_Computer_Inst.2022_1.pdf', 'AgentLogingReport.csv', 'AgentPerformance.csv', 'Ajay jangid CV.pdf', 'Algerian_forest_fires_dataset_UPDATE.csv', 'Anaconda3-2022.10-Windows-x86_64.exe', 'apache-cassandra-3.11.10-bin.tar.gz', 'application.docx', 'application.pdf', 'aps-fault-detection-main', 'aps-fault-detection-main (1).zip', 'aps-fault-detection-main.zip', 'aps-sensor.pem', 'aps_failure_test_set.csv', 'aps_failure_training_set (1).csv', 'aps_failure_training_set.csv', 'archive', 'archive.zip', 'Assignment_1.docx', 'Assignment_2.docx', 'Assignment_3.docx', 'Assignment_4.docx', 'Assignment_5.docx', 'AWS_ACCESS_KEY_ID = AKIAUMXG6ECADZA.txt', 'bana janadim.pdf', 'bana.jpg', 'banaaa ji.pdf', 'bank-full.csv', 'bank-names.txt', 'bank.csv', 'biochemistry practical work till heamoglibin.pdf', 'blueprint.heic', 'Bluetooth_Intel_22.0.0.2_W10x64_(AX200)', 'BMR calculations .pdf', 'bn.pdf', 'Book1.xlsx', 'c03ca437-ea04-4063-b77d-dbe5c5931c74.pdf', 'calcium.pdf', 'carbon_nanotubes.csv', 'casandra', 'casandra homework .7z', 'CDSI2023-E.pdf', 'chromedriver_win32.zip', 'ChromeSetup.exe', 'Classic-Taper-and-Medium-Wavy-Crop.jpg', 'clustering-fsds-may-30-22.pdf', 'CLUSTERING.ipynb', 'Coffee Table Book Geotourism for upload.pdf', 'CSP2023-E (1).pdf', 'CSP2023-E.pdf', 'csv_file.csv', 'curry_hovr_splash_2_1666056145_1f554546_progressive.jpg', 'd2f705a5-0497-489b-a502-1a9096fb4300.pdf', 'Dataset', 'Dataset.zip', 'Day3- fsds bootcamp.pdf', 'DDEFE9D3-94B4-4C1E-8412-12D41498C23A.JPG', 'decision-tree-fsdsmay.pdf', 'decision-tree-regressor (1).pdf', 'decision-tree-regressor.pdf', 'Decision_tree_classifier.ipynb', 'decision_tree_fsdsmay (1).ipynb', 'decision_tree_fsdsmay (2).ipynb', 'decision_tree_fsdsmay.ipynb', 'DEGREE DATA UPDATION DATE EXTENSION NOTICE.pdf', 'degree-available-in-college-for-xi-convocation-1.xlsx', 'desktop.ini', 'diabetes.csv', 'Disha 1000 Mcq.pdf', 'DocScanner Apr 25, 2022 12.10 PM.pdf', 'Document 10.docx', 'Document 12.docx', 'dowloaded zips', 'download.jfif', 'download.jpeg', 'DraftPrint.pdf', 'DS4Windows_3.1.7_x64', 'DS4Windows_3.1.7_x64.zip', 'DSC_0186.JPG', 'DSC_1126.JPG', 'DSC_1471.JPG', 'DSC_1473-01.jpeg', 'DSC_2497.JPG', 'E578C047A2407EB45DB619A2F891980BA8B91F5D.torrent', 'EAadhaar_0000005069917920220407110450_2204202222592.pdf', 'EAadhaar_0000005069917920220407110450_220420222334.pdf', 'EAadhaar_0000005069917920220407110450_2204202223623.pdf', 'easyhindityping.txt', 'ec2-sensor.pem', 'ed27c244273be891ed27c244273be891WhatsAppImage2023-02-04at13.32.40.jpg', 'EDA-Used-CAr-PRediction-main (1)', 'EDA-Used-CAr-PRediction-main (1).zip', 'EDA-Used-CAr-PRediction-main.zip', 'EDA_1', 'EDA_2', 'EDA_Algerian_Forest_fires-main.zip', 'EDA_FOLDER', 'EF1A1_HDT_Money_Barter_to_Bitcoins_PCB4.pdf', 'enigmatic-career.jpg', 'EpicInstaller-14.2.1-0ded00aca4e64ec8acc92458ded44c7a.msi', 'Evolution of Geographical Thought by Majid Husain (z-lib.org).pdf', 'factorial 2&3.pdf', 'fault-key.pem', 'fault-sensor.pem', 'fault.pem', 'FbsvZxIXEAEjcXg.jfif', 'FB_IMG_1613010411392.jpg', 'fees.jpg', 'FeJ7wrSaAAEnfrr.jfif', 'FhNKXH2XoAInDRo.jpeg', 'Fhrv8lkaEAAk6Ky.jpeg', 'files extracted', 'final hfn 225.pdf', 'fire', 'Fjf7MTNXkAI2F8_.jpeg', 'Fjf9WDqVIAEwaWE.jpeg', 'Fn0PB_MWAAAZfoS.jpeg', 'Forum CSP23T01Q freeupscmaterials.org.pdf', 'fsds-EDA (1).ipynb', 'fsds-may-project.pdf', 'gargii.docx', 'Geography.pdf', 'GIGA RAM MEENA..pdf', 'Git-2.38.0-64-bit.exe', 'Git-2.38.1-64-bit.exe', 'googleplaystore.csv', 'gradient boost and xg boost algo.ipynb', 'grqadien&xgboosst.pdf', 'Guidelines 1.pdf', 'gun-collection-2.jpg', 'h.pdf', 'Handout (1 April 2022).pdf', 'Handout (28 April 2022).pdf', 'Handout (7 April 2022).pdf', 'Handout (8 April 2022).pdf', 'Hands On Machine Learning with Scikit Learn and TensorFlow.pdf', 'Hands_On_Machine_Learning_with_Scikit_Le.pdf', 'heroku-x64.exe', 'HFN-324 intervention th..pdf', 'household_power_consumption.txt', 'household_power_consumption.zip', 'HousingData.csv', 'Hypothesis_Testing.ipynb', 'ID card 16 Feb 2023.pdf', 'ID card 16 Feb 2023_compressed.pdf', 'IFoS2023-E.pdf', 'IMG-20180819-WA0017.jpg', 'IMG-20180906-WA0034.jpg', 'IMG-20180906-WA0035_2.jpg', 'IMG-20181008-WA0047.jpg', 'IMG20201115132201-01.jpeg', 'IMG20220103134205.jpg', 'imgtopdf_0305221947050.pdf', 'IMG_1742.heic', 'IMG_20161022_203636717.jpg', 'IMG_20161022_204300403_BURST000_COVER_TOP.jpg', 'IMG_20170521_163948746.jpg', 'IMG_20170607_075433715_HDR.jpg', 'IMG_20170628_000708242.jpg', 'IMG_20201114_190726_LL.jpg', 'IMG_20201114_190729_LL.jpg', 'IMG_20201218_154317-01.jpeg', 'IMG_8640.jpeg', 'IMG_8967.jpg', 'important notes coding', 'important sql queries.txt', 'important.jpg', 'incident_event_log', 'incident_event_log.zip', 'incom.pdf', 'Index', 'Indira_Gandhi_Congress_Sandesh_98bd8655c5.jpg', 'interview questions(vvp imp).pdf', 'Issue Date 25072015.pdf', 'Jan Aadhaar Yojana.pdf', 'jdk-8u202-windows-x64.exe', 'jnuee-ma-geography-question-paper-2018-1659.pdf', 'jre-8u202-windows-x64.tar.gz', 'jre1.8.0_202', 'kkmknn.jpg', 'KNN (1).pdf', 'KNN.pdf', 'Linear Regression Practicals.ipynb', 'Linear-Regression-on-Algerian-Forest-Fire-Temperature-Prediction.-main', 'Linear-Regression-on-Algerian-Forest-Fire-Temperature-Prediction.-main.zip', 'Logistic Regression-checkpoint.ipynb', 'Logistic-regression_final.zip', 'Low-Mid-High-Fade-1-1.jpg', 'lucky.txt', 'm24', 'machine_practices_problems-main(FSDS_Bootcamp Questions 9th Oct) (1)', 'major.jpg', 'Mall_Customers.csv', 'Mass_XL_Workout_Plan_by_Guru_Mann.pdf', 'matthew-henry-kX9lb7LUDWc-unsplash.jpg', 'maxresdefault.jpg', 'MicrosoftWindows.Client.CBS_cw5n1h2txyewy!InputApp', 'MicroTavorX95MARS.jpg', 'mongodb-windows-x86_64-6.0.1-signed.msi', 'MuscleMode_WorkoutPlan_by_Guru_Mann.pdf', 'Muscular_8_WORKOUT_PLAN.pdf', 'MV5BODViMmZiZDgtNWE3OS00Nzk3LWFhN2EtNGFiZGU2ZjYxOGM0L2ltYWdlXkEyXkFqcGdeQXVyNjUwNzk3NDc@._V1_.jpg', 'mysql-installer-community-8.0.30.0.msi', 'N 00017 Paper I Set AAAA.pdf', 'N.pdf', 'Naive-Bayes-ma', 'Naive-Bayes-main', 'Naive-Bayes-main.zip', 'new aps', 'New folder', 'notes', 'npp.8.4.5.Installer.x64.exe', 'Objective General Studies Ncert Based 21000+MCQ Subjectwise And Chapterwise Book For All Competitive Exam (1).pdf', 'Objective General Studies Ncert Based 21000+MCQ Subjectwise And Chapterwise Book For All Competitive Exam.pdf', 'oops 2 (2).ipynb', 'pandas class 2.ipynb', 'pandas data manupulations.ipynb', 'pandas_sir_file.ipynb', 'PaySlip202301.pdf', 'pexels-pedro-figueras-681467.jpg', 'pexels-photo-1257860.jpeg', 'pexels-photo-2753432.jpeg', 'photo.jpg', 'Photo0525.jpg', 'Photo0556.jpg', 'photo_2022-03-21_08-28-37.jpg', 'photo_2022-07-09_18-10-13.jpg', 'Positive-India-Navneit-Sekera-IPS.jpg', 'Postman-win64-Setup.exe', 'practice', 'PremiumPaidStatement_2022-2023_.pdf', 'Programming_Assingment1.docx', 'Programming_Assingment2.docx', 'Programming_Assingment3.docx', 'Programming_Assingment4.docx', 'Programming_Assingment5.docx', 'Property Return IPR-1 (1).pdf', 'Property Return IPR-1.pdf', 'pycharm-community-2022.2.1.exe', 'python Assignments', 'PYTHON_FEATURE_ENGINEERING_COOKBOOK.pdf', 'rajendra ji.pdf', 'randomforest.pdf', 'rbi.PDF', 'RECRUITMENT OF PROBATIONARY OFFICERS ADVERTISEMENT NO_ CRPD_ PO_2022-23_18.pdf', 'rekha_meena_ipr.pdf', 'ReviewFlask', 'rick-dalton-from-once-upon-time-in-hollywood.jpeg', 'Ridge,lasso,elaticnet.pdf', 'SampleCSVFile_11kb.csv', 'Sanjay-Dutt.jpg', 'saras report.pdf', 'save.txt', 'Scanned Documents.pdf', 'Screenshot 2021-12-22 113302.jpg', 'Screenshot 2022-01-07 130817.jpg', 'Screenshot 2022-01-07 135814.jpg', 'Screenshot 2022-01-07 135846.jpg', 'Screenshot 2022-01-07 140123.jpg', 'Screenshot 2022-01-16 121700.jpg', 'Screenshot 2022-01-21 162904.jpg', 'Screenshot 2022-01-24 022135.jpg', 'Screenshot 2022-02-12 091241.jpg', 'Screenshot 2022-02-22 151732.jpg', 'Screenshot 2022-03-11 125315.jpg', 'Screenshot 2022-03-15 114319.jpg', 'Screenshot 2022-04-18 160830.jpg', 'Screenshot 2022-04-22 231237.jpg', 'Screenshot 2022-04-22 231401.jpg', 'Screenshot 2022-04-25 132552.jpg', 'Screenshot 2022-05-09 225553.jpg', 'Screenshot 2022-06-27 182644.jpg', 'Screenshot 2022-07-08 135718.jpg', 'Screenshot 2022-07-26 054008.jpg', 'Screenshot 2022-08-05 182113.jpg', 'Screenshot 2022-08-18 161522.jpg', 'Screenshot 2022-08-18 165726.jpg', 'Screenshot 2022-08-26 135703.jpg', 'Screenshot 2022-09-09 110105.jpg', 'Screenshot 2022-09-13 202720.jpg', 'Screenshot 2022-10-16 130411.jpg', 'Screenshot 2022-10-16 130924.jpg', 'Screenshot 2023-01-27 223118.jpg', 'Screenshot 2023-01-27 224019.jpg', 'Screenshot 2023-01-27 224056.jpg', 'Screenshot 2023-03-15 210204.png', 'Screenshot 2023-04-08 105444.png', 'Screenshot 2023-04-15 143534.png', 'Screenshot 2023-04-29 164820.png', 'Screenshot 2023-04-29 165208.png', 'Screenshot_20210108-211230~2-01.jpeg', 'secure-connect-test.zip', 'sensor-ec2.pem', 'sensor-fault.pem', 'shekhar_accessKeys (1).csv', 'shekhar_accessKeys.csv', 'Shekhar_credentials (1).csv', 'shekhar_credentials (2).csv', 'shekhar_credentials (3).csv', 'shekhar_credentials (4).csv', 'shekhar_credentials.csv', 'SHEKHAR_MEENA_-_.pdf', 'Snapchat-1470878379.jpg', 'Snapchat-424384573.jpg', 'STAFF SELECTION COMMISSION [SSC] - Department of personnel & training.pdf', 'Standard recording 5_1.mp3', 'statistics-interview-questions.pdf', 'stats  z test,t test practical.pdf', 'student panel.pdf', 'student_performance', 'student_performance.zip', 'svc_implementation.ipynb', 'SVM KERNEL and ROCAUC.pdf', 'SVM-kernel-and-ROC-AUC-Curve-main', 'SVM-kernel-and-ROC-AUC-Curve-main.zip', \"swati ma'am.pdf\", 'Telegram Desktop', 'text', 'The Banshees of Inisherin (2022) [1080p] [BluRay] [5.1] [YTS.MX].torrent', 'The Worst Person In The World (2021) [720p] [BluRay] [YTS.MX]', 'The Worst Person in the World (2021) [720p] [BluRay] [YTS.MX].torrent', 'the-lord-of-the-flies.pdf', 'thor-ragnarok-haircut-spiky-short.jpg', 'thrift-0.16.0', 'thrift-0.16.0 (1).exe', 'thrift-0.16.0 (2).exe', 'thrift-0.16.0 (3).exe', 'thrift-0.16.0 (4).exe', 'thrift-0.16.0.exe', 'thrift-0.16.0.tar.gz', 'train.csv', 'TubeScraper-main.zip', 'u.jpeg', 'UPSC - Registration Slip.pdf', 'UPSC-Mains-2018-Important-Notice.jpg', 'very very important notes', 'VID-20190216-WA0013.mp4', 'VIRU.pdf', 'viru2.pdf', 'viru2meena.pdf', 'VIRUU.pdf', 'Vision CSM22 Value Added Essay Test 2 freeupscmaterials.org.pdf', 'VSCodeUserSetup-x64-1.63.1.exe', 'VSCodeUserSetup-x64-1.65.1.exe', 'waa.jpg', 'wallpaper.jpg', 'wallpapersden.com_the-batman-4k-mobile-cool_3840x2160.jpg', 'walls.jpg', 'WhatsApp Image 2021-12-03 at 2.29.41 PM (1).jpeg', 'WhatsApp Image 2021-12-03 at 2.29.41 PM.jpeg', 'WhatsApp Image 2021-12-03 at 3.02.02 PM (1).jpeg', 'WhatsApp Image 2021-12-03 at 3.02.02 PM (2).jpeg', 'WhatsApp Image 2021-12-03 at 3.02.02 PM.jpeg', 'WhatsApp Image 2021-12-03 at 4.29.24 PM (1).jpeg', 'WhatsApp Image 2021-12-03 at 4.29.24 PM.jpeg', 'WhatsApp Image 2021-12-03 at 4.29.49 PM.jpeg', 'WhatsApp Image 2021-12-03 at 4.29.51 PM.jpeg', 'WhatsApp Image 2021-12-03 at 4.30.05 PM.jpeg', 'WhatsApp Image 2021-12-03 at 5.32.28 PM.jpeg', 'WhatsApp Image 2021-12-03 at 5.32.29 PM.jpeg', 'WhatsApp Image 2022-04-22 at 11.17.08 PM.jpeg', 'WhatsApp Image 2022-04-22 at 11.22.16 PM.jpeg', 'WhatsApp Image 2022-04-22 at 11.25.26 PM.jpeg', 'WhatsApp Image 2022-04-22 at 11.27.02 PM.jpeg', 'WhatsApp Image 2022-06-08 at 5.55.44 PM (1).jpeg', 'WhatsApp Image 2022-06-08 at 5.55.44 PM (2).jpeg', 'WhatsApp Image 2022-06-08 at 5.55.44 PM (3).jpeg', 'WhatsApp Image 2022-06-08 at 5.55.44 PM.jpeg', 'WhatsApp Image 2022-06-08 at 5.55.45 PM.jpeg', 'WhatsApp Image 2022-08-18 at 10.11.33 AM-min.jpeg', 'WhatsApp Image 2022-08-18 at 10.11.33 AM.jpeg', 'WhatsApp Image 2022-08-18 at 10.11.39 AM.jpeg', 'WhatsApp Image 2022-09-07 at 4.53.06 PM.jpeg', 'WhatsApp Image 2023-02-04 at 13.22.24.jpg', 'WhatsApp Image 2023-02-04 at 13.32.40.jpg', 'WhatsApp Image 2023-02-04 at 14.05.43.jpg', 'WhatsApp Image 2023-02-04 at 14.22.09.jpg', 'WhatsApp Image 2023-02-16 at 12.49.14.jpg', 'WhatsApp Image 2023-02-16 at 12.49.14.zip', 'WhatsApp Image 2023-02-16 at 15.15.09.jpg', 'WhatsApp Image 2023-02-23 at 21.21.52.jpg', 'WhatsApp Image 2023-02-23 at 21.29.14.jpg', 'WhatsApp Image 2023-03-01 at 11.16.02.jpg', 'WhatsApp Image 2023-03-11 at 12.08.16.jpg', 'WhatsApp Image 2023-03-25 at 15.06.13.jpg', 'why-do-we-still-love-black-and-white-photography_0.jpg', 'Wind River (2017) [1080p] [BluRay] [YTS.MX].torrent', 'windowsdesktop-runtime-6.0.10-win-x64.exe', 'winequality-red.csv', 'winrar-x64-611.exe', 'wp4714007-mountaineering-wallpapers.jpg', 'wp5223830-golden-hour-ultra-hd-wallpapers.jpg', 'wp5223856-golden-hour-ultra-hd-wallpapers.jpg', 'ww.jpeg', 'x720.jpeg', 'Youtube-main.zip', 'youtube-web-scrapper-master.zip', 'youtubeScrappingWebsite-Public-master.zip', 'yy.jpeg', 'zero4.pdf', 'Zoom_cm_fo42pnktZ9vvrZo4_my5f8D9vEtOQnRrK3Wj39ha+eMIwUP8nBuNhl@ABvO5aPsfiotSZui_k111b1d7ef7056cac_.exe', 'zopener_8a4800ea0a3f43f4bafd7706c1a4e7ee.log', '_methode_times_prod_web_bin_45e021ee-c21f-11eb-a26e-4c086490cfe1.jpg', '__ SIPF Rajasthan __.html', '__ SIPF Rajasthan __.pdf', '__ SIPF Rajasthan ___files']\n"
     ]
    }
   ],
   "source": [
    "import os\n",
    "\n",
    "parent_dir = os.path.abspath(os.path.join(os.getcwd(), \"..\"))\n",
    "files = os.listdir(parent_dir)\n",
    "\n",
    "print(files)"
   ]
  },
  {
   "cell_type": "markdown",
   "id": "01f1b3ab",
   "metadata": {},
   "source": [
    "6. Use multiprocessing to create three separate processes. Make each one wait a random number of\n",
    "seconds between one and five, print the current time, and then exit."
   ]
  },
  {
   "cell_type": "code",
   "execution_count": 11,
   "id": "aa9ccc59",
   "metadata": {},
   "outputs": [],
   "source": [
    "import multiprocessing\n",
    "import time\n",
    "import datetime\n",
    "import random\n",
    "\n",
    "# Define a function for each process\n",
    "def print_time():\n",
    "    # Generate a random wait time between 1 and 5 seconds\n",
    "    wait_time = random.randint(1, 5)\n",
    "    # Wait for the generated time\n",
    "    time.sleep(wait_time)\n",
    "    # Print the current time\n",
    "    print(f\"Current time: {datetime.datetime.now()}\")\n",
    "\n",
    "# Create three separate processes\n",
    "process1 = multiprocessing.Process(target=print_time)\n",
    "process2 = multiprocessing.Process(target=print_time)\n",
    "process3 = multiprocessing.Process(target=print_time)\n",
    "\n",
    "# Start each process\n",
    "process1.start()\n",
    "process2.start()\n",
    "process3.start()\n",
    "\n",
    "# Wait for each process to finish\n",
    "process1.join()\n",
    "process2.join()\n",
    "process3.join()\n"
   ]
  },
  {
   "cell_type": "code",
   "execution_count": 13,
   "id": "1a416603",
   "metadata": {},
   "outputs": [
    {
     "data": {
      "text/plain": [
       "(<Process name='Process-7' pid=12732 parent=20804 stopped exitcode=1>,\n",
       " <Process name='Process-8' pid=21708 parent=20804 stopped exitcode=1>,\n",
       " <Process name='Process-9' pid=20712 parent=20804 stopped exitcode=1>)"
      ]
     },
     "execution_count": 13,
     "metadata": {},
     "output_type": "execute_result"
    }
   ],
   "source": [
    "process1, process2, process3"
   ]
  },
  {
   "cell_type": "markdown",
   "id": "5137c19c",
   "metadata": {},
   "source": [
    "7. Create a date object of your day of birth."
   ]
  },
  {
   "cell_type": "code",
   "execution_count": 15,
   "id": "6d09d144",
   "metadata": {},
   "outputs": [
    {
     "name": "stdout",
     "output_type": "stream",
     "text": [
      "1997-12-28\n"
     ]
    }
   ],
   "source": [
    "from datetime import date\n",
    "\n",
    "dob = date(1997, 12, 28)\n",
    "print(dob)"
   ]
  },
  {
   "cell_type": "markdown",
   "id": "b2e0244e",
   "metadata": {},
   "source": [
    "8. What day of the week was your day of birth?"
   ]
  },
  {
   "cell_type": "code",
   "execution_count": 16,
   "id": "1ff59346",
   "metadata": {},
   "outputs": [
    {
     "name": "stdout",
     "output_type": "stream",
     "text": [
      "Sunday\n"
     ]
    }
   ],
   "source": [
    "day_of_week = dob.strftime('%A')\n",
    "print(day_of_week)"
   ]
  },
  {
   "cell_type": "markdown",
   "id": "a7928e6c",
   "metadata": {},
   "source": [
    "9. When will you be (or when were you) 10,000 days old?"
   ]
  },
  {
   "cell_type": "code",
   "execution_count": null,
   "id": "3e781076",
   "metadata": {},
   "outputs": [],
   "source": [
    "from datetime import datetime, timedelta\n",
    "\n",
    "dob = datetime(2000, 1, 1)  # replace with your own date of birth\n",
    "ten_thousand_days = timedelta(days=10000)\n",
    "ten_thousand_days_old = dob + ten_thousand_days\n",
    "\n",
    "print(\"You will be (or were) 10,000 days old on:\", ten_thousand_days_old.date())"
   ]
  }
 ],
 "metadata": {
  "kernelspec": {
   "display_name": "Python 3 (ipykernel)",
   "language": "python",
   "name": "python3"
  },
  "language_info": {
   "codemirror_mode": {
    "name": "ipython",
    "version": 3
   },
   "file_extension": ".py",
   "mimetype": "text/x-python",
   "name": "python",
   "nbconvert_exporter": "python",
   "pygments_lexer": "ipython3",
   "version": "3.9.13"
  }
 },
 "nbformat": 4,
 "nbformat_minor": 5
}
