{
 "cells": [
  {
   "cell_type": "markdown",
   "id": "b82b3033",
   "metadata": {},
   "source": [
    "Question 1:\n",
    "Please write a program using generator to print the numbers which can be divisible by 5 and\n",
    "7 between 0 and n in comma separated form while n is input by console."
   ]
  },
  {
   "cell_type": "code",
   "execution_count": 6,
   "id": "a636c01b",
   "metadata": {},
   "outputs": [
    {
     "name": "stdout",
     "output_type": "stream",
     "text": [
      "enter the number :50\n",
      "0,35\n"
     ]
    }
   ],
   "source": [
    "num = int(input(\"enter the number :\"))\n",
    "\n",
    "def divisible_by_5_and_7(num):\n",
    "    for i in range(num+1):\n",
    "        if i%5==0 and i%7==0:\n",
    "            yield i\n",
    "\n",
    "            \n",
    "result = ','.join(str(x) for x in divisible_by_5_and_7(num))\n",
    "print(result)"
   ]
  },
  {
   "cell_type": "markdown",
   "id": "a6d5cd56",
   "metadata": {},
   "source": [
    "Question 2:\n",
    "Please write a program using generator to print the even numbers between 0 and n in comma\n",
    "separated form while n is input by console."
   ]
  },
  {
   "cell_type": "code",
   "execution_count": 9,
   "id": "13588f78",
   "metadata": {},
   "outputs": [
    {
     "name": "stdout",
     "output_type": "stream",
     "text": [
      "enter the number :10\n",
      "0,2,4,6,8,10\n"
     ]
    }
   ],
   "source": [
    "num = int(input(\"enter the number :\"))\n",
    "\n",
    "def even_numbers(num):\n",
    "    for i in range(0, num+1):\n",
    "        if i%2==0:\n",
    "            yield i\n",
    "            \n",
    "even_result = \",\".join(str(x) for x in even_numbers(num))\n",
    "print(even_result)"
   ]
  },
  {
   "cell_type": "markdown",
   "id": "a4b9866e",
   "metadata": {},
   "source": [
    "Question 3:\n",
    "The Fibonacci Sequence is computed based on the following formula:\n",
    "f(n)=0 if n=0\n",
    "f(n)=1 if n=1\n",
    "f(n)=f(n-1)+f(n-2) if n&gt;1"
   ]
  },
  {
   "cell_type": "code",
   "execution_count": 18,
   "id": "c7556e54",
   "metadata": {
    "scrolled": true
   },
   "outputs": [
    {
     "name": "stdout",
     "output_type": "stream",
     "text": [
      "Enter the value of n: 7\n",
      "0,1,1,2,3,5,8\n"
     ]
    }
   ],
   "source": [
    "n = int(input(\"Enter the value of n: \"))  # Take input from the user\n",
    "\n",
    "# Initialize the first two terms of the Fibonacci sequence\n",
    "fib_seq = [0, 1]\n",
    "\n",
    "# Using list comprehension to generate the rest of the Fibonacci sequence\n",
    "[fib_seq.append(fib_seq[i-1] + fib_seq[i-2]) for i in range(2, n)]\n",
    "\n",
    "# Printing the Fibonacci sequence in comma-separated form\n",
    "print(\",\".join(str(num) for num in fib_seq))\n"
   ]
  },
  {
   "cell_type": "markdown",
   "id": "a10db9e3",
   "metadata": {},
   "source": [
    "Question 4:\n",
    "Assuming that we have some email addresses in the &quot;username@companyname.com&quot; format,\n",
    "please write program to print the user name of a given email address. Both user names and\n",
    "company names are composed of letters only."
   ]
  },
  {
   "cell_type": "code",
   "execution_count": 26,
   "id": "3a58fae6",
   "metadata": {},
   "outputs": [
    {
     "name": "stdout",
     "output_type": "stream",
     "text": [
      "john\n"
     ]
    }
   ],
   "source": [
    "def extract_username(email):\n",
    "    parts = email.split('@')\n",
    "    return parts[0]\n",
    "\n",
    "email = 'john@google.com'\n",
    "\n",
    "username = extract_username(email)\n",
    "print(username)\n",
    "    "
   ]
  },
  {
   "cell_type": "markdown",
   "id": "69411745",
   "metadata": {},
   "source": [
    "Question 5:\n",
    "Define a class named Shape and its subclass Square. The Square class has an init function\n",
    "which takes a length as argument. Both classes have a area function which can print the area\n",
    "of the shape where Shape&#39;s area is 0 by default."
   ]
  },
  {
   "cell_type": "code",
   "execution_count": 28,
   "id": "ed215528",
   "metadata": {},
   "outputs": [],
   "source": [
    "class Shape:\n",
    "    def area(self):\n",
    "        return 0\n",
    "    \n",
    "class Square(Shape):\n",
    "    def __init__(self,length):\n",
    "        self.length=length\n",
    "    \n",
    "    def area(self):\n",
    "        return self.length * self.length\n",
    "        \n",
    "    \n",
    "        "
   ]
  },
  {
   "cell_type": "code",
   "execution_count": 31,
   "id": "5f8ed7b1",
   "metadata": {},
   "outputs": [
    {
     "name": "stdout",
     "output_type": "stream",
     "text": [
      "25\n"
     ]
    }
   ],
   "source": [
    "square = Square(5)\n",
    "print(square.area())"
   ]
  },
  {
   "cell_type": "code",
   "execution_count": null,
   "id": "0fa48c4e",
   "metadata": {},
   "outputs": [],
   "source": []
  }
 ],
 "metadata": {
  "kernelspec": {
   "display_name": "Python 3 (ipykernel)",
   "language": "python",
   "name": "python3"
  },
  "language_info": {
   "codemirror_mode": {
    "name": "ipython",
    "version": 3
   },
   "file_extension": ".py",
   "mimetype": "text/x-python",
   "name": "python",
   "nbconvert_exporter": "python",
   "pygments_lexer": "ipython3",
   "version": "3.9.13"
  }
 },
 "nbformat": 4,
 "nbformat_minor": 5
}
