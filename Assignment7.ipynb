{
 "cells": [
  {
   "cell_type": "markdown",
   "id": "bd0b13b5",
   "metadata": {},
   "source": [
    "Answer-1"
   ]
  },
  {
   "cell_type": "markdown",
   "id": "160e35a4",
   "metadata": {},
   "source": [
    "a literal notation and a constructor.The re. compile() function returns Regex objects."
   ]
  },
  {
   "cell_type": "markdown",
   "id": "e7531d50",
   "metadata": {},
   "source": [
    "Answer-2"
   ]
  },
  {
   "cell_type": "markdown",
   "id": "375e7d10",
   "metadata": {},
   "source": [
    " Raw strings are used so that backslashes do not have to be escaped."
   ]
  },
  {
   "cell_type": "markdown",
   "id": "a7a77b4c",
   "metadata": {},
   "source": [
    "Answer-3"
   ]
  },
  {
   "cell_type": "markdown",
   "id": "72ee7844",
   "metadata": {},
   "source": [
    "The search() method returns Match objects."
   ]
  },
  {
   "cell_type": "markdown",
   "id": "a988dfb7",
   "metadata": {},
   "source": [
    "Answer-4"
   ]
  },
  {
   "cell_type": "markdown",
   "id": "5862560c",
   "metadata": {},
   "source": [
    "The group() method returns strings of the matched text."
   ]
  },
  {
   "cell_type": "markdown",
   "id": "b8b92e51",
   "metadata": {},
   "source": [
    "Answer-5"
   ]
  },
  {
   "cell_type": "markdown",
   "id": "899945e8",
   "metadata": {},
   "source": [
    "Group 0 is the entire match, group 1 covers the first set of parentheses, and group 2 covers the second set of parentheses."
   ]
  },
  {
   "cell_type": "markdown",
   "id": "9330cca8",
   "metadata": {},
   "source": [
    "Answer-6"
   ]
  },
  {
   "cell_type": "markdown",
   "id": "27980564",
   "metadata": {},
   "source": [
    "Periods and parentheses can be escaped with a backslash: \\., \\(, and \\)."
   ]
  },
  {
   "cell_type": "markdown",
   "id": "cdc8b31e",
   "metadata": {},
   "source": [
    "Answer-7"
   ]
  },
  {
   "cell_type": "markdown",
   "id": "6f080e08",
   "metadata": {},
   "source": [
    "if the regex has no groups, a list of strings is returned. If the regex has groups, a list of tuples of strings is returned."
   ]
  },
  {
   "cell_type": "markdown",
   "id": "87e6c702",
   "metadata": {},
   "source": [
    "Answer-8"
   ]
  },
  {
   "cell_type": "markdown",
   "id": "a8e3a181",
   "metadata": {},
   "source": [
    " | character signifies matching \"either, or\" between two groups."
   ]
  },
  {
   "cell_type": "markdown",
   "id": "98d8cae8",
   "metadata": {},
   "source": [
    "Answer-9"
   ]
  },
  {
   "cell_type": "markdown",
   "id": "db324ef7",
   "metadata": {},
   "source": [
    "the ? character can either mean \"match zero or one of the preceding group\" or be used to signify nongreedy matching."
   ]
  },
  {
   "cell_type": "markdown",
   "id": "a42c5a0d",
   "metadata": {},
   "source": [
    "Answer-10"
   ]
  },
  {
   "cell_type": "markdown",
   "id": "5ce92a42",
   "metadata": {},
   "source": [
    "the + matches one or more. The * matches zero or more."
   ]
  },
  {
   "cell_type": "markdown",
   "id": "916f0d7f",
   "metadata": {},
   "source": [
    "Answer-11"
   ]
  },
  {
   "cell_type": "markdown",
   "id": "5768812b",
   "metadata": {},
   "source": [
    "the {4} matches exactly three instances of the preceding group , the {4,5} matches between three and five instances."
   ]
  },
  {
   "cell_type": "markdown",
   "id": "0ea50c5a",
   "metadata": {},
   "source": [
    "ANswer-12"
   ]
  },
  {
   "cell_type": "markdown",
   "id": "ca8b4f75",
   "metadata": {},
   "source": [
    "the \\d, \\w, and \\s shorthand character classes match a single digit, word, or space character, respectively."
   ]
  },
  {
   "cell_type": "markdown",
   "id": "0aa98183",
   "metadata": {},
   "source": [
    "Answer-13"
   ]
  },
  {
   "cell_type": "markdown",
   "id": "97f5d279",
   "metadata": {},
   "source": [
    "the \\D, \\W, and \\S shorthand character classes match a single character that is not a digit,\n",
    "word, or space character, respectively."
   ]
  },
  {
   "cell_type": "markdown",
   "id": "a489dcbf",
   "metadata": {},
   "source": [
    "Answer-14"
   ]
  },
  {
   "cell_type": "markdown",
   "id": "b29b8b3e",
   "metadata": {},
   "source": [
    "the . performs a greedy match, and the .? performs a nongreedy match."
   ]
  },
  {
   "cell_type": "markdown",
   "id": "946ed6f5",
   "metadata": {},
   "source": [
    "Answer-15"
   ]
  },
  {
   "cell_type": "markdown",
   "id": "4efc4c93",
   "metadata": {},
   "source": [
    "either [0-9a-z] or [a-z0-9] is the syntax"
   ]
  },
  {
   "cell_type": "markdown",
   "id": "9f7924bf",
   "metadata": {},
   "source": [
    "Answer-16"
   ]
  },
  {
   "cell_type": "markdown",
   "id": "1bac7427",
   "metadata": {},
   "source": [
    "Passing re.I or re.IGNORECASE as the second argument to re.compile() will make the matching case insensitive."
   ]
  },
  {
   "cell_type": "markdown",
   "id": "68ccd965",
   "metadata": {},
   "source": [
    "Answer-17"
   ]
  },
  {
   "cell_type": "markdown",
   "id": "aa57e6a8",
   "metadata": {},
   "source": [
    "the . character normally matches any character except the newline character. \n",
    "If re.DOTALL is passed as the second argument to re.compile(), then the dot will also match newline characters."
   ]
  },
  {
   "cell_type": "markdown",
   "id": "138d8660",
   "metadata": {},
   "source": [
    "Answer-18"
   ]
  },
  {
   "cell_type": "markdown",
   "id": "4fe4bd3b",
   "metadata": {},
   "source": [
    "'X drummers, X pipers, five rings, X hens'"
   ]
  },
  {
   "cell_type": "markdown",
   "id": "def322a1",
   "metadata": {},
   "source": [
    "Answer-19"
   ]
  },
  {
   "cell_type": "markdown",
   "id": "3a279ec0",
   "metadata": {},
   "source": [
    "The re.VERBOSE argument allows you to add whitespace and comments to the string passed to re.compile()."
   ]
  },
  {
   "cell_type": "markdown",
   "id": "bd406920",
   "metadata": {},
   "source": [
    "Answer-20"
   ]
  },
  {
   "cell_type": "markdown",
   "id": "5c2c6c80",
   "metadata": {},
   "source": [
    "re.compile(r'^\\d{1,3}(,\\d{3})*$') #will create this regex, but other regex strings can produce a similar regular expression."
   ]
  },
  {
   "cell_type": "markdown",
   "id": "ebe3cca0",
   "metadata": {},
   "source": [
    "ANswer-21"
   ]
  },
  {
   "cell_type": "markdown",
   "id": "03a63438",
   "metadata": {},
   "source": [
    "re.compile(r'[A-Z][a-z]*\\sWatanabe)"
   ]
  },
  {
   "cell_type": "markdown",
   "id": "2d59e8a9",
   "metadata": {},
   "source": [
    "Answer-22"
   ]
  },
  {
   "cell_type": "markdown",
   "id": "48766ff7",
   "metadata": {},
   "source": [
    "re.compile(r'(Alice|Bob|Carol)\\s(eats|pets|throws)\\s(apples|cats|baseballs)\\.', re.IGNORECASE)"
   ]
  },
  {
   "cell_type": "code",
   "execution_count": null,
   "id": "eac345cb",
   "metadata": {},
   "outputs": [],
   "source": []
  }
 ],
 "metadata": {
  "kernelspec": {
   "display_name": "Python 3 (ipykernel)",
   "language": "python",
   "name": "python3"
  },
  "language_info": {
   "codemirror_mode": {
    "name": "ipython",
    "version": 3
   },
   "file_extension": ".py",
   "mimetype": "text/x-python",
   "name": "python",
   "nbconvert_exporter": "python",
   "pygments_lexer": "ipython3",
   "version": "3.9.12"
  }
 },
 "nbformat": 4,
 "nbformat_minor": 5
}
