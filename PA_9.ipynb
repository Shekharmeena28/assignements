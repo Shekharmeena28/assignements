{
 "cells": [
  {
   "cell_type": "markdown",
   "id": "b1121701",
   "metadata": {},
   "source": [
    "1. Write a Python program to check if the given number is a Disarium Number?"
   ]
  },
  {
   "cell_type": "code",
   "execution_count": 1,
   "id": "af1f174a",
   "metadata": {},
   "outputs": [
    {
     "name": "stdout",
     "output_type": "stream",
     "text": [
      "Enter a number: 175\n",
      "175 is a Disarium number.\n"
     ]
    }
   ],
   "source": [
    "num = input(\"Enter a number: \")\n",
    "sum = 0\n",
    "for i in range(len(num)):\n",
    "    sum += int(num[i])**(i+1)\n",
    "if sum == int(num):\n",
    "    print(num, \"is a Disarium number.\")\n",
    "else:\n",
    "    print(num, \"is not a Disarium number.\")\n"
   ]
  },
  {
   "cell_type": "markdown",
   "id": "2535d6e2",
   "metadata": {},
   "source": [
    "2. Write a Python program to print all disarium numbers between 1 to 100?"
   ]
  },
  {
   "cell_type": "code",
   "execution_count": 14,
   "id": "2505d8eb",
   "metadata": {},
   "outputs": [
    {
     "name": "stdout",
     "output_type": "stream",
     "text": [
      "Disarium numbers between 1 and 100:\n",
      "1\n",
      "2\n",
      "3\n",
      "4\n",
      "5\n",
      "6\n",
      "7\n",
      "8\n",
      "9\n",
      "89\n"
     ]
    }
   ],
   "source": [
    "def is_disarium(num):\n",
    "    sum = 0\n",
    "    for i in range(len(str(num))):\n",
    "        sum += int(str(num)[i])**(i+1)\n",
    "    if sum == num:\n",
    "        return True\n",
    "    else:\n",
    "        return False\n",
    "\n",
    "print(\"Disarium numbers between 1 and 100:\")\n",
    "for i in range(1, 101):\n",
    "    if is_disarium(i):\n",
    "        print(i)\n"
   ]
  },
  {
   "cell_type": "markdown",
   "id": "e6aaa2e5",
   "metadata": {},
   "source": [
    "3. Write a Python program to check if the given number is Happy Number?"
   ]
  },
  {
   "cell_type": "code",
   "execution_count": 20,
   "id": "01af4eca",
   "metadata": {},
   "outputs": [
    {
     "name": "stdout",
     "output_type": "stream",
     "text": [
      "Enter a number: 20\n",
      "20 is not a Happy number.\n"
     ]
    }
   ],
   "source": [
    "def is_happy(num):\n",
    "    while True:\n",
    "        sum = 0\n",
    "        for i in str(num):\n",
    "            sum += int(i)**2\n",
    "        if sum == 1:\n",
    "            return True\n",
    "        elif sum == num or sum == 4:\n",
    "            return False\n",
    "        else:\n",
    "            num = sum\n",
    "\n",
    "num = int(input(\"Enter a number: \"))\n",
    "if is_happy(num):\n",
    "    print(num, \"is a Happy number.\")\n",
    "else:\n",
    "    print(num, \"is not a Happy number.\")\n"
   ]
  },
  {
   "cell_type": "markdown",
   "id": "cd6c42ae",
   "metadata": {},
   "source": [
    "4. Write a Python program to print all happy numbers between 1 and 100?"
   ]
  },
  {
   "cell_type": "code",
   "execution_count": 21,
   "id": "f07dc015",
   "metadata": {},
   "outputs": [
    {
     "name": "stdout",
     "output_type": "stream",
     "text": [
      "Happy numbers between 1 and 100 are: [1, 7, 10, 13, 19, 23, 28, 31, 32, 44, 49, 68, 70, 79, 82, 86, 91, 94, 97, 100]\n"
     ]
    }
   ],
   "source": [
    "def is_happy(num):\n",
    "    while True:\n",
    "        sum = 0\n",
    "        for i in str(num):\n",
    "            sum += int(i)**2\n",
    "        if sum == 1:\n",
    "            return True\n",
    "        elif sum == num or sum == 4:\n",
    "            return False\n",
    "        else:\n",
    "            num = sum\n",
    "\n",
    "happy_numbers = []\n",
    "for num in range(1, 101):\n",
    "    if is_happy(num):\n",
    "        happy_numbers.append(num)\n",
    "\n",
    "print(\"Happy numbers between 1 and 100 are:\", happy_numbers)\n"
   ]
  },
  {
   "cell_type": "markdown",
   "id": "7a49083d",
   "metadata": {},
   "source": [
    "5. Write a Python program to determine whether the given number is a Harshad Number?"
   ]
  },
  {
   "cell_type": "code",
   "execution_count": null,
   "id": "2445e5bc",
   "metadata": {},
   "outputs": [],
   "source": [
    "def is_harshad(num):\n",
    "    sum_of_digits = sum(int(digit) for digit in str(num))\n",
    "    return num % sum_of_digits == 0\n",
    "\n",
    "num = int(input(\"Enter a number: \"))\n",
    "\n",
    "if is_harshad(num):\n",
    "    print(num, \"is a Harshad number.\")\n",
    "else:\n",
    "    print(num, \"is not a Harshad number.\")\n"
   ]
  },
  {
   "cell_type": "markdown",
   "id": "31665ab1",
   "metadata": {},
   "source": [
    "6. Write a Python program to print all pronic numbers between 1 and 100?"
   ]
  },
  {
   "cell_type": "code",
   "execution_count": 39,
   "id": "74f339f5",
   "metadata": {},
   "outputs": [
    {
     "name": "stdout",
     "output_type": "stream",
     "text": [
      "2\n",
      "6\n",
      "12\n",
      "20\n",
      "30\n",
      "42\n",
      "56\n",
      "72\n",
      "90\n"
     ]
    }
   ],
   "source": [
    "for num in range(1, 101):\n",
    "    for i in range(1, num):\n",
    "        if i * (i + 1) == num:\n",
    "            print(num)\n",
    "            break\n"
   ]
  },
  {
   "cell_type": "code",
   "execution_count": null,
   "id": "4ebabcec",
   "metadata": {},
   "outputs": [],
   "source": []
  }
 ],
 "metadata": {
  "kernelspec": {
   "display_name": "Python 3 (ipykernel)",
   "language": "python",
   "name": "python3"
  },
  "language_info": {
   "codemirror_mode": {
    "name": "ipython",
    "version": 3
   },
   "file_extension": ".py",
   "mimetype": "text/x-python",
   "name": "python",
   "nbconvert_exporter": "python",
   "pygments_lexer": "ipython3",
   "version": "3.9.13"
  }
 },
 "nbformat": 4,
 "nbformat_minor": 5
}
