{
 "cells": [
  {
   "cell_type": "markdown",
   "id": "f5ba4238",
   "metadata": {},
   "source": [
    "Answer-1"
   ]
  },
  {
   "cell_type": "code",
   "execution_count": 1,
   "id": "93a6bde3",
   "metadata": {},
   "outputs": [],
   "source": [
    "dict={}"
   ]
  },
  {
   "cell_type": "code",
   "execution_count": 2,
   "id": "a2c9342d",
   "metadata": {},
   "outputs": [
    {
     "data": {
      "text/plain": [
       "dict"
      ]
     },
     "execution_count": 2,
     "metadata": {},
     "output_type": "execute_result"
    }
   ],
   "source": [
    "type(dict)"
   ]
  },
  {
   "cell_type": "markdown",
   "id": "fa832b55",
   "metadata": {},
   "source": [
    "Answer-2"
   ]
  },
  {
   "cell_type": "code",
   "execution_count": 3,
   "id": "2777e294",
   "metadata": {},
   "outputs": [],
   "source": [
    "dicti={'foo':'42'}"
   ]
  },
  {
   "cell_type": "code",
   "execution_count": 5,
   "id": "b630ce3e",
   "metadata": {},
   "outputs": [
    {
     "data": {
      "text/plain": [
       "dict_values(['42'])"
      ]
     },
     "execution_count": 5,
     "metadata": {},
     "output_type": "execute_result"
    }
   ],
   "source": [
    "dicti.values()"
   ]
  },
  {
   "cell_type": "markdown",
   "id": "9da9ad08",
   "metadata": {},
   "source": [
    "Answer-3"
   ]
  },
  {
   "cell_type": "markdown",
   "id": "62ae64a7",
   "metadata": {},
   "source": [
    "a list refers to a collection of various index value pairs and a dictionary refers to a hashed structure of various \n",
    "pairs of keys and values."
   ]
  },
  {
   "cell_type": "markdown",
   "id": "539a1fa7",
   "metadata": {},
   "source": [
    "Answer-4"
   ]
  },
  {
   "cell_type": "code",
   "execution_count": 7,
   "id": "2dd0c404",
   "metadata": {},
   "outputs": [],
   "source": [
    "spam={'bar':100}"
   ]
  },
  {
   "cell_type": "code",
   "execution_count": 12,
   "id": "1c0448af",
   "metadata": {},
   "outputs": [
    {
     "ename": "KeyError",
     "evalue": "'foo'",
     "output_type": "error",
     "traceback": [
      "\u001b[1;31m---------------------------------------------------------------------------\u001b[0m",
      "\u001b[1;31mKeyError\u001b[0m                                  Traceback (most recent call last)",
      "Input \u001b[1;32mIn [12]\u001b[0m, in \u001b[0;36m<cell line: 1>\u001b[1;34m()\u001b[0m\n\u001b[1;32m----> 1\u001b[0m \u001b[43mspam\u001b[49m\u001b[43m[\u001b[49m\u001b[38;5;124;43m'\u001b[39;49m\u001b[38;5;124;43mfoo\u001b[39;49m\u001b[38;5;124;43m'\u001b[39;49m\u001b[43m]\u001b[49m\n",
      "\u001b[1;31mKeyError\u001b[0m: 'foo'"
     ]
    }
   ],
   "source": [
    "spam['foo'] #this will show a error as no key or value exist of this type key error it will show"
   ]
  },
  {
   "cell_type": "markdown",
   "id": "7fb0275f",
   "metadata": {},
   "source": [
    "Answer-5`"
   ]
  },
  {
   "cell_type": "markdown",
   "id": "7c87e975",
   "metadata": {},
   "source": [
    "There is no difference. The in operator checks whether a value exists as a key in the dictionary."
   ]
  },
  {
   "cell_type": "markdown",
   "id": "1298e142",
   "metadata": {},
   "source": [
    "Answer-6"
   ]
  },
  {
   "cell_type": "markdown",
   "id": "a2c20797",
   "metadata": {},
   "source": [
    "'cat' in spam checks whether there is a 'cat' key in the dictionary, \n",
    "while 'cat' in spam.values() checks whether there is a value 'cat' for one of the keys in spam."
   ]
  },
  {
   "cell_type": "markdown",
   "id": "253492a8",
   "metadata": {},
   "source": [
    "Anwer-7"
   ]
  },
  {
   "cell_type": "markdown",
   "id": "e48cfc8c",
   "metadata": {},
   "source": [
    "spam.setdefault('color','black')"
   ]
  },
  {
   "cell_type": "markdown",
   "id": "275d3df6",
   "metadata": {},
   "source": [
    "Answer-8"
   ]
  },
  {
   "cell_type": "markdown",
   "id": "f35a4487",
   "metadata": {},
   "source": [
    "pprint.pprint()"
   ]
  },
  {
   "cell_type": "code",
   "execution_count": null,
   "id": "26336e98",
   "metadata": {},
   "outputs": [],
   "source": []
  }
 ],
 "metadata": {
  "kernelspec": {
   "display_name": "Python 3 (ipykernel)",
   "language": "python",
   "name": "python3"
  },
  "language_info": {
   "codemirror_mode": {
    "name": "ipython",
    "version": 3
   },
   "file_extension": ".py",
   "mimetype": "text/x-python",
   "name": "python",
   "nbconvert_exporter": "python",
   "pygments_lexer": "ipython3",
   "version": "3.9.12"
  }
 },
 "nbformat": 4,
 "nbformat_minor": 5
}
