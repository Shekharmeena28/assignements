{
 "cells": [
  {
   "cell_type": "markdown",
   "id": "89e4da63",
   "metadata": {},
   "source": [
    "1. Write a Python Program to find sum of array?"
   ]
  },
  {
   "cell_type": "code",
   "execution_count": 5,
   "id": "3b98c8d7",
   "metadata": {},
   "outputs": [
    {
     "name": "stdout",
     "output_type": "stream",
     "text": [
      "sum of array is :30\n"
     ]
    }
   ],
   "source": [
    "def arr_sum(arr):\n",
    "    sum = 0\n",
    "    for i in arr:\n",
    "        sum+=i\n",
    "    return sum\n",
    "\n",
    "arr=[9,0,9,1,2,4,5]\n",
    "\n",
    "print(f\"sum of array is :{arr_sum(arr)}\")\n",
    "    \n",
    "    "
   ]
  },
  {
   "cell_type": "markdown",
   "id": "65e7ff6a",
   "metadata": {},
   "source": [
    "2. Write a Python Program to find largest element in an array?"
   ]
  },
  {
   "cell_type": "code",
   "execution_count": 11,
   "id": "48533bb1",
   "metadata": {},
   "outputs": [
    {
     "name": "stdout",
     "output_type": "stream",
     "text": [
      "Largest element in array: 50\n"
     ]
    }
   ],
   "source": [
    "def largest(arr):\n",
    "    largest=arr[0]\n",
    "    for i in range(1, len(arr)):\n",
    "        if arr[i] > largest:\n",
    "            largest = arr[i]\n",
    "    return largest\n",
    "\n",
    "arr = [10, 20, 30, 40, 50]\n",
    "print(\"Largest element in array:\", largest(arr))\n",
    "        "
   ]
  },
  {
   "cell_type": "markdown",
   "id": "e9a0ee6b",
   "metadata": {},
   "source": [
    "3. Write a Python Program for array rotation?"
   ]
  },
  {
   "cell_type": "code",
   "execution_count": 30,
   "id": "1306f420",
   "metadata": {},
   "outputs": [
    {
     "name": "stdout",
     "output_type": "stream",
     "text": [
      "Original array: [1, 2, 3, 4, 5]\n",
      "Rotated array: [3, 4, 5, 1, 2]\n"
     ]
    }
   ],
   "source": [
    "def rotate_array(arr, k):\n",
    "    n = len(arr)\n",
    "    k = k % n\n",
    "    arr = arr[k:] + arr[:k]\n",
    "    return arr\n",
    "\n",
    "arr = [1, 2, 3, 4, 5]\n",
    "k = 2\n",
    "rotated_arr = rotate_array(arr, k)\n",
    "print(\"Original array:\", arr)\n",
    "print(\"Rotated array:\", rotated_arr)"
   ]
  },
  {
   "cell_type": "markdown",
   "id": "2e7b47bd",
   "metadata": {},
   "source": [
    "4. Write a Python Program to Split the array and add the first part to the end?"
   ]
  },
  {
   "cell_type": "code",
   "execution_count": 34,
   "id": "672a1442",
   "metadata": {},
   "outputs": [
    {
     "name": "stdout",
     "output_type": "stream",
     "text": [
      "Original array: [4, 5, 6, 7, 8]\n",
      "New array: [6, 7, 8, 4, 5]\n"
     ]
    }
   ],
   "source": [
    "def split_add(arr, n):\n",
    "    first_part = arr[:n]\n",
    "    second_part = arr[n:]\n",
    "    new_arr = second_part + first_part\n",
    "    \n",
    "    return new_arr\n",
    "\n",
    "\n",
    "arr = [4,5,6,7,8]\n",
    "n=2\n",
    "new_arr = split_add(arr, n)\n",
    "print(\"Original array:\", arr)\n",
    "print(\"New array:\", new_arr)"
   ]
  },
  {
   "cell_type": "markdown",
   "id": "fd147a4f",
   "metadata": {},
   "source": [
    "5. Write a Python Program to check if given array is Monotonic?"
   ]
  },
  {
   "cell_type": "code",
   "execution_count": 36,
   "id": "5ad86f64",
   "metadata": {},
   "outputs": [
    {
     "name": "stdout",
     "output_type": "stream",
     "text": [
      "True\n",
      "True\n",
      "True\n",
      "True\n"
     ]
    }
   ],
   "source": [
    "def is_monotonic(arr):\n",
    "    # Check if the array is non-increasing\n",
    "    non_increasing = all(arr[i] >= arr[i+1] for i in range(len(arr)-1))\n",
    "\n",
    "    # Check if the array is non-decreasing\n",
    "    non_decreasing = all(arr[i] <= arr[i+1] for i in range(len(arr)-1))\n",
    "\n",
    "    # Return True if either condition is true\n",
    "    return non_increasing or non_decreasing\n",
    "\n",
    "arr1 = [1, 2, 3, 4, 5]\n",
    "arr2 = [5, 4, 3, 2, 1]\n",
    "arr3 = [1, 2, 2, 3, 4]\n",
    "arr4 = [1, 1, 1, 1, 1]\n",
    "\n",
    "print(is_monotonic(arr1))  # True\n",
    "print(is_monotonic(arr2))  # True\n",
    "print(is_monotonic(arr3))  # True\n",
    "print(is_monotonic(arr4))  # True\n"
   ]
  },
  {
   "cell_type": "code",
   "execution_count": null,
   "id": "e1b723c2",
   "metadata": {},
   "outputs": [],
   "source": []
  }
 ],
 "metadata": {
  "kernelspec": {
   "display_name": "Python 3 (ipykernel)",
   "language": "python",
   "name": "python3"
  },
  "language_info": {
   "codemirror_mode": {
    "name": "ipython",
    "version": 3
   },
   "file_extension": ".py",
   "mimetype": "text/x-python",
   "name": "python",
   "nbconvert_exporter": "python",
   "pygments_lexer": "ipython3",
   "version": "3.9.13"
  }
 },
 "nbformat": 4,
 "nbformat_minor": 5
}
