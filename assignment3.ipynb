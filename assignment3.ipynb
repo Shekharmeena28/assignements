{
 "cells": [
  {
   "cell_type": "markdown",
   "id": "5791a1e5",
   "metadata": {},
   "source": [
    "1. Why are functions advantageous to have in your programs?"
   ]
  },
  {
   "cell_type": "markdown",
   "id": "f9afefc2",
   "metadata": {},
   "source": [
    "Answer 1- Function eliminates the need of dupilcate codes. This makes the program more readable, easy to update and maintain it.\n",
    "we can use the function again and again by just calling it there is no limitation."
   ]
  },
  {
   "cell_type": "markdown",
   "id": "d01f3e8c",
   "metadata": {},
   "source": [
    "2. When does the code in a function run: when it's specified or when it's called?"
   ]
  },
  {
   "cell_type": "markdown",
   "id": "8e67d95e",
   "metadata": {},
   "source": [
    "Answer 2- The code in the function runs when it is called, it doesn't run when it is specified."
   ]
  },
  {
   "cell_type": "markdown",
   "id": "ee666e70",
   "metadata": {},
   "source": [
    "3. What statement creates a function?"
   ]
  },
  {
   "cell_type": "markdown",
   "id": "c43fdbf4",
   "metadata": {},
   "source": [
    "Answer 3- the 'def' statement creates the function. start the function by def keyword followed by nameoffunction()"
   ]
  },
  {
   "cell_type": "markdown",
   "id": "2257c3f2",
   "metadata": {},
   "source": [
    "4. What is the difference between a function and a function call?"
   ]
  },
  {
   "cell_type": "markdown",
   "id": "ce5c73db",
   "metadata": {},
   "source": [
    "Ans 4-a function can be defined as a block of code that does a particular operation and returns the result whereas \n",
    "function call is a code that is used to pass control to the function."
   ]
  },
  {
   "cell_type": "markdown",
   "id": "eb8c71e2",
   "metadata": {},
   "source": [
    "5. How many global scopes are there in a Python program? How many local scopes?"
   ]
  },
  {
   "cell_type": "markdown",
   "id": "75eee6f6",
   "metadata": {},
   "source": [
    "there is only one global scoper per program, that means a variable declared outside the function or in a global scope,it can be \n",
    "accessed inside the function.\n",
    "local scopes are declared inside the function which can't be used anywhere except the function which is it mentioned in.\n",
    "there can be multiple local variable and multiple global variables as per the need."
   ]
  },
  {
   "cell_type": "markdown",
   "id": "f01ed744",
   "metadata": {},
   "source": [
    "6. What happens to variables in a local scope when the function call returns?"
   ]
  },
  {
   "cell_type": "markdown",
   "id": "ccfec928",
   "metadata": {},
   "source": [
    "Answer 6- when the function terminated or its work is complete the local scope is destroyed, the memory used by the local is \n",
    "released"
   ]
  },
  {
   "cell_type": "markdown",
   "id": "e92d6bba",
   "metadata": {},
   "source": [
    "7. What is the concept of a return value? Is it possible to have a return value in an expression?"
   ]
  },
  {
   "cell_type": "markdown",
   "id": "979e117a",
   "metadata": {},
   "source": [
    "Answer 7-the concept of return value is to return the value from the oepration mentioned in the function and exit the function, it \n",
    "basically returns the result, it is mention as return followed by keyword.\n",
    "it is possible to use return value in maths expression or any other expression with a meaningful logic which can generate\n",
    "result"
   ]
  },
  {
   "cell_type": "markdown",
   "id": "08a86d13",
   "metadata": {},
   "source": [
    "8. If a function does not have a return statement, what is the return value of a call to that function?"
   ]
  },
  {
   "cell_type": "markdown",
   "id": "fe68da0a",
   "metadata": {},
   "source": [
    "Answer 8- if there is no return statement in the function the pyhton will always return the default value, the default value\n",
    "will always be none."
   ]
  },
  {
   "cell_type": "markdown",
   "id": "d4ac7199",
   "metadata": {},
   "source": [
    "9. How do you make a function variable refer to the global variable?"
   ]
  },
  {
   "cell_type": "markdown",
   "id": "cbdfa3d3",
   "metadata": {},
   "source": [
    "Answer 9- we can make a function variable refer to the global vairable  by using the 'global' keyword to make it global within\n",
    "the function."
   ]
  },
  {
   "cell_type": "markdown",
   "id": "02127c36",
   "metadata": {},
   "source": [
    "10. What is the data type of None?"
   ]
  },
  {
   "cell_type": "markdown",
   "id": "e9f482f0",
   "metadata": {},
   "source": [
    "Answer 10-the data type of none is Nonetype and it is used as null."
   ]
  },
  {
   "cell_type": "markdown",
   "id": "bd099f29",
   "metadata": {},
   "source": [
    "11. What does the sentence import areallyourpetsnamederic do?"
   ]
  },
  {
   "cell_type": "markdown",
   "id": "94faac35",
   "metadata": {},
   "source": [
    "Answer 11- this sentence will import the module named areallyourpetsnamederic as there no module exist of this name it will\n",
    "show error"
   ]
  },
  {
   "cell_type": "code",
   "execution_count": 7,
   "id": "56e78160",
   "metadata": {},
   "outputs": [
    {
     "name": "stderr",
     "output_type": "stream",
     "text": [
      "ERROR: Could not find a version that satisfies the requirement areallyourpetsnamederic (from versions: none)\n",
      "ERROR: No matching distribution found for areallyourpetsnamederic\n"
     ]
    }
   ],
   "source": [
    "!pip install areallyourpetsnamederic"
   ]
  },
  {
   "cell_type": "markdown",
   "id": "37e68b79",
   "metadata": {},
   "source": [
    "12. If you had a bacon() feature in a spam module, what would you call it after importing spam?"
   ]
  },
  {
   "cell_type": "markdown",
   "id": "94595932",
   "metadata": {},
   "source": [
    "Answer 12-the fucntion can be called by spam.bacon()"
   ]
  },
  {
   "cell_type": "markdown",
   "id": "7abaf6a2",
   "metadata": {},
   "source": [
    "13.What can you do to save a programme from crashing if it encounters an error?"
   ]
  },
  {
   "cell_type": "markdown",
   "id": "84325dd8",
   "metadata": {},
   "source": [
    "Answer 13-When it encounters an error, the control is passed to the except block, skipping the code in between.\n"
   ]
  },
  {
   "cell_type": "markdown",
   "id": "bd21316e",
   "metadata": {},
   "source": [
    "14. What is the purpose of the try clause? What is the purpose of the except clause?"
   ]
  },
  {
   "cell_type": "markdown",
   "id": "fd6623d6",
   "metadata": {},
   "source": [
    "Answer 14- try clause is used to test the block of code for error whereas except clause is used to handle the error."
   ]
  },
  {
   "cell_type": "code",
   "execution_count": null,
   "id": "2f381365",
   "metadata": {},
   "outputs": [],
   "source": []
  }
 ],
 "metadata": {
  "kernelspec": {
   "display_name": "Python 3 (ipykernel)",
   "language": "python",
   "name": "python3"
  },
  "language_info": {
   "codemirror_mode": {
    "name": "ipython",
    "version": 3
   },
   "file_extension": ".py",
   "mimetype": "text/x-python",
   "name": "python",
   "nbconvert_exporter": "python",
   "pygments_lexer": "ipython3",
   "version": "3.9.12"
  }
 },
 "nbformat": 4,
 "nbformat_minor": 5
}
