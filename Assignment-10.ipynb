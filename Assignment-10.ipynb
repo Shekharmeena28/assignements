{
 "cells": [
  {
   "cell_type": "markdown",
   "id": "c11b1d02",
   "metadata": {},
   "source": [
    "Answer-1"
   ]
  },
  {
   "cell_type": "markdown",
   "id": "97f04b11",
   "metadata": {},
   "source": [
    "While shutil. copy() will copy a single file, shutil. copytree() will copy an entire folder and every folder and file contained in it."
   ]
  },
  {
   "cell_type": "markdown",
   "id": "fceb5fb1",
   "metadata": {},
   "source": [
    "Answer-2"
   ]
  },
  {
   "cell_type": "markdown",
   "id": "10d39d0e",
   "metadata": {},
   "source": [
    "The shutil.move() function is used for renaming files, as well as moving them."
   ]
  },
  {
   "cell_type": "markdown",
   "id": "1254b676",
   "metadata": {},
   "source": [
    "Answer-3"
   ]
  },
  {
   "cell_type": "markdown",
   "id": "ecae3d4a",
   "metadata": {},
   "source": [
    "The send2trash functions will move a file or folder to the recycle bin, while shutil functions will permanently delete files and folders."
   ]
  },
  {
   "cell_type": "markdown",
   "id": "92ced01d",
   "metadata": {},
   "source": [
    "Answer-4"
   ]
  },
  {
   "cell_type": "markdown",
   "id": "26f1a42f",
   "metadata": {},
   "source": [
    "The zipfile.ZipFile() function is equivalent to the open() function; the first argument is the filename, and the second argument is the mode to open the ZIP file in (read, write, or append)."
   ]
  },
  {
   "cell_type": "markdown",
   "id": "a423b8db",
   "metadata": {},
   "source": [
    "Answer-5"
   ]
  },
  {
   "cell_type": "code",
   "execution_count": 1,
   "id": "073d4c61",
   "metadata": {},
   "outputs": [],
   "source": [
    "\n",
    "import os, shutil\n",
    "\n",
    "def selectiveCopy(folder, extensions, destFolder):\n",
    "\tfolder = os.path.abspath(folder)\n",
    "\tdestFolder = os.path.abspath(destFolder)\n",
    "\tprint('Looking in', folder, 'for files with extensions of', ', '.join(extensions))\n",
    "\tfor foldername, subfolders, filenames in os.walk(folder):\n",
    "\t\tfor filename in filenames:\n",
    "\t\t\tname, extension = os.path.splitext(filename)\n",
    "\t\t\tif extension in extensions:\n",
    "\t\t\t\tfileAbsPath = foldername + os.path.sep + filename\n",
    "\t\t\t\tprint('Coping', fileAbsPath, 'to', destFolder)\n",
    "\t\t\t\tshutil.copy(fileAbsPath, destFolder)\n",
    "\n",
    "extensions = ['.php', '.py']\n",
    "folder = 'randomFolder'\n",
    "destFolder = 'selectiveFolder'\n",
    "selectiveCopy(folder, extensions, destFolder)"
   ]
  },
  {
   "cell_type": "code",
   "execution_count": null,
   "id": "73068afd",
   "metadata": {},
   "outputs": [],
   "source": []
  },
  {
   "cell_type": "code",
   "execution_count": null,
   "id": "c482a96e",
   "metadata": {},
   "outputs": [],
   "source": []
  }
 ],
 "metadata": {
  "kernelspec": {
   "display_name": "Python 3 (ipykernel)",
   "language": "python",
   "name": "python3"
  },
  "language_info": {
   "codemirror_mode": {
    "name": "ipython",
    "version": 3
   },
   "file_extension": ".py",
   "mimetype": "text/x-python",
   "name": "python",
   "nbconvert_exporter": "python",
   "pygments_lexer": "ipython3",
   "version": "3.9.12"
  }
 },
 "nbformat": 4,
 "nbformat_minor": 5
}
