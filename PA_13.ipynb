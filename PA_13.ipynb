{
 "cells": [
  {
   "cell_type": "markdown",
   "id": "67c1ede3",
   "metadata": {},
   "source": [
    "Write a program that calculates and prints the value according to the given formula:\n",
    "Q = Square root of [(2 * C * D)/H]\n",
    "Following are the fixed values of C and H:\n",
    "C is 50. H is 30."
   ]
  },
  {
   "cell_type": "code",
   "execution_count": 5,
   "id": "240059dc",
   "metadata": {},
   "outputs": [
    {
     "name": "stdout",
     "output_type": "stream",
     "text": [
      "Enter the values of D separated by commas: 99, 34, 13\n",
      "Q = 18.16590212458495\n",
      "Q = 10.64581294844754\n",
      "Q = 6.582805886043833\n"
     ]
    }
   ],
   "source": [
    "import math\n",
    "\n",
    "C = 50\n",
    "H = 30\n",
    "\n",
    "input_str = input(\"Enter the values of D separated by commas: \")\n",
    "\n",
    "D_values = [int(x) for x in input_str.split(\",\")]\n",
    "\n",
    "for D in D_values:\n",
    "    Q = math.sqrt((2 * C * D) / H)\n",
    "    print(f\"Q = {Q}\")\n"
   ]
  },
  {
   "cell_type": "markdown",
   "id": "76e61bf2",
   "metadata": {},
   "source": [
    "2. Write a program which takes 2 digits, X,Y as input and generates a 2-dimensional array. The\n",
    "element value in the i-th row and j-th column of the array should be i*j."
   ]
  },
  {
   "cell_type": "code",
   "execution_count": 6,
   "id": "62f3a484",
   "metadata": {},
   "outputs": [
    {
     "name": "stdout",
     "output_type": "stream",
     "text": [
      "Enter the value of X: 3\n",
      "Enter the value of Y: 5\n",
      "[[0, 0, 0, 0, 0], [0, 1, 2, 3, 4], [0, 2, 4, 6, 8]]\n"
     ]
    }
   ],
   "source": [
    "X = int(input(\"Enter the value of X: \"))\n",
    "Y = int(input(\"Enter the value of Y: \"))\n",
    "\n",
    "array_2d = [[0 for j in range(Y)] for i in range(X)]\n",
    "\n",
    "for i in range(X):\n",
    "    for j in range(Y):\n",
    "        array_2d[i][j] = i * j\n",
    "\n",
    "print(array_2d)"
   ]
  },
  {
   "cell_type": "markdown",
   "id": "4e621db1",
   "metadata": {},
   "source": [
    "Question 3:\n",
    "Write a program that accepts a comma separated sequence of words as input and prints the\n",
    "words in a comma-separated sequence after sorting them alphabetically.\n",
    "Suppose the following input is supplied to the program:\n",
    "without,hello,bag,world\n",
    "Then, the output should be:\n",
    "bag,hello,without,world"
   ]
  },
  {
   "cell_type": "code",
   "execution_count": 7,
   "id": "5b7056bd",
   "metadata": {},
   "outputs": [
    {
     "name": "stdout",
     "output_type": "stream",
     "text": [
      "Enter a comma-separated sequence of words: without,hello,bag,world\n",
      "bag,hello,without,world\n"
     ]
    }
   ],
   "source": [
    "input_str = input(\"Enter a comma-separated sequence of words: \")\n",
    "\n",
    "words = input_str.split(\",\")\n",
    "\n",
    "sorted_words = sorted(words)\n",
    "\n",
    "output_str = \",\".join(sorted_words)\n",
    "print(output_str)\n"
   ]
  },
  {
   "cell_type": "markdown",
   "id": "7d58cddc",
   "metadata": {},
   "source": [
    "Question-4 Write a program that accepts a sequence of whitespace separated words as input and prints\n",
    "the words after removing all duplicate words and sorting them alphanumerically."
   ]
  },
  {
   "cell_type": "code",
   "execution_count": 11,
   "id": "9f3373f8",
   "metadata": {},
   "outputs": [
    {
     "name": "stdout",
     "output_type": "stream",
     "text": [
      "Enter a whitespace-separated sequence of words: hello world and practice makes perfect and hello world again\n",
      "again and hello makes perfect practice world\n"
     ]
    }
   ],
   "source": [
    "input_str = input(\"Enter a whitespace-separated sequence of words: \")\n",
    "words = input_str.split()\n",
    "\n",
    "unique_words = list(set(words))\n",
    "\n",
    "sorted_words = sorted(unique_words)\n",
    "\n",
    "output_str = \" \".join(sorted_words)\n",
    "\n",
    "print(output_str)\n"
   ]
  },
  {
   "cell_type": "markdown",
   "id": "24cc236e",
   "metadata": {},
   "source": [
    "Question 5:\n",
    "Write a program that accepts a sentence and calculate the number of letters and digits.\n",
    "Suppose the following input is supplied to the program:\n",
    "hello world! 123\n",
    "Then, the output should be:\n",
    "LETTERS 10"
   ]
  },
  {
   "cell_type": "code",
   "execution_count": 12,
   "id": "243f6b0d",
   "metadata": {},
   "outputs": [
    {
     "name": "stdout",
     "output_type": "stream",
     "text": [
      "Enter a sentence: universe is expanding still we cannot find 1 planet beside earth which has life, maybe this is a simulation, i am writing this code to help the simulation\n",
      "LETTERS 124\n",
      "DIGITS 1\n"
     ]
    }
   ],
   "source": [
    "input_str = input(\"Enter a sentence: \")\n",
    "num_letters = 0\n",
    "num_digits = 0\n",
    "\n",
    "for char in input_str:\n",
    "    if char.isalpha():\n",
    "        num_letters += 1\n",
    "    elif char.isdigit():\n",
    "        num_digits += 1\n",
    "\n",
    "print(\"LETTERS\", num_letters)\n",
    "print(\"DIGITS\", num_digits)\n"
   ]
  },
  {
   "cell_type": "markdown",
   "id": "c10fbcbd",
   "metadata": {},
   "source": [
    "Question-6 A website requires the users to input username and password to register. Write a program to\n",
    "check the validity of password input by users.\n",
    "Following are the criteria for checking the password:\n",
    "* At least 1 letter between [a-z]\n",
    "* At least 1 number between [0-9]\n",
    "* At least 1 letter between [A-Z]\n",
    "* At least 1 character from [$#@]\n",
    "* Minimum length of transaction password: 6\n",
    "* Maximum length of transaction password: 12"
   ]
  },
  {
   "cell_type": "code",
   "execution_count": 18,
   "id": "cc90fcbf",
   "metadata": {},
   "outputs": [
    {
     "name": "stdout",
     "output_type": "stream",
     "text": [
      "Enter a password: ABd1234@1\n",
      "Valid password\n"
     ]
    }
   ],
   "source": [
    "password = input(\"Enter a password: \")\n",
    "\n",
    "valid = True\n",
    "if len(password) < 6 or len(password) > 12:\n",
    "    valid = False\n",
    "if not any(char.islower() for char in password):\n",
    "    valid = False\n",
    "if not any(char.isupper() for char in password):\n",
    "    valid = False\n",
    "if not any(char.isdigit() for char in password):\n",
    "    valid = False\n",
    "if not any(char in ['$','#','@'] for char in password):\n",
    "    valid = False\n",
    "\n",
    "# Print the result\n",
    "if valid:\n",
    "    print(\"Valid password\")\n",
    "else:\n",
    "    print(\"Invalid password\")\n"
   ]
  },
  {
   "cell_type": "code",
   "execution_count": null,
   "id": "0bf7c0a5",
   "metadata": {},
   "outputs": [],
   "source": []
  }
 ],
 "metadata": {
  "kernelspec": {
   "display_name": "Python 3 (ipykernel)",
   "language": "python",
   "name": "python3"
  },
  "language_info": {
   "codemirror_mode": {
    "name": "ipython",
    "version": 3
   },
   "file_extension": ".py",
   "mimetype": "text/x-python",
   "name": "python",
   "nbconvert_exporter": "python",
   "pygments_lexer": "ipython3",
   "version": "3.9.13"
  }
 },
 "nbformat": 4,
 "nbformat_minor": 5
}
