{
 "cells": [
  {
   "cell_type": "markdown",
   "id": "fa97f706",
   "metadata": {},
   "source": [
    "1. Write a Python program to Extract Unique values dictionary values?"
   ]
  },
  {
   "cell_type": "code",
   "execution_count": 2,
   "id": "a73f5e2e",
   "metadata": {},
   "outputs": [
    {
     "name": "stdout",
     "output_type": "stream",
     "text": [
      "unique_values are:{1, 2, 3}\n"
     ]
    }
   ],
   "source": [
    "my_dict = {'a': 1, 'b': 2, 'c': 1, 'd': 3, 'e': 2}\n",
    "\n",
    "unique_values = set()\n",
    "\n",
    "for value in my_dict.values():\n",
    "    if value not in unique_values:\n",
    "        unique_values.add(value)\n",
    "        \n",
    "print(f\"unique_values are:{unique_values}\")"
   ]
  },
  {
   "cell_type": "markdown",
   "id": "623e74d1",
   "metadata": {},
   "source": [
    "2. Write a Python program to find the sum of all items in a dictionary?"
   ]
  },
  {
   "cell_type": "code",
   "execution_count": 9,
   "id": "07128234",
   "metadata": {},
   "outputs": [
    {
     "data": {
      "text/plain": [
       "9"
      ]
     },
     "execution_count": 9,
     "metadata": {},
     "output_type": "execute_result"
    }
   ],
   "source": [
    "my_dict = {'a': 1, 'b': 2, 'c': 1, 'd': 3, 'e': 2}\n",
    "total_sum = sum(my_dict.values())\n",
    "total_sum"
   ]
  },
  {
   "cell_type": "markdown",
   "id": "06e912e2",
   "metadata": {},
   "source": [
    "3. Write a Python program to Merging two Dictionaries?"
   ]
  },
  {
   "cell_type": "code",
   "execution_count": 13,
   "id": "a3023848",
   "metadata": {},
   "outputs": [
    {
     "data": {
      "text/plain": [
       "{'a': 1,\n",
       " 'b': 2,\n",
       " 'c': 1,\n",
       " 'd': 3,\n",
       " 'e': 2,\n",
       " 'f': 1,\n",
       " 'g': 2,\n",
       " 'h': 1,\n",
       " 'i': 3,\n",
       " 'j': 2}"
      ]
     },
     "execution_count": 13,
     "metadata": {},
     "output_type": "execute_result"
    }
   ],
   "source": [
    "my_dict = {'a': 1, 'b': 2, 'c': 1, 'd': 3, 'e': 2}\n",
    "my_dict2 = {'f': 1, 'g': 2, 'h': 1, 'i': 3, 'j': 2}\n",
    "\n",
    "merge = my_dict.copy()\n",
    "merge.update(my_dict2)\n",
    "\n",
    "merge"
   ]
  },
  {
   "cell_type": "markdown",
   "id": "2e94330c",
   "metadata": {},
   "source": [
    "4. Write a Python program to convert key-values list to flat dictionary?"
   ]
  },
  {
   "cell_type": "code",
   "execution_count": 15,
   "id": "e91a5238",
   "metadata": {},
   "outputs": [
    {
     "name": "stdout",
     "output_type": "stream",
     "text": [
      "Flat dictionary: {'a': 1, 'b': 2, 'c': 3, 'd': 4}\n"
     ]
    }
   ],
   "source": [
    "key_value_list = [('a', 1), ('b', 2), ('c', 3), ('d', 4)]\n",
    "\n",
    "flat_dict = {key: value for key, value in key_value_list}\n",
    "\n",
    "print(\"Flat dictionary:\", flat_dict)\n"
   ]
  },
  {
   "cell_type": "markdown",
   "id": "58a06939",
   "metadata": {},
   "source": [
    "5. Write a Python program to insertion at the beginning in OrderedDict?"
   ]
  },
  {
   "cell_type": "code",
   "execution_count": 17,
   "id": "7e26c96a",
   "metadata": {},
   "outputs": [
    {
     "name": "stdout",
     "output_type": "stream",
     "text": [
      "Modified ordered dictionary: OrderedDict([('d', 4), ('a', 1), ('b', 2), ('c', 3)])\n"
     ]
    }
   ],
   "source": [
    "from collections import OrderedDict\n",
    "\n",
    "ordered_dict = OrderedDict([('a', 1), ('b', 2), ('c', 3)])\n",
    "\n",
    "ordered_dict.update({'d': 4})\n",
    "ordered_dict.move_to_end('d', last=False)\n",
    "\n",
    "print(\"Modified ordered dictionary:\", ordered_dict)\n"
   ]
  },
  {
   "cell_type": "code",
   "execution_count": null,
   "id": "066112bd",
   "metadata": {},
   "outputs": [],
   "source": [
    "6. Write a Python program to check order of character in string using OrderedDict()?"
   ]
  },
  {
   "cell_type": "code",
   "execution_count": 18,
   "id": "cf55c3fe",
   "metadata": {},
   "outputs": [
    {
     "name": "stdout",
     "output_type": "stream",
     "text": [
      "Characters are in order!\n"
     ]
    }
   ],
   "source": [
    "from collections import OrderedDict\n",
    "\n",
    "input_str = \"hello world\"\n",
    "pattern = \"hlo\"\n",
    "\n",
    "pattern_dict = OrderedDict.fromkeys(pattern)\n",
    "last_index = 0\n",
    "\n",
    "for char in input_str:\n",
    "    if char in pattern_dict and input_str.index(char) < last_index:\n",
    "        print(\"Characters are not in order!\")\n",
    "        break\n",
    "    elif char in pattern_dict:\n",
    "        last_index = input_str.index(char)\n",
    "        pattern_dict.popitem(last=False)\n",
    "        \n",
    "if not pattern_dict:\n",
    "    print(\"Characters are in order!\")\n"
   ]
  },
  {
   "cell_type": "code",
   "execution_count": null,
   "id": "bfbf52e7",
   "metadata": {},
   "outputs": [],
   "source": [
    "7. Write a Python program to sort Python Dictionaries by Key or Value?"
   ]
  },
  {
   "cell_type": "code",
   "execution_count": 19,
   "id": "b94d9b74",
   "metadata": {},
   "outputs": [
    {
     "name": "stdout",
     "output_type": "stream",
     "text": [
      "{'apple': 3, 'banana': 1, 'cherry': 2}\n"
     ]
    }
   ],
   "source": [
    "my_dict = {'apple': 3, 'banana': 1, 'cherry': 2}\n",
    "sorted_dict = dict(sorted(my_dict.items(), key=lambda x: x[0]))\n",
    "\n",
    "print(sorted_dict)  \n"
   ]
  },
  {
   "cell_type": "code",
   "execution_count": 20,
   "id": "eb3b325d",
   "metadata": {},
   "outputs": [
    {
     "name": "stdout",
     "output_type": "stream",
     "text": [
      "{'banana': 1, 'cherry': 2, 'apple': 3}\n"
     ]
    }
   ],
   "source": [
    "my_dict = {'apple': 3, 'banana': 1, 'cherry': 2}\n",
    "sorted_dict = dict(sorted(my_dict.items(), key=lambda x: x[1]))\n",
    "\n",
    "print(sorted_dict)  \n"
   ]
  }
 ],
 "metadata": {
  "kernelspec": {
   "display_name": "Python 3 (ipykernel)",
   "language": "python",
   "name": "python3"
  },
  "language_info": {
   "codemirror_mode": {
    "name": "ipython",
    "version": 3
   },
   "file_extension": ".py",
   "mimetype": "text/x-python",
   "name": "python",
   "nbconvert_exporter": "python",
   "pygments_lexer": "ipython3",
   "version": "3.9.13"
  }
 },
 "nbformat": 4,
 "nbformat_minor": 5
}
