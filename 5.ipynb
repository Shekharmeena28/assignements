{
 "cells": [
  {
   "cell_type": "markdown",
   "id": "f45475de",
   "metadata": {},
   "source": [
    "Q1. What is the meaning of multiple inheritance?"
   ]
  },
  {
   "cell_type": "markdown",
   "id": "2747bb42",
   "metadata": {},
   "source": [
    "Multiple inheritance is a feature in object-oriented programming languages that allows a class to inherit attributes and methods from more than one parent class. In other words, a class in a multiple inheritance scenario can have multiple parent classes from which it inherits properties and behaviors.\n",
    "\n",
    "Here are some key points to understand about multiple inheritance:\n",
    "\n",
    "1. **Inheritance Hierarchy**: In a multiple inheritance hierarchy, a subclass can inherit attributes and methods from two or more base classes. This creates a complex hierarchy of classes, where each class may contribute its own set of attributes and methods to the subclass.\n",
    "\n",
    "2. **Diamond Problem**: One of the challenges associated with multiple inheritance is the \"diamond problem.\" This occurs when a subclass inherits from two or more classes that have a common base class. It can lead to ambiguity in method resolution, as the subclass may have multiple paths to access the same method from the common base class.\n",
    "\n",
    "3. **Method Resolution Order (MRO)**: In languages like Python, which support multiple inheritance, there is a method resolution order defined to determine the order in which base classes are searched when a method is called on an object. Python uses the C3 Linearization algorithm to establish a consistent method resolution order.\n",
    "\n",
    "4. **Mixins**: Multiple inheritance is often used to create mixin classes, which are small, reusable classes that provide specific sets of behaviors that can be mixed into other classes. This allows for code reuse and modular design.\n",
    "\n",
    "5. **Careful Design**: While multiple inheritance offers flexibility, it should be used with caution. Designing classes in a multiple inheritance hierarchy can become complex, and it's important to manage potential naming conflicts, ambiguity, and method resolution carefully.\n",
    "\n",
    "Here's a simple Python example to illustrate multiple inheritance:\n",
    "\n",
    "```python\n",
    "class Parent1:\n",
    "    def method1(self):\n",
    "        print(\"Method 1 from Parent1\")\n",
    "\n",
    "class Parent2:\n",
    "    def method2(self):\n",
    "        print(\"Method 2 from Parent2\")\n",
    "\n",
    "class Child(Parent1, Parent2):\n",
    "    def method3(self):\n",
    "        print(\"Method 3 from Child\")\n",
    "\n",
    "# Creating an instance of Child\n",
    "child = Child()\n",
    "\n",
    "# Accessing methods from multiple parents\n",
    "child.method1()  # Output: \"Method 1 from Parent1\"\n",
    "child.method2()  # Output: \"Method 2 from Parent2\"\n",
    "child.method3()  # Output: \"Method 3 from Child\"\n",
    "```\n",
    "\n",
    "In this example, the `Child` class inherits from both `Parent1` and `Parent2`, demonstrating the concept of multiple inheritance. The `Child` class can access methods from both parent classes, allowing it to inherit behaviors from both."
   ]
  },
  {
   "cell_type": "markdown",
   "id": "048a8df6",
   "metadata": {},
   "source": [
    "Q2. What is the concept of delegation?"
   ]
  },
  {
   "cell_type": "markdown",
   "id": "37d0793c",
   "metadata": {},
   "source": [
    "The concept of delegation in object-oriented programming refers to the practice of one object (the delegator) passing or forwarding a specific task or responsibility to another object (the delegate). Delegation is a design pattern that allows objects to collaborate and divide work among themselves, promoting code reuse and separation of concerns.\n",
    "\n",
    "Key points to understand about delegation:\n",
    "\n",
    "1. **Decomposition of Tasks**: Delegation allows you to decompose complex tasks into smaller, more manageable pieces. Each object involved in delegation is responsible for a specific aspect of the overall task.\n",
    "\n",
    "2. **Clear Responsibilities**: Delegation helps clarify the responsibilities of objects in a system. Each object knows what it should do and what tasks it should delegate to others.\n",
    "\n",
    "3. **Code Reusability**: Delegation encourages code reusability. Instead of duplicating code for similar tasks in multiple objects, you can have a single delegate object that handles the task and can be reused across different contexts.\n",
    "\n",
    "4. **Separation of Concerns**: Delegation promotes the separation of concerns in a system. Objects can focus on their primary responsibilities and delegate secondary tasks to other objects, improving code organization.\n",
    "\n",
    "5. **Flexibility**: Delegation allows you to change or extend the behavior of an object by replacing or modifying its delegate. This makes the system more flexible and adaptable.\n",
    "\n",
    "6. **Dynamic Behavior**: Delegation can be dynamic, meaning that the choice of delegate can change at runtime based on conditions or requirements.\n",
    "\n",
    "Delegation can be implemented using various techniques, such as method calls, callbacks, and interfaces. In some object-oriented programming languages like Python, you can use composition and delegation together to create objects that are composed of other objects and delegate specific tasks to those components.\n",
    "\n",
    "Here's a simple Python example to illustrate delegation:\n",
    "\n",
    "```python\n",
    "class Printer:\n",
    "    def print_document(self, document):\n",
    "        print(f\"Printing: {document}\")\n",
    "\n",
    "class Scanner:\n",
    "    def scan_document(self, document):\n",
    "        print(f\"Scanning: {document}\")\n",
    "\n",
    "class Photocopier:\n",
    "    def __init__(self):\n",
    "        self.printer = Printer()\n",
    "        self.scanner = Scanner()\n",
    "\n",
    "    def photocopy_document(self, document):\n",
    "        print(\"Photocopying:\")\n",
    "        self.scanner.scan_document(document)\n",
    "        self.printer.print_document(document)\n",
    "\n",
    "# Creating a Photocopier instance\n",
    "copier = Photocopier()\n",
    "\n",
    "# Using delegation to perform photocopying\n",
    "copier.photocopy_document(\"Sample Document\")\n",
    "```\n",
    "\n",
    "In this example:\n",
    "\n",
    "- The `Photocopier` class uses delegation to perform photocopying. It has a `Printer` object and a `Scanner` object as components.\n",
    "- When the `photocopy_document` method is called, it delegates the scanning task to the `Scanner` component and the printing task to the `Printer` component.\n",
    "- Delegation allows the `Photocopier` class to reuse the scanning and printing functionality provided by the `Scanner` and `Printer` classes, respectively, without duplicating code.\n",
    "\n",
    "Delegation is a powerful concept in object-oriented design that promotes modularity, code reusability, and clean separation of responsibilities among objects."
   ]
  },
  {
   "cell_type": "markdown",
   "id": "96bb0af2",
   "metadata": {},
   "source": [
    "Q3. What is the concept of composition?"
   ]
  },
  {
   "cell_type": "code",
   "execution_count": null,
   "id": "0239cf21",
   "metadata": {},
   "outputs": [],
   "source": []
  }
 ],
 "metadata": {
  "kernelspec": {
   "display_name": "Python 3 (ipykernel)",
   "language": "python",
   "name": "python3"
  },
  "language_info": {
   "codemirror_mode": {
    "name": "ipython",
    "version": 3
   },
   "file_extension": ".py",
   "mimetype": "text/x-python",
   "name": "python",
   "nbconvert_exporter": "python",
   "pygments_lexer": "ipython3",
   "version": "3.9.13"
  }
 },
 "nbformat": 4,
 "nbformat_minor": 5
}
