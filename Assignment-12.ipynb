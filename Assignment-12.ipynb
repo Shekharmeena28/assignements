{
 "cells": [
  {
   "cell_type": "markdown",
   "id": "60f2f44d",
   "metadata": {},
   "source": [
    "Answer-1"
   ]
  },
  {
   "cell_type": "markdown",
   "id": "8765a0a7",
   "metadata": {},
   "source": [
    "PdfFileReader() needs to be opened in read-binary mode by passing 'rb' as the second argument to open(). Likewise, the File object passed to PyPDF2. PdfFileWriter() needs to be opened in write-binary mode with 'wb'."
   ]
  },
  {
   "cell_type": "markdown",
   "id": "8a1b08e5",
   "metadata": {},
   "source": [
    "Answer-2"
   ]
  },
  {
   "cell_type": "markdown",
   "id": "3db18bb1",
   "metadata": {},
   "source": [
    "Calling getPage(4) will return a Page object for page 5 since page 0 is the first page"
   ]
  },
  {
   "cell_type": "markdown",
   "id": "19983309",
   "metadata": {},
   "source": [
    "Answer-3"
   ]
  },
  {
   "cell_type": "code",
   "execution_count": 2,
   "id": "d40936b1",
   "metadata": {},
   "outputs": [],
   "source": [
    "import PyPDF2 as pdf\n",
    "pdfFileObj = open(\"cardealer.pdf\",'rb')\n",
    "pdfReader = pdf.PdfFileReader(pdfFileObj)\n",
    "pdfReader.numPages"
   ]
  },
  {
   "cell_type": "markdown",
   "id": "95c5a228",
   "metadata": {},
   "source": [
    "Answer-4"
   ]
  },
  {
   "cell_type": "markdown",
   "id": "657b627f",
   "metadata": {},
   "source": [
    "Before we obtain the page object, the pdf has to be decrypted by calling .decrypt('swordfish')"
   ]
  },
  {
   "cell_type": "markdown",
   "id": "dfde6cd7",
   "metadata": {},
   "source": [
    "Answer-5"
   ]
  },
  {
   "cell_type": "markdown",
   "id": "9be07cea",
   "metadata": {},
   "source": [
    "pageObj.rotateClockwise(180)\n",
    "\n",
    "The rotateClockwise() and rotateCounterClockwise() methods. The degrees to rotate is passed as an integer argument"
   ]
  },
  {
   "cell_type": "markdown",
   "id": "7afe0d05",
   "metadata": {},
   "source": [
    "Answer-6"
   ]
  },
  {
   "cell_type": "markdown",
   "id": "41ea3854",
   "metadata": {},
   "source": [
    "Paragraph Object : A document contains multiple paragraphs. A paragraph begins on a new line and contains multiple runs. The Document object contains a list of Paragraph objects for the paragraphs in the document. (A new paragraph begins whenever the user presses ENTER or RETURN while typing in a Word document.)\n",
    "Run Objects : Runs are contiguous groups of characters within a paragraph with the same style"
   ]
  },
  {
   "cell_type": "markdown",
   "id": "4db5c2b6",
   "metadata": {},
   "source": [
    "Answer-7"
   ]
  },
  {
   "cell_type": "code",
   "execution_count": null,
   "id": "3f54deb2",
   "metadata": {},
   "outputs": [],
   "source": [
    "import docx\n",
    "doc = docx.Document('abc.docx')\n",
    "doc.paragraphs"
   ]
  },
  {
   "cell_type": "markdown",
   "id": "e3055170",
   "metadata": {},
   "source": [
    "Answer-8"
   ]
  },
  {
   "cell_type": "markdown",
   "id": "8368a9f1",
   "metadata": {},
   "source": [
    "A Run object has bold, underline,italic,strike and outline variables"
   ]
  },
  {
   "cell_type": "markdown",
   "id": "f02ce457",
   "metadata": {},
   "source": [
    "Answer-9"
   ]
  },
  {
   "cell_type": "markdown",
   "id": "764b61b3",
   "metadata": {},
   "source": [
    "Runs can be further styled using text attributes. Each attribute can be set to one of three values:\n",
    "True (the attribute is always enabled, no matter what other styles are applied to the run),\n",
    "False (the attribute is always disabled),\n",
    "None (defaults to whatever the run’s style is set to)\n",
    "\n",
    "True always makes the Run object bolded and False makes it always not bolded, no matter what the style’s bold setting is. None will make the Run object just use the style’s bold setting"
   ]
  },
  {
   "cell_type": "markdown",
   "id": "615d88eb",
   "metadata": {},
   "source": [
    "Answer-10"
   ]
  },
  {
   "cell_type": "markdown",
   "id": "881373ba",
   "metadata": {},
   "source": [
    " By Calling the docx.Document() function."
   ]
  },
  {
   "cell_type": "markdown",
   "id": "a6b03b64",
   "metadata": {},
   "source": [
    "Answer-11"
   ]
  },
  {
   "cell_type": "code",
   "execution_count": null,
   "id": "d7be6b5c",
   "metadata": {},
   "outputs": [],
   "source": [
    "import docx\n",
    "doc = docx.Document()\n",
    "\n",
    "doc.add_paragraph('Hello there!')\n",
    "doc.save('hellothere.docx')"
   ]
  },
  {
   "cell_type": "markdown",
   "id": "e3905cb1",
   "metadata": {},
   "source": [
    "Answer-12"
   ]
  },
  {
   "cell_type": "markdown",
   "id": "f912a0a3",
   "metadata": {},
   "source": [
    "integer from 0 to 4\n",
    "The arguments to add_heading() are a string of the heading text and an integer from 0 to 4. The integer 0 makes the heading the Title style, which is used for the top of the document. Integers 1 to 4 are for various heading levels, with 1 being the main heading and 4 the lowest subheading"
   ]
  },
  {
   "cell_type": "code",
   "execution_count": null,
   "id": "27834866",
   "metadata": {},
   "outputs": [],
   "source": []
  }
 ],
 "metadata": {
  "kernelspec": {
   "display_name": "Python 3 (ipykernel)",
   "language": "python",
   "name": "python3"
  },
  "language_info": {
   "codemirror_mode": {
    "name": "ipython",
    "version": 3
   },
   "file_extension": ".py",
   "mimetype": "text/x-python",
   "name": "python",
   "nbconvert_exporter": "python",
   "pygments_lexer": "ipython3",
   "version": "3.9.12"
  }
 },
 "nbformat": 4,
 "nbformat_minor": 5
}
