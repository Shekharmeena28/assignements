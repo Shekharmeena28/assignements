{
 "cells": [
  {
   "cell_type": "markdown",
   "id": "3ec27d63",
   "metadata": {},
   "source": [
    "1. What is the result of the code, and why?\n",
    "&gt;&gt;&gt; def func(a, b=6, c=8):\n",
    "print(a, b, c)\n",
    "&gt;&gt;&gt; func(1, 2)"
   ]
  },
  {
   "cell_type": "code",
   "execution_count": 3,
   "id": "f58246b6",
   "metadata": {},
   "outputs": [
    {
     "name": "stdout",
     "output_type": "stream",
     "text": [
      "1 2 8\n"
     ]
    }
   ],
   "source": [
    "def func(a, b=6, c=8):\n",
    "    print(a,b,c)\n",
    "\n",
    "func(1,2)"
   ]
  },
  {
   "cell_type": "markdown",
   "id": "49dbef02",
   "metadata": {},
   "source": [
    "In the function call func(1,2), the argument 1 is assigned to a and 2 is assigned to b since it is the second argument. Since the third argument is not provided, c retains its default value of 8."
   ]
  },
  {
   "cell_type": "markdown",
   "id": "68026028",
   "metadata": {},
   "source": [
    "2. What is the result of this code, and why?\n",
    "&gt;&gt;&gt; def func(a, b, c=5):\n",
    "print(a, b, c)\n",
    "&gt;&gt;&gt; func(1, c=3, b=2)"
   ]
  },
  {
   "cell_type": "code",
   "execution_count": 5,
   "id": "2032dadd",
   "metadata": {},
   "outputs": [
    {
     "name": "stdout",
     "output_type": "stream",
     "text": [
      "1 2 3\n"
     ]
    }
   ],
   "source": [
    "def func(a, b, c=5):\n",
    "    print(a,b,c)\n",
    "    \n",
    "    \n",
    "func(1,c=3, b=2)"
   ]
  },
  {
   "cell_type": "markdown",
   "id": "ad37a143",
   "metadata": {},
   "source": [
    "When the function is called with func(1, c=3, b=2), the value of 1 is assigned to a, the value of 2 is assigned to b, and the value of 3 is assigned to c, because c is explicitly assigned a value of 3 in the function call."
   ]
  },
  {
   "cell_type": "markdown",
   "id": "6bc10d8e",
   "metadata": {},
   "source": [
    "3. How about this code: what is its result, and why?\n",
    "&gt;&gt;&gt; def func(a, *pargs):\n",
    "print(a, pargs)\n",
    "&gt;&gt;&gt; func(1, 2, 3)"
   ]
  },
  {
   "cell_type": "code",
   "execution_count": 6,
   "id": "4362199b",
   "metadata": {},
   "outputs": [
    {
     "name": "stdout",
     "output_type": "stream",
     "text": [
      "1 (2, 3)\n"
     ]
    }
   ],
   "source": [
    "def func(a, *pargs):\n",
    "    print(a, pargs)\n",
    "    \n",
    "func(1,2,3)"
   ]
  },
  {
   "cell_type": "markdown",
   "id": "4be295e0",
   "metadata": {},
   "source": [
    "In the function call func(1, 2, 3), the value 1 is passed for parameter a, while the values 2 and 3 are passed as the positional arguments packed into the pargs tuple. When the function is called, it prints 1 for a, and (2, 3) for pargs."
   ]
  },
  {
   "cell_type": "markdown",
   "id": "49ed14c3",
   "metadata": {},
   "source": [
    "4. What does this code print, and why?\n",
    "&gt;&gt;&gt; def func(a, **kargs):\n",
    "print(a, kargs)\n",
    "&gt;&gt;&gt; func(a=1, c=3, b=2)"
   ]
  },
  {
   "cell_type": "code",
   "execution_count": 7,
   "id": "8c905319",
   "metadata": {},
   "outputs": [
    {
     "name": "stdout",
     "output_type": "stream",
     "text": [
      "1 {'c': 3, 'b': 2}\n"
     ]
    }
   ],
   "source": [
    "def func(a, **kargs):\n",
    "    print(a, kargs)\n",
    "    \n",
    "    \n",
    "func(a=1, c=3, b=2)\n",
    "\n",
    "\n"
   ]
  },
  {
   "cell_type": "markdown",
   "id": "0f3dc369",
   "metadata": {},
   "source": [
    "This function func takes an argument a and a variable number of keyword arguments **kargs. When calling the function, you can pass a value for a as a positional argument, and any number of additional keyword arguments as key=value pairs."
   ]
  },
  {
   "cell_type": "markdown",
   "id": "e2139d47",
   "metadata": {},
   "source": [
    "5. What gets printed by this, and explain?\n",
    "&gt;&gt;&gt; def func(a, b, c=8, d=5): print(a, b, c, d)\n",
    "&gt;&gt;&gt; func(1, *(5, 6))"
   ]
  },
  {
   "cell_type": "code",
   "execution_count": 8,
   "id": "f82f847c",
   "metadata": {},
   "outputs": [
    {
     "name": "stdout",
     "output_type": "stream",
     "text": [
      "1 5 6 5\n"
     ]
    }
   ],
   "source": [
    "def func(a, b, c=8, d=5):\n",
    "    print(a, b, c, d)\n",
    "    \n",
    "func(1, *(5, 6))\n",
    "    "
   ]
  },
  {
   "cell_type": "markdown",
   "id": "bdf1defc",
   "metadata": {},
   "source": [
    "When the func function is called with the arguments 1 and (5, 6) using the * operator, the first argument 1 is assigned to parameter a, and (5, 6) is unpacked and assigned to the next two positional parameters, b and c. Since there is no value for d, it takes its default value of 5."
   ]
  },
  {
   "cell_type": "markdown",
   "id": "2f15adfa",
   "metadata": {},
   "source": [
    "6. what is the result of this, and explain?\n",
    "&gt;&gt;&gt; def func(a, b, c): a = 2; b[0] = &#39;x&#39;; c[&#39;a&#39;] = &#39;y&#39;\n",
    "&gt;&gt;&gt; l=1; m=[1]; n={&#39;a&#39;:0}\n",
    "&gt;&gt;&gt; func(l, m, n)"
   ]
  },
  {
   "cell_type": "code",
   "execution_count": 10,
   "id": "ddc89923",
   "metadata": {},
   "outputs": [],
   "source": [
    "def func(a, b, c):\n",
    "    a = 2\n",
    "    b[0] = 'x'\n",
    "    c['a'] = 'y'\n",
    "\n",
    "l = 1\n",
    "m = [1]\n",
    "n = {'a': 0}"
   ]
  },
  {
   "cell_type": "code",
   "execution_count": 11,
   "id": "c90b6636",
   "metadata": {},
   "outputs": [
    {
     "name": "stdout",
     "output_type": "stream",
     "text": [
      "Before calling func(): 1 [1] {'a': 0}\n",
      "After calling func(): 1 ['x'] {'a': 'y'}\n"
     ]
    }
   ],
   "source": [
    "\n",
    "print('Before calling func():', l, m, n)\n",
    "\n",
    "func(l, m, n)\n",
    "\n",
    "print('After calling func():', l, m, n)"
   ]
  },
  {
   "cell_type": "code",
   "execution_count": null,
   "id": "03b19ce2",
   "metadata": {},
   "outputs": [],
   "source": []
  }
 ],
 "metadata": {
  "kernelspec": {
   "display_name": "Python 3 (ipykernel)",
   "language": "python",
   "name": "python3"
  },
  "language_info": {
   "codemirror_mode": {
    "name": "ipython",
    "version": 3
   },
   "file_extension": ".py",
   "mimetype": "text/x-python",
   "name": "python",
   "nbconvert_exporter": "python",
   "pygments_lexer": "ipython3",
   "version": "3.9.13"
  }
 },
 "nbformat": 4,
 "nbformat_minor": 5
}
