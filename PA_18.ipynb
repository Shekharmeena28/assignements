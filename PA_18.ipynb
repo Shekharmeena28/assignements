{
 "cells": [
  {
   "cell_type": "markdown",
   "id": "bd3b6f82",
   "metadata": {},
   "source": [
    "Question 1\n",
    "Create a function that takes a list of non-negative integers and strings and return a new list\n",
    "without the strings."
   ]
  },
  {
   "cell_type": "code",
   "execution_count": 17,
   "id": "8ca30713",
   "metadata": {},
   "outputs": [
    {
     "name": "stdout",
     "output_type": "stream",
     "text": [
      "[1, 2]\n",
      "[1, 0, 15]\n",
      "[1, 2, 123]\n"
     ]
    }
   ],
   "source": [
    "def filter_list(lst):\n",
    "    return [i for i in lst if type(i)==int]\n",
    "\n",
    "\n",
    "print(filter_list([1, 2, \"a\", \"b\"]))\n",
    "print(filter_list([1,\"a\",\"b\", 0, 15]))\n",
    "print(filter_list([1,2, \"aasf\",\"123\", \"1\", 123]))"
   ]
  },
  {
   "cell_type": "markdown",
   "id": "1516de5e",
   "metadata": {},
   "source": [
    "Question 2\n",
    "The &quot;Reverser&quot; takes a string as input and returns that string in reverse order, with the\n",
    "opposite case."
   ]
  },
  {
   "cell_type": "code",
   "execution_count": 44,
   "id": "c407b0fa",
   "metadata": {},
   "outputs": [
    {
     "name": "stdout",
     "output_type": "stream",
     "text": [
      "DLROw WOLLEh\n",
      "eSrEvEr\n",
      "RADAr\n"
     ]
    }
   ],
   "source": [
    "def Reverser(string):\n",
    "    string= string[::-1]\n",
    "    reversed_string =[char.swapcase() for char in string]\n",
    "    return \"\".join(reversed_string)\n",
    "\n",
    "\n",
    "print(Reverser(\"Hellow World\"))\n",
    "print(Reverser(\"ReVeRsE\"))\n",
    "print(Reverser(\"Radar\"))"
   ]
  },
  {
   "cell_type": "code",
   "execution_count": 45,
   "id": "f22db286",
   "metadata": {},
   "outputs": [],
   "source": [
    "\n",
    "first = lst[0]\n",
    "middle = lst[1:-1]\n",
    "last = lst[-1]"
   ]
  },
  {
   "cell_type": "markdown",
   "id": "d8a0122a",
   "metadata": {},
   "source": [
    "Question 3 -With Python 3, you can assign variables from lists in a much more succinct way. Create\n",
    "variables first, middle and last from the given list using destructuring assignment\n",
    "(check the Resources tab for some examples),"
   ]
  },
  {
   "cell_type": "code",
   "execution_count": 52,
   "id": "d887023f",
   "metadata": {},
   "outputs": [
    {
     "name": "stdout",
     "output_type": "stream",
     "text": [
      "1\n",
      "[2, 3, 4, 5]\n",
      "6\n"
     ]
    }
   ],
   "source": [
    "writeyourcodehere = [1, 2, 3, 4, 5, 6]\n",
    "first, *middle, last = writeyourcodehere\n",
    "print(first)    \n",
    "print(middle)   \n",
    "print(last)"
   ]
  },
  {
   "cell_type": "markdown",
   "id": "e876393a",
   "metadata": {},
   "source": [
    "Question 4\n",
    "Write a function that calculates the factorial of a number recursively."
   ]
  },
  {
   "cell_type": "code",
   "execution_count": 61,
   "id": "38824dd6",
   "metadata": {},
   "outputs": [],
   "source": [
    "def factorial(n):\n",
    "    if n == 0:\n",
    "        return 1\n",
    "    else:\n",
    "        return n * factorial(n-1)\n"
   ]
  },
  {
   "cell_type": "code",
   "execution_count": 65,
   "id": "301feed8",
   "metadata": {},
   "outputs": [
    {
     "name": "stdout",
     "output_type": "stream",
     "text": [
      "120\n",
      "6\n",
      "1\n",
      "1\n"
     ]
    }
   ],
   "source": [
    "print(factorial(5))\n",
    "print(factorial(3))\n",
    "print(factorial(1))\n",
    "print(factorial(0))"
   ]
  },
  {
   "cell_type": "markdown",
   "id": "f335c3ac",
   "metadata": {},
   "source": [
    "Question 5\n",
    "Write a function that moves all elements of one type to the end of the list."
   ]
  },
  {
   "cell_type": "code",
   "execution_count": 66,
   "id": "38a45213",
   "metadata": {},
   "outputs": [],
   "source": [
    "def move_to_end(lst, elem):\n",
    "    count = lst.count(elem)\n",
    "    lst[:] = [i for i in lst if i != elem]\n",
    "    lst += [elem] * count\n"
   ]
  },
  {
   "cell_type": "code",
   "execution_count": 70,
   "id": "2fc2f0e8",
   "metadata": {},
   "outputs": [],
   "source": [
    "lst=[1, 3, 2, 4, 4, 1]\n",
    "move_to_end(lst, 1)"
   ]
  },
  {
   "cell_type": "markdown",
   "id": "55c0e998",
   "metadata": {},
   "source": [
    "move_to_end([1, 3, 2, 4, 4, 1], 1) ➞ [3, 2, 4, 4, 1, 1]\n",
    "# Move all the 1s to the end of the array.\n",
    "move_to_end([7, 8, 9, 1, 2, 3, 4], 9) ➞ [7, 8, 1, 2, 3, 4, 9]\n",
    "move_to_end([&quot;a&quot;, &quot;a&quot;, &quot;a&quot;, &quot;b&quot;], &quot;a&quot;) ➞ [&quot;b&quot;, &quot;a&quot;, &quot;a&quot;, &quot;a&quot;]"
   ]
  },
  {
   "cell_type": "code",
   "execution_count": null,
   "id": "723167f9",
   "metadata": {},
   "outputs": [],
   "source": []
  }
 ],
 "metadata": {
  "kernelspec": {
   "display_name": "Python 3 (ipykernel)",
   "language": "python",
   "name": "python3"
  },
  "language_info": {
   "codemirror_mode": {
    "name": "ipython",
    "version": 3
   },
   "file_extension": ".py",
   "mimetype": "text/x-python",
   "name": "python",
   "nbconvert_exporter": "python",
   "pygments_lexer": "ipython3",
   "version": "3.9.13"
  }
 },
 "nbformat": 4,
 "nbformat_minor": 5
}
