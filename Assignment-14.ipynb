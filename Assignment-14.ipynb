{
 "cells": [
  {
   "cell_type": "markdown",
   "id": "032dd515",
   "metadata": {},
   "source": [
    "Answer-1"
   ]
  },
  {
   "cell_type": "markdown",
   "id": "c7b4cec7",
   "metadata": {},
   "source": [
    "RGBA(Red-Green-Blue-Alpha)"
   ]
  },
  {
   "cell_type": "markdown",
   "id": "9b6353fe",
   "metadata": {},
   "source": [
    "Answer-2"
   ]
  },
  {
   "cell_type": "code",
   "execution_count": 1,
   "id": "46b4f335",
   "metadata": {},
   "outputs": [],
   "source": [
    "#1.import the Image module from the Pillow library. from PIL import Image.\n",
    "#2.Open any image and get the RAGBAG values. img = Image.open('image.png') rgba = img.convert(“RGBA”) ...\n",
    "#3.Change the color. Data will be an Imaging Core object containing thousands of tuples of RGBA values. ...\n",
    "#4.tore the changed image."
   ]
  },
  {
   "cell_type": "markdown",
   "id": "7a8e4fa5",
   "metadata": {},
   "source": [
    "Answer-3"
   ]
  },
  {
   "cell_type": "markdown",
   "id": "bbdf4f00",
   "metadata": {},
   "source": [
    "The box. tuple submodule provides read-only access for the tuple userdata type. It allows, for a single tuple: selective retrieval of the field contents, retrieval of information about size, iteration over all the fields, and conversion to a Lua table. Below is a list of all box."
   ]
  },
  {
   "cell_type": "markdown",
   "id": "f2a550ce",
   "metadata": {},
   "source": [
    "ANswer-4"
   ]
  },
  {
   "cell_type": "code",
   "execution_count": 3,
   "id": "2ac5e4db",
   "metadata": {},
   "outputs": [
    {
     "name": "stdout",
     "output_type": "stream",
     "text": [
      "The height of the image is:  528\n",
      "The width of the image is:  960\n"
     ]
    }
   ],
   "source": [
    "from PIL import Image\n",
    "  \n",
    "# get image\n",
    "filepath = \"C:\\\\Users\\\\shekh\\\\Downloads\\MV5BODViMmZiZDgtNWE3OS00Nzk3LWFhN2EtNGFiZGU2ZjYxOGM0L2ltYWdlXkEyXkFqcGdeQXVyNjUwNzk3NDc@._V1_.jpg\"\n",
    "img = Image.open(filepath)\n",
    "  \n",
    "# get width and height\n",
    "width = img.width\n",
    "height = img.height\n",
    "  \n",
    "# display width and height\n",
    "print(\"The height of the image is: \", height)\n",
    "print(\"The width of the image is: \", width)"
   ]
  },
  {
   "cell_type": "markdown",
   "id": "6ad613aa",
   "metadata": {},
   "source": [
    "Answer-5"
   ]
  },
  {
   "cell_type": "markdown",
   "id": "00903be4",
   "metadata": {},
   "source": [
    "The image processing library Pillow (PIL) of Python provides Image. crop() for cutting out a partial area of an image."
   ]
  },
  {
   "cell_type": "markdown",
   "id": "5f748350",
   "metadata": {},
   "source": [
    "Answer-6"
   ]
  },
  {
   "cell_type": "code",
   "execution_count": null,
   "id": "04c99e4d",
   "metadata": {},
   "outputs": [],
   "source": [
    "from PIL import Image \n",
    "import PIL \n",
    "  \n",
    "# creating a image object (main image) \n",
    "im1 = Image.open(r\"C:\\Users\\System-Pc\\Desktop\\flower1.jpg\") \n",
    "  \n",
    "# save a image using extension\n",
    "im1 = im1.save(\"geeks.jpg\")"
   ]
  },
  {
   "cell_type": "markdown",
   "id": "30484ec7",
   "metadata": {},
   "source": [
    "ANswer-7"
   ]
  },
  {
   "cell_type": "code",
   "execution_count": null,
   "id": "19e108d3",
   "metadata": {},
   "outputs": [],
   "source": [
    "from PIL import Image, ImageDraw\n",
    "\n",
    "im = Image.new('RGB', (500, 300), (128, 128, 128))\n",
    "draw = ImageDraw.Draw(im)"
   ]
  },
  {
   "cell_type": "markdown",
   "id": "bbd8ff46",
   "metadata": {},
   "source": [
    "Answer-8"
   ]
  },
  {
   "cell_type": "code",
   "execution_count": null,
   "id": "0dea8e7c",
   "metadata": {},
   "outputs": [],
   "source": [
    "They have shape drawing methods like line(), point(), rectangle()\n",
    "ImageDraw.Draw() function can be used."
   ]
  }
 ],
 "metadata": {
  "kernelspec": {
   "display_name": "Python 3 (ipykernel)",
   "language": "python",
   "name": "python3"
  },
  "language_info": {
   "codemirror_mode": {
    "name": "ipython",
    "version": 3
   },
   "file_extension": ".py",
   "mimetype": "text/x-python",
   "name": "python",
   "nbconvert_exporter": "python",
   "pygments_lexer": "ipython3",
   "version": "3.9.12"
  }
 },
 "nbformat": 4,
 "nbformat_minor": 5
}
