{
 "cells": [
  {
   "cell_type": "markdown",
   "id": "044f4e2d",
   "metadata": {},
   "source": [
    "Answer-1"
   ]
  },
  {
   "cell_type": "markdown",
   "id": "922f80b9",
   "metadata": {},
   "source": [
    "In Excel, spreadsheets can have values of data types other than strings; cells can have different fonts, sizes, or color settings; cells can have varying widths and heights; adjacent cells can be merged; and you can embed images and charts."
   ]
  },
  {
   "cell_type": "markdown",
   "id": "846a53cd",
   "metadata": {},
   "source": [
    "Answer-2"
   ]
  },
  {
   "cell_type": "markdown",
   "id": "88c6faaa",
   "metadata": {},
   "source": [
    "You pass a File object, obtained from a call to open()."
   ]
  },
  {
   "cell_type": "markdown",
   "id": "c99ba081",
   "metadata": {},
   "source": [
    "Answer-3"
   ]
  },
  {
   "cell_type": "markdown",
   "id": "ff060720",
   "metadata": {},
   "source": [
    "File objects need to be opened in read-binary ('rb') for Reader objects and write-binary ('wb') for Writer objects."
   ]
  },
  {
   "cell_type": "markdown",
   "id": "9fd9e9df",
   "metadata": {},
   "source": [
    "Answer-4"
   ]
  },
  {
   "cell_type": "markdown",
   "id": "47b78732",
   "metadata": {},
   "source": [
    "The writerow() method"
   ]
  },
  {
   "cell_type": "markdown",
   "id": "26451270",
   "metadata": {},
   "source": [
    "Answer-5"
   ]
  },
  {
   "cell_type": "markdown",
   "id": "98359552",
   "metadata": {},
   "source": [
    "The delimiter is the character that appears between cells on a row. By default, the delimiter for a CSV file is a comma. The line terminator is the character that comes at the end of a row. By default, the line terminator is a newline"
   ]
  },
  {
   "cell_type": "markdown",
   "id": "e9938ced",
   "metadata": {},
   "source": [
    "Answer-6"
   ]
  },
  {
   "cell_type": "markdown",
   "id": "b595429e",
   "metadata": {},
   "source": [
    "json.loads()"
   ]
  },
  {
   "cell_type": "markdown",
   "id": "4d3ae9d1",
   "metadata": {},
   "source": [
    "Answer-7"
   ]
  },
  {
   "cell_type": "markdown",
   "id": "2ad80c0e",
   "metadata": {},
   "source": [
    "json.dumps()"
   ]
  },
  {
   "cell_type": "code",
   "execution_count": null,
   "id": "1da393dd",
   "metadata": {},
   "outputs": [],
   "source": []
  }
 ],
 "metadata": {
  "kernelspec": {
   "display_name": "Python 3 (ipykernel)",
   "language": "python",
   "name": "python3"
  },
  "language_info": {
   "codemirror_mode": {
    "name": "ipython",
    "version": 3
   },
   "file_extension": ".py",
   "mimetype": "text/x-python",
   "name": "python",
   "nbconvert_exporter": "python",
   "pygments_lexer": "ipython3",
   "version": "3.9.12"
  }
 },
 "nbformat": 4,
 "nbformat_minor": 5
}
