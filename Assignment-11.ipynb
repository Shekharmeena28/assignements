{
 "cells": [
  {
   "cell_type": "markdown",
   "id": "231c7236",
   "metadata": {},
   "source": [
    "Answer-1"
   ]
  },
  {
   "cell_type": "markdown",
   "id": "9ad58c22",
   "metadata": {},
   "source": [
    "assert spam >= 10, 'The spam variable is less than 10.'"
   ]
  },
  {
   "cell_type": "markdown",
   "id": "78663c68",
   "metadata": {},
   "source": [
    "Answer-2"
   ]
  },
  {
   "cell_type": "markdown",
   "id": "0c8592ac",
   "metadata": {},
   "source": [
    "assert eggs.lower() != bacon.lower(), 'The eggs and bacon variables are the same!' or assert eggs.upper() != bacon.upper(), 'The eggs and bacon variables are the same!'"
   ]
  },
  {
   "cell_type": "markdown",
   "id": "5a2f1613",
   "metadata": {},
   "source": [
    "Answer-3"
   ]
  },
  {
   "cell_type": "markdown",
   "id": "e4b9c81d",
   "metadata": {},
   "source": [
    "assert False, 'This assertion always triggers.'"
   ]
  },
  {
   "cell_type": "markdown",
   "id": "42138407",
   "metadata": {},
   "source": [
    "ANswer-4"
   ]
  },
  {
   "cell_type": "code",
   "execution_count": 2,
   "id": "5b681c2a",
   "metadata": {},
   "outputs": [],
   "source": [
    "import logging\n",
    "logging.basicConfig(level=logging.DEBUG, format=' %(asctime)s -%(levelname)s - %(message)s')"
   ]
  },
  {
   "cell_type": "markdown",
   "id": "6f90bbf3",
   "metadata": {},
   "source": [
    "Answer-5"
   ]
  },
  {
   "cell_type": "code",
   "execution_count": 4,
   "id": "b0794ed9",
   "metadata": {},
   "outputs": [],
   "source": [
    "To be able to send logging messages to a file named programLog.txt with logging.debug(), \n",
    "you must have these two lines at the start of your program:\n",
    "\n",
    "import logging\n",
    "\n",
    "logging.basicConfig(filename='programLog.txt', level=logging.DEBUG,format=' %(asctime)s - %(levelname)s - %(message)s')"
   ]
  },
  {
   "cell_type": "markdown",
   "id": "190f6552",
   "metadata": {},
   "source": [
    "Answer-6"
   ]
  },
  {
   "cell_type": "markdown",
   "id": "5f62fe32",
   "metadata": {},
   "source": [
    "DEBUG, INFO, WARNING, ERROR, and CRITICAL"
   ]
  },
  {
   "cell_type": "markdown",
   "id": "14c4892f",
   "metadata": {},
   "source": [
    "Answer-7"
   ]
  },
  {
   "cell_type": "markdown",
   "id": "781d20aa",
   "metadata": {},
   "source": [
    "logging.disable(logging.CRITICAL)"
   ]
  },
  {
   "cell_type": "markdown",
   "id": "2dc7cb94",
   "metadata": {},
   "source": [
    "Answer-8"
   ]
  },
  {
   "cell_type": "markdown",
   "id": "55d8b10b",
   "metadata": {},
   "source": [
    "You can disable logging messages without removing the logging function calls. You can selectively disable lower-level logging messages. You can create logging messages. Logging messages provides a timestamp."
   ]
  },
  {
   "cell_type": "markdown",
   "id": "e5ba2920",
   "metadata": {},
   "source": [
    "Answer-9"
   ]
  },
  {
   "cell_type": "markdown",
   "id": "41b32875",
   "metadata": {},
   "source": [
    "The Step button will move the debugger into a function call. The Over button will quickly execute the function call without stepping into it. The Out button will quickly execute the rest of the code until it steps out of the function it currently is in."
   ]
  },
  {
   "cell_type": "markdown",
   "id": "a415ea3b",
   "metadata": {},
   "source": [
    "Answer-10"
   ]
  },
  {
   "cell_type": "markdown",
   "id": "0a99aaa3",
   "metadata": {},
   "source": [
    "Continue execution until the current function returns. Continue execution, only stop when a breakpoint is encountered."
   ]
  },
  {
   "cell_type": "markdown",
   "id": "afd0a3f1",
   "metadata": {},
   "source": [
    "Answer-11"
   ]
  },
  {
   "cell_type": "markdown",
   "id": "2a488f8c",
   "metadata": {},
   "source": [
    "A breakpoint is a setting on a line of code that causes the debugger to pause when the program execution reaches the line."
   ]
  },
  {
   "cell_type": "code",
   "execution_count": null,
   "id": "8ff262ed",
   "metadata": {},
   "outputs": [],
   "source": []
  }
 ],
 "metadata": {
  "kernelspec": {
   "display_name": "Python 3 (ipykernel)",
   "language": "python",
   "name": "python3"
  },
  "language_info": {
   "codemirror_mode": {
    "name": "ipython",
    "version": 3
   },
   "file_extension": ".py",
   "mimetype": "text/x-python",
   "name": "python",
   "nbconvert_exporter": "python",
   "pygments_lexer": "ipython3",
   "version": "3.9.12"
  }
 },
 "nbformat": 4,
 "nbformat_minor": 5
}
