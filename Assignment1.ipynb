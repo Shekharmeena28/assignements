{
 "cells": [
  {
   "cell_type": "markdown",
   "id": "6d6a5958-732a-4655-9cb7-bf5cdaba2e4a",
   "metadata": {},
   "source": [
    "Assignment 1"
   ]
  },
  {
   "cell_type": "markdown",
   "id": "e52fefe8-4985-49e0-8964-5ffa188b33ed",
   "metadata": {},
   "source": [
    "ANSWER -1"
   ]
  },
  {
   "cell_type": "markdown",
   "id": "eb76e139-5a37-4ab3-9b4c-a5d17f3ad819",
   "metadata": {},
   "source": [
    "* is a expression or operator it is used for multiplication"
   ]
  },
  {
   "cell_type": "markdown",
   "id": "fe2d6078-24d5-4d0e-ba53-152a5f5e4165",
   "metadata": {},
   "source": [
    "'hello' is a string hence it falls under the category of value"
   ]
  },
  {
   "cell_type": "markdown",
   "id": "2f6cb6ba-9d6f-4b20-8ba4-960584c97b4c",
   "metadata": {},
   "source": [
    "-87.8 it is value"
   ]
  },
  {
   "cell_type": "markdown",
   "id": "64bd070d-c647-44e6-b6e3-8b6b4e216f3a",
   "metadata": {
    "tags": []
   },
   "source": [
    "/ is an expression"
   ]
  },
  {
   "cell_type": "markdown",
   "id": "ad3155b5-0ea4-45bc-87cd-599c49d9a6c3",
   "metadata": {},
   "source": [
    "+ is an expression "
   ]
  },
  {
   "cell_type": "markdown",
   "id": "e5e2c978-7ad9-4403-8d9c-b09649022417",
   "metadata": {},
   "source": [
    "6 it is a value"
   ]
  },
  {
   "cell_type": "markdown",
   "id": "571ca555-9f28-4540-8cc6-b24d8a7b6bb0",
   "metadata": {},
   "source": [
    "ANSWER - 2"
   ]
  },
  {
   "cell_type": "markdown",
   "id": "b3fb0e08-c984-4531-996f-54ce0a1ce49a",
   "metadata": {},
   "source": [
    " The difference between string and variable is that in variable we store the information and string is type information we store in a variable.\n",
    " for example  name ='shekhar' here name is the variable and shekhar is the string type information"
   ]
  },
  {
   "cell_type": "markdown",
   "id": "a470a52f-6adb-4010-8a2b-074363244f8c",
   "metadata": {},
   "source": [
    "ANSWER - 3"
   ]
  },
  {
   "cell_type": "markdown",
   "id": "70e0446f-f315-48a3-8727-ad96425a5763",
   "metadata": {},
   "source": [
    "We have int as the data type in python which can store integer value, this comes under numeric data type"
   ]
  },
  {
   "cell_type": "markdown",
   "id": "076b479e-02d2-47d0-9506-1f14b80c0350",
   "metadata": {},
   "source": [
    "we have boolean data type in python which is true and false"
   ]
  },
  {
   "cell_type": "markdown",
   "id": "61c62b45-7c0d-4be2-9c7c-4669f0bd7dc0",
   "metadata": {},
   "source": [
    "we have set and seqeunce data type in python."
   ]
  },
  {
   "cell_type": "markdown",
   "id": "96dac7d7-09e4-4dfe-a953-c145e9fbea5f",
   "metadata": {},
   "source": [
    "ANSWER - 4"
   ]
  },
  {
   "cell_type": "markdown",
   "id": "b78546dd-abc3-451e-9f0c-8e10bebd63f1",
   "metadata": {},
   "source": [
    "An expression is the combination of operators and operands that is used to produce some values, they are constructed according to the syntax of\n",
    "the language, that evaluates to single value.for example:( +, -, *,etc) they are all expressions"
   ]
  },
  {
   "cell_type": "markdown",
   "id": "42691a23-814a-4969-ae57-bc67e5a8922e",
   "metadata": {},
   "source": [
    "ANSWER - 5\n"
   ]
  },
  {
   "cell_type": "markdown",
   "id": "e6d7532d-771f-4da2-82cc-308b83601884",
   "metadata": {},
   "source": [
    "spam=10, here spam is a variable and 10 is the value\n",
    "an Expression always evaluates to a value. \n",
    "and a statement does something, like creating a variable or displaying a value, it only does whatever the statement says"
   ]
  },
  {
   "cell_type": "markdown",
   "id": "e259bb4e-69b2-4508-8a61-7caa2c5582e6",
   "metadata": {},
   "source": [
    "ANSWER - 6"
   ]
  },
  {
   "cell_type": "markdown",
   "id": "99798d86-38e7-42a4-8753-4bcae60fdfa2",
   "metadata": {},
   "source": [
    "bacon=22"
   ]
  },
  {
   "cell_type": "markdown",
   "id": "3e77934c-de54-42e6-8491-e9d1dae5899b",
   "metadata": {},
   "source": [
    "bacon+1"
   ]
  },
  {
   "cell_type": "markdown",
   "id": "d67d013f-4320-444c-8378-78d95426460e",
   "metadata": {},
   "source": [
    "bacon"
   ]
  },
  {
   "cell_type": "markdown",
   "id": "a1154355-8b94-4da6-85e6-cdee2e49ad15",
   "metadata": {},
   "source": [
    "ANSWER-7"
   ]
  },
  {
   "cell_type": "markdown",
   "id": "6a5741bb-7b3d-4fe7-861e-e745518cc02f",
   "metadata": {},
   "source": [
    "'samp'+'spamspam'"
   ]
  },
  {
   "cell_type": "markdown",
   "id": "a98dc0c9-bae2-47ae-9ac6-86996d0533fa",
   "metadata": {},
   "source": [
    "'samp'*3\n"
   ]
  },
  {
   "cell_type": "markdown",
   "id": "fd0cb5ba-e135-4efe-a2ef-7a3cbe5bd9d0",
   "metadata": {},
   "source": [
    " the results are same for both above"
   ]
  },
  {
   "cell_type": "markdown",
   "id": "3b4d8fc5-e2d6-4254-8196-a6bbee1513c0",
   "metadata": {},
   "source": [
    "ANSWER - 8"
   ]
  },
  {
   "cell_type": "markdown",
   "id": "faf74428-e1d8-4053-8c70-8e2df66c7c00",
   "metadata": {},
   "source": [
    "because the variable name cannot begin with the number as we assign values to the variable which can be of any data type, 3three='string', as 3three it is invalid because it starts with 3 as valid will three3 as variable name starts with alphabet\n",
    "have given the name to the variable which is not valid."
   ]
  },
  {
   "cell_type": "markdown",
   "id": "14d9dae5-2052-4f02-8a1e-3437c2d604eb",
   "metadata": {},
   "source": [
    "ANSWER - 9"
   ]
  },
  {
   "cell_type": "markdown",
   "id": "797d870f-ef01-435a-9980-662aea93391d",
   "metadata": {},
   "source": [
    "for integer it is int()\n",
    "for string it is str()\n",
    "for float it is float()"
   ]
  },
  {
   "cell_type": "markdown",
   "id": "b41d18de-de31-4905-b4f5-118b7e477a47",
   "metadata": {},
   "source": [
    "ANSWER 10"
   ]
  },
  {
   "cell_type": "markdown",
   "id": "03d6750d-8607-4f8b-8450-98bfba2b0029",
   "metadata": {},
   "source": [
    "'i have eaten' +99+ 'burritos.'"
   ]
  },
  {
   "cell_type": "markdown",
   "id": "b5a72785-a4a0-484b-a27b-4a7e7ac193dc",
   "metadata": {},
   "source": [
    "as it will show error because 99 is the integer type and (i have eaten, burritos) is string type, we haven't mention the 99 value type as python interpretor cannot take this correction of this will be"
   ]
  },
  {
   "cell_type": "markdown",
   "id": "c6c7c93c-8cae-4e94-b127-b873c91790ce",
   "metadata": {},
   "source": [
    "' i have eaten +99+ burritos'"
   ]
  },
  {
   "cell_type": "markdown",
   "id": "02ce65a5-eb5e-488a-9363-96d0a50ee2de",
   "metadata": {},
   "source": []
  }
 ],
 "metadata": {
  "kernelspec": {
   "display_name": "Python 3 (ipykernel)",
   "language": "python",
   "name": "python3"
  },
  "language_info": {
   "codemirror_mode": {
    "name": "ipython",
    "version": 3
   },
   "file_extension": ".py",
   "mimetype": "text/x-python",
   "name": "python",
   "nbconvert_exporter": "python",
   "pygments_lexer": "ipython3",
   "version": "3.9.12"
  }
 },
 "nbformat": 4,
 "nbformat_minor": 5
}
