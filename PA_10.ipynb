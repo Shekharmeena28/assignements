{
 "cells": [
  {
   "cell_type": "markdown",
   "id": "c9622e4a",
   "metadata": {},
   "source": [
    "1. Write a Python program to find sum of elements in list?"
   ]
  },
  {
   "cell_type": "code",
   "execution_count": 3,
   "id": "e5969e1a",
   "metadata": {},
   "outputs": [
    {
     "name": "stdout",
     "output_type": "stream",
     "text": [
      "sum of the list element is :21\n"
     ]
    }
   ],
   "source": [
    "l=[1,3,4,6,7]\n",
    "sum=0\n",
    "for i in l:\n",
    "    sum+=i\n",
    "    \n",
    "print(f\"sum of the list element is :{sum}\")\n",
    "    \n",
    "    "
   ]
  },
  {
   "cell_type": "markdown",
   "id": "9ba1d5a8",
   "metadata": {},
   "source": [
    "2. Write a Python program to Multiply all numbers in the list?"
   ]
  },
  {
   "cell_type": "code",
   "execution_count": 4,
   "id": "57507bb0",
   "metadata": {},
   "outputs": [
    {
     "name": "stdout",
     "output_type": "stream",
     "text": [
      "sum of the list element is :504\n"
     ]
    }
   ],
   "source": [
    "l=[1,3,4,6,7]\n",
    "product=1\n",
    "for i in l:\n",
    "    product*=i\n",
    "    \n",
    "print(f\"sum of the list element is :{product}\")\n",
    "    \n",
    "    "
   ]
  },
  {
   "cell_type": "markdown",
   "id": "fd81447b",
   "metadata": {},
   "source": [
    "3. Write a Python program to find smallest number in a list?"
   ]
  },
  {
   "cell_type": "code",
   "execution_count": 10,
   "id": "10679ae5",
   "metadata": {},
   "outputs": [
    {
     "name": "stdout",
     "output_type": "stream",
     "text": [
      "smallest number in the list is :1\n"
     ]
    }
   ],
   "source": [
    "l=[3,2,7,8,9,1]\n",
    "smallest=l[0]\n",
    "\n",
    "for num in l:\n",
    "    if num < smallest:\n",
    "        smallest = num\n",
    "print(f\"smallest number in the list is :{smallest}\")"
   ]
  },
  {
   "cell_type": "markdown",
   "id": "e95e28fb",
   "metadata": {},
   "source": [
    "4. Write a Python program to find largest number in a list?"
   ]
  },
  {
   "cell_type": "code",
   "execution_count": 12,
   "id": "6c1abfab",
   "metadata": {},
   "outputs": [
    {
     "name": "stdout",
     "output_type": "stream",
     "text": [
      "the largest number in the list is : 100\n"
     ]
    }
   ],
   "source": [
    "l=[3,2,7,8,9,1,100]\n",
    "largest=l[0]\n",
    "\n",
    "for num in l:\n",
    "    if num > largest:\n",
    "        largest=num\n",
    "        \n",
    "print(f\"the largest number in the list is : {largest}\")"
   ]
  },
  {
   "cell_type": "markdown",
   "id": "4455020c",
   "metadata": {},
   "source": [
    "5. Write a Python program to find second largest number in a list?"
   ]
  },
  {
   "cell_type": "code",
   "execution_count": 34,
   "id": "df6c95a5",
   "metadata": {},
   "outputs": [],
   "source": [
    "l=[3,2,7,8,9,1,100]\n"
   ]
  },
  {
   "cell_type": "code",
   "execution_count": 22,
   "id": "93c11228",
   "metadata": {},
   "outputs": [
    {
     "name": "stdout",
     "output_type": "stream",
     "text": [
      "The second largest number in the list is: 9\n"
     ]
    }
   ],
   "source": [
    "l=[3,2,7,8,9,1,100]\n",
    "\n",
    "if l[0] > l[1]:\n",
    "    largest = l[0]\n",
    "    second_largest = l[1]\n",
    "else:\n",
    "    largest = l[1]\n",
    "    second_largest = l[0]\n",
    "\n",
    "for num in l[2:]:\n",
    "    if num > largest:\n",
    "        second_largest = largest\n",
    "        largest = num\n",
    "    elif num > second_largest:\n",
    "        second_largest = num\n",
    "\n",
    "print(\"The second largest number in the list is:\", second_largest)\n"
   ]
  },
  {
   "cell_type": "markdown",
   "id": "537181d7",
   "metadata": {},
   "source": [
    "6. Write a Python program to find N largest elements from a list?"
   ]
  },
  {
   "cell_type": "code",
   "execution_count": 24,
   "id": "250b59fd",
   "metadata": {},
   "outputs": [
    {
     "name": "stdout",
     "output_type": "stream",
     "text": [
      "enter number of elements2\n",
      "The 2 largest elements in the list are: [9, 8]\n"
     ]
    }
   ],
   "source": [
    "numbers = [5, 3, 8, 1, 9, 2]\n",
    "\n",
    "N = int(input(\"enter number of elements\"))\n",
    "\n",
    "numbers.sort(reverse=True)\n",
    "\n",
    "print(f\"The {N} largest elements in the list are:\", numbers[:N])\n"
   ]
  },
  {
   "cell_type": "markdown",
   "id": "dbf1df12",
   "metadata": {},
   "source": [
    "7. Write a Python program to print even numbers in a list?"
   ]
  },
  {
   "cell_type": "code",
   "execution_count": 40,
   "id": "d2c00c53",
   "metadata": {},
   "outputs": [
    {
     "name": "stdout",
     "output_type": "stream",
     "text": [
      "8\n",
      "2\n",
      "6\n",
      "4\n",
      "12\n",
      "10\n"
     ]
    }
   ],
   "source": [
    "num = [5, 3, 8, 1, 9, 2,6,4,12,10]\n",
    "for i in range(len(num)):\n",
    "    if num[i]%2==0:\n",
    "        print(num[i])"
   ]
  },
  {
   "cell_type": "markdown",
   "id": "24778bbe",
   "metadata": {},
   "source": [
    "8. Write a Python program to print odd numbers in a List?"
   ]
  },
  {
   "cell_type": "code",
   "execution_count": 41,
   "id": "afe87fc8",
   "metadata": {},
   "outputs": [
    {
     "name": "stdout",
     "output_type": "stream",
     "text": [
      "5\n",
      "3\n",
      "1\n",
      "9\n"
     ]
    }
   ],
   "source": [
    "num = [5, 3, 8, 1, 9, 2,6,4,12,10]\n",
    "for i in range(len(num)):\n",
    "    if num[i]%2!=0:\n",
    "        print(num[i])"
   ]
  },
  {
   "cell_type": "markdown",
   "id": "91e04316",
   "metadata": {},
   "source": [
    "9. Write a Python program to Remove empty List from List?"
   ]
  },
  {
   "cell_type": "code",
   "execution_count": 43,
   "id": "86294aed",
   "metadata": {},
   "outputs": [
    {
     "name": "stdout",
     "output_type": "stream",
     "text": [
      "list with empty lists removed is: [1, 2, 3, 4, 5]\n"
     ]
    }
   ],
   "source": [
    "my_list = [1, [], 2, [], [], 3, [], 4, [], 5, [], []]\n",
    "\n",
    "my_list = [x for x in my_list if x]\n",
    "\n",
    "print(\"list with empty lists removed is:\", my_list)"
   ]
  },
  {
   "cell_type": "markdown",
   "id": "08c20f74",
   "metadata": {},
   "source": [
    "10. Write a Python program to Cloning or Copying a list?"
   ]
  },
  {
   "cell_type": "code",
   "execution_count": 46,
   "id": "09a72c68",
   "metadata": {},
   "outputs": [
    {
     "name": "stdout",
     "output_type": "stream",
     "text": [
      "Original list: [1, 2, 3, 4, 5]\n",
      "Cloned list: [1, 2, 3, 4, 5]\n"
     ]
    }
   ],
   "source": [
    "original = [1, 2, 3, 4, 5]\n",
    "cloned = original[:]\n",
    "\n",
    "print(\"Original list:\", original)\n",
    "print(\"Cloned list:\", cloned)\n"
   ]
  },
  {
   "cell_type": "markdown",
   "id": "25e3d58b",
   "metadata": {},
   "source": [
    "11. Write a Python program to Count occurrences of an element in a list?"
   ]
  },
  {
   "cell_type": "code",
   "execution_count": 48,
   "id": "60cbcf7d",
   "metadata": {},
   "outputs": [
    {
     "name": "stdout",
     "output_type": "stream",
     "text": [
      "element 1 occurs 4 times in the list\n"
     ]
    }
   ],
   "source": [
    "my_list = [1, 2, 3, 4, 1, 2, 3, 1, 1, 5]\n",
    "\n",
    "element = 1\n",
    "count = my_list.count(element)\n",
    "\n",
    "# Print the count of occurrences\n",
    "print(f\"element {element} occurs {count} times in the list\")\n"
   ]
  },
  {
   "cell_type": "code",
   "execution_count": null,
   "id": "9aa23191",
   "metadata": {},
   "outputs": [],
   "source": []
  }
 ],
 "metadata": {
  "kernelspec": {
   "display_name": "Python 3 (ipykernel)",
   "language": "python",
   "name": "python3"
  },
  "language_info": {
   "codemirror_mode": {
    "name": "ipython",
    "version": 3
   },
   "file_extension": ".py",
   "mimetype": "text/x-python",
   "name": "python",
   "nbconvert_exporter": "python",
   "pygments_lexer": "ipython3",
   "version": "3.9.13"
  }
 },
 "nbformat": 4,
 "nbformat_minor": 5
}
