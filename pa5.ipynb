{
 "cells": [
  {
   "cell_type": "markdown",
   "id": "8e0ec446",
   "metadata": {},
   "source": [
    "Answer-1"
   ]
  },
  {
   "cell_type": "code",
   "execution_count": 1,
   "id": "bce1e01d",
   "metadata": {},
   "outputs": [],
   "source": [
    "def cal_lcm(a,b):\n",
    "    if a>b:\n",
    "        greater=a\n",
    "    else:\n",
    "        greater=b\n",
    "    while(True):\n",
    "        if(greater%a==0) and (greater%b==0):\n",
    "            lcm=greater\n",
    "            break\n",
    "        greater+=1\n",
    "    return lcm\n",
    "    "
   ]
  },
  {
   "cell_type": "code",
   "execution_count": 2,
   "id": "f96e0b23",
   "metadata": {},
   "outputs": [
    {
     "data": {
      "text/plain": [
       "24"
      ]
     },
     "execution_count": 2,
     "metadata": {},
     "output_type": "execute_result"
    }
   ],
   "source": [
    "cal_lcm(12,24)"
   ]
  },
  {
   "cell_type": "markdown",
   "id": "fdf05235",
   "metadata": {},
   "source": [
    "Answer-2"
   ]
  },
  {
   "cell_type": "code",
   "execution_count": 6,
   "id": "fc8eb375",
   "metadata": {},
   "outputs": [],
   "source": [
    "def cal_hcf(a,b):\n",
    "    if a>b:\n",
    "        small=a\n",
    "    else:\n",
    "        small=b\n",
    "    for i in range(1, small+1):\n",
    "        if((a%i==0) and (b%i==0)):\n",
    "            hcf=i\n",
    "    return hcf\n",
    "        \n",
    "    "
   ]
  },
  {
   "cell_type": "code",
   "execution_count": 13,
   "id": "f607c3f9",
   "metadata": {},
   "outputs": [
    {
     "data": {
      "text/plain": [
       "6"
      ]
     },
     "execution_count": 13,
     "metadata": {},
     "output_type": "execute_result"
    }
   ],
   "source": [
    "cal_hcf(24,78)"
   ]
  },
  {
   "cell_type": "markdown",
   "id": "14054c1f",
   "metadata": {},
   "source": [
    "Answer-3"
   ]
  },
  {
   "cell_type": "code",
   "execution_count": 14,
   "id": "f3f20739",
   "metadata": {},
   "outputs": [
    {
     "name": "stdout",
     "output_type": "stream",
     "text": [
      "enter the number=24\n",
      "0b11000 in binary\n",
      "0o30 in octal\n",
      "0x18 in hexadecimal\n"
     ]
    }
   ],
   "source": [
    "number=int(input('enter the number='))\n",
    "print(bin(number),'in binary')\n",
    "print(oct(number), 'in octal')\n",
    "print(hex(number),'in hexadecimal')"
   ]
  },
  {
   "cell_type": "markdown",
   "id": "7e68478a",
   "metadata": {},
   "source": [
    "Answer-4"
   ]
  },
  {
   "cell_type": "code",
   "execution_count": 20,
   "id": "577c5490",
   "metadata": {},
   "outputs": [
    {
     "name": "stdout",
     "output_type": "stream",
     "text": [
      "enter the characterA\n",
      "the ascii value of character A is 65\n"
     ]
    }
   ],
   "source": [
    "character=input('enter the character')\n",
    "print('the ascii value of character '+ character +' is',ord(character))"
   ]
  },
  {
   "cell_type": "markdown",
   "id": "446abc90",
   "metadata": {},
   "source": [
    "Answer-5"
   ]
  },
  {
   "cell_type": "code",
   "execution_count": 26,
   "id": "d0bff67d",
   "metadata": {},
   "outputs": [
    {
     "name": "stdout",
     "output_type": "stream",
     "text": [
      "Please select operation -\n",
      "1.ADD\n",
      "2.SUBSTRACTION\n",
      "3.MULTIPLICATION\n",
      "4.DIVISION\n",
      "\n",
      "select input from 1/2/3/4: 3\n",
      "enter the number 1: 3\n",
      "enter the number 2: 3\n",
      "3 * 3 = 9\n"
     ]
    }
   ],
   "source": [
    "def add(x,y):\n",
    "    return x+y\n",
    "\n",
    "def multiply(x,y):\n",
    "    return x*y\n",
    "\n",
    "def subtract(x,y):\n",
    "    return x-y\n",
    "\n",
    "def divide(x,y):\n",
    "    return x/y\n",
    "\n",
    "print(\"Please select operation -\\n\"\n",
    "     \"1.ADD\\n\"\n",
    "     \"2.SUBSTRACTION\\n\"\n",
    "     \"3.MULTIPLICATION\\n\"\n",
    "     \"4.DIVISION\\n\")\n",
    "\n",
    "select=int(input('select input from 1/2/3/4: '))\n",
    "\n",
    "num1=int(input('enter the number 1: '))\n",
    "num2=int(input('enter the number 2: '))\n",
    "\n",
    "if select==1:\n",
    "    print(num1,'+',num2,'=',add(num1,num2))\n",
    "elif select==2:\n",
    "    print(num1,'-',num2,'=',subtract(num1,num2))\n",
    "elif select==3:\n",
    "    print(num1,'*',num2,'=',multiply(num1,num2))\n",
    "elif select==4:\n",
    "    print(num1,'/',num2,'=',divide(num1,num2))"
   ]
  },
  {
   "cell_type": "code",
   "execution_count": null,
   "id": "334813f2",
   "metadata": {},
   "outputs": [],
   "source": []
  }
 ],
 "metadata": {
  "kernelspec": {
   "display_name": "Python 3 (ipykernel)",
   "language": "python",
   "name": "python3"
  },
  "language_info": {
   "codemirror_mode": {
    "name": "ipython",
    "version": 3
   },
   "file_extension": ".py",
   "mimetype": "text/x-python",
   "name": "python",
   "nbconvert_exporter": "python",
   "pygments_lexer": "ipython3",
   "version": "3.9.12"
  }
 },
 "nbformat": 4,
 "nbformat_minor": 5
}
