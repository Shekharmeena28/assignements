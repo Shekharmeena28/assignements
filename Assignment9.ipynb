{
 "cells": [
  {
   "cell_type": "markdown",
   "id": "b627e865",
   "metadata": {},
   "source": [
    "ANswer-1"
   ]
  },
  {
   "cell_type": "markdown",
   "id": "2b91847d",
   "metadata": {},
   "source": [
    "A relative path refers to a location that is relative to a current directory"
   ]
  },
  {
   "cell_type": "markdown",
   "id": "e6ed0805",
   "metadata": {},
   "source": [
    "Answer-2\n"
   ]
  },
  {
   "cell_type": "markdown",
   "id": "b9af8db6",
   "metadata": {},
   "source": [
    "An absolute path is a path that contains the entire path to the file or directory that you need to access. This path will begin at the home directory of your computer and will end with the file or directory that you wish to access."
   ]
  },
  {
   "cell_type": "markdown",
   "id": "a94866d7",
   "metadata": {},
   "source": [
    "Answer-3"
   ]
  },
  {
   "cell_type": "markdown",
   "id": "cb071380",
   "metadata": {},
   "source": [
    "os.getcwd() stands for get current working directory in which u are working and os.chdir() stands for change directory, to changedirectory of your choice"
   ]
  },
  {
   "cell_type": "markdown",
   "id": "d4818770",
   "metadata": {},
   "source": [
    "Answer-4"
   ]
  },
  {
   "cell_type": "markdown",
   "id": "8b1cffb0",
   "metadata": {},
   "source": [
    "The . is the current directory, while .. signifies the parent directory. It makes things quicker at the command line as well so you don't need to type out full paths."
   ]
  },
  {
   "cell_type": "markdown",
   "id": "9040f6ab",
   "metadata": {},
   "source": [
    "Answer-5"
   ]
  },
  {
   "cell_type": "markdown",
   "id": "79baa7b8",
   "metadata": {},
   "source": [
    "C:\\bacon\\eggs is the directory name and spam.txt is the base name"
   ]
  },
  {
   "cell_type": "markdown",
   "id": "41f1e4f6",
   "metadata": {},
   "source": [
    "ANswer-6"
   ]
  },
  {
   "cell_type": "markdown",
   "id": "bc1a4ce5",
   "metadata": {},
   "source": [
    "r : Opens the file in read-only mode. ...\n",
    "rb : Opens the file as read-only in binary format and starts reading from the beginning of the file.\n",
    "r+ : Opens a file for reading and writing, placing the pointer at the beginning of the file."
   ]
  },
  {
   "cell_type": "markdown",
   "id": "03379049",
   "metadata": {},
   "source": [
    "ANswer-7"
   ]
  },
  {
   "cell_type": "markdown",
   "id": "5bc2bc30",
   "metadata": {},
   "source": [
    "if the existing file is opened in the 'w'(write mode) its content are erased and it is treated as new file"
   ]
  },
  {
   "cell_type": "markdown",
   "id": "31646513",
   "metadata": {},
   "source": [
    "Answer-8"
   ]
  },
  {
   "cell_type": "markdown",
   "id": "23ee3eca",
   "metadata": {},
   "source": [
    "the main difference is that read() will read the whole file at once and then print out the first characters that take up as many bytes as you specify in the parenthesis versus the readline() that will read and print out only the first characters that take up as many bytes as you specify in the parenthesis"
   ]
  },
  {
   "cell_type": "markdown",
   "id": "2d23dc7b",
   "metadata": {},
   "source": [
    "Answer-9"
   ]
  },
  {
   "cell_type": "markdown",
   "id": "04ba0f1a",
   "metadata": {},
   "source": [
    "A shelf value resembles a dictionary value; it has keys and values, along with keys() and values() methods that work similarly to the dictionary methods of the same names."
   ]
  },
  {
   "cell_type": "code",
   "execution_count": null,
   "id": "53ffdc86",
   "metadata": {},
   "outputs": [],
   "source": []
  }
 ],
 "metadata": {
  "kernelspec": {
   "display_name": "Python 3 (ipykernel)",
   "language": "python",
   "name": "python3"
  },
  "language_info": {
   "codemirror_mode": {
    "name": "ipython",
    "version": 3
   },
   "file_extension": ".py",
   "mimetype": "text/x-python",
   "name": "python",
   "nbconvert_exporter": "python",
   "pygments_lexer": "ipython3",
   "version": "3.9.12"
  }
 },
 "nbformat": 4,
 "nbformat_minor": 5
}
