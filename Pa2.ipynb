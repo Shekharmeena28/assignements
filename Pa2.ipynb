{
 "cells": [
  {
   "cell_type": "markdown",
   "id": "53c2dd1b",
   "metadata": {},
   "source": [
    "Answer-1"
   ]
  },
  {
   "cell_type": "code",
   "execution_count": 5,
   "id": "23ed24f8",
   "metadata": {},
   "outputs": [
    {
     "name": "stdout",
     "output_type": "stream",
     "text": [
      "enter the kilometers2\n",
      "the kilometer is=2.0 which is converted to miles=1.2430080795525171\n"
     ]
    }
   ],
   "source": [
    "Kilometers=float(input('enter the kilometers'))\n",
    "# we have to divide the kilometerws 1.609 to obtian miles\n",
    "Miles=Kilometers/1.609\n",
    "print(f'the kilometer is={Kilometers} which is converted to miles={Miles}')"
   ]
  },
  {
   "cell_type": "markdown",
   "id": "3fb342b4",
   "metadata": {},
   "source": [
    "Answer-2"
   ]
  },
  {
   "cell_type": "code",
   "execution_count": 2,
   "id": "2cc14ccd",
   "metadata": {},
   "outputs": [
    {
     "name": "stdout",
     "output_type": "stream",
     "text": [
      "enter the temprature=44\n",
      "the conversion of c=44.0 to f=111.2\n"
     ]
    }
   ],
   "source": [
    "#c for celsius and f for fahrenhit\n",
    "c=float(input('enter the temprature='))\n",
    "#to convert it to fahrenhit we have formula (°C × 9/5) + 32 = °F\n",
    "f=(c * 9/5) + 32\n",
    "print(f'the conversion of c={c} to f={f}')\n"
   ]
  },
  {
   "cell_type": "markdown",
   "id": "389e7443",
   "metadata": {},
   "source": [
    "Answer-3"
   ]
  },
  {
   "cell_type": "code",
   "execution_count": 5,
   "id": "0cc48000",
   "metadata": {},
   "outputs": [],
   "source": [
    "import calendar"
   ]
  },
  {
   "cell_type": "code",
   "execution_count": 8,
   "id": "956eb442",
   "metadata": {},
   "outputs": [
    {
     "name": "stdout",
     "output_type": "stream",
     "text": [
      "Enter the year=2022\n",
      "Enter the month=08\n",
      "    August 2022\n",
      "Mo Tu We Th Fr Sa Su\n",
      " 1  2  3  4  5  6  7\n",
      " 8  9 10 11 12 13 14\n",
      "15 16 17 18 19 20 21\n",
      "22 23 24 25 26 27 28\n",
      "29 30 31\n",
      "\n"
     ]
    }
   ],
   "source": [
    "yy=int(input('Enter the year='))\n",
    "mm=int(input('Enter the month='))\n",
    "print(calendar.month(yy,mm))"
   ]
  },
  {
   "cell_type": "markdown",
   "id": "e234aef2",
   "metadata": {},
   "source": [
    "Answer-4"
   ]
  },
  {
   "cell_type": "code",
   "execution_count": 20,
   "id": "9062c5db",
   "metadata": {},
   "outputs": [],
   "source": [
    "import cmath"
   ]
  },
  {
   "cell_type": "code",
   "execution_count": 59,
   "id": "c36731ac",
   "metadata": {},
   "outputs": [],
   "source": [
    "#quadratic equation ax**2 + bx + c = 0\n",
    "a=1\n",
    "b=7\n",
    "c=6\n",
    "#discriminant\n",
    "d = (b**2) - (4*a*c)"
   ]
  },
  {
   "cell_type": "code",
   "execution_count": 60,
   "id": "b35d24ca",
   "metadata": {},
   "outputs": [],
   "source": [
    "sol1 = (-b-cmath.sqrt(d))/(2*a)\n",
    "sol2 = (-b+cmath.sqrt(d))/(2*a)"
   ]
  },
  {
   "cell_type": "code",
   "execution_count": 61,
   "id": "99daf5e7",
   "metadata": {},
   "outputs": [
    {
     "name": "stdout",
     "output_type": "stream",
     "text": [
      "The solution are (-6+0j) and (-1+0j)\n"
     ]
    }
   ],
   "source": [
    "print('The solution are {0} and {1}'.format(sol1,sol2))"
   ]
  },
  {
   "cell_type": "markdown",
   "id": "0cbfe430",
   "metadata": {},
   "source": [
    "Answer-5"
   ]
  },
  {
   "cell_type": "code",
   "execution_count": 63,
   "id": "1c726286",
   "metadata": {},
   "outputs": [],
   "source": [
    "a=5\n",
    "b=6\n",
    "a,b=b,a"
   ]
  },
  {
   "cell_type": "code",
   "execution_count": 64,
   "id": "2064c74a",
   "metadata": {},
   "outputs": [
    {
     "data": {
      "text/plain": [
       "(6, 5)"
      ]
     },
     "execution_count": 64,
     "metadata": {},
     "output_type": "execute_result"
    }
   ],
   "source": [
    "a,b"
   ]
  },
  {
   "cell_type": "code",
   "execution_count": null,
   "id": "6259a35e",
   "metadata": {},
   "outputs": [],
   "source": []
  }
 ],
 "metadata": {
  "kernelspec": {
   "display_name": "Python 3 (ipykernel)",
   "language": "python",
   "name": "python3"
  },
  "language_info": {
   "codemirror_mode": {
    "name": "ipython",
    "version": 3
   },
   "file_extension": ".py",
   "mimetype": "text/x-python",
   "name": "python",
   "nbconvert_exporter": "python",
   "pygments_lexer": "ipython3",
   "version": "3.9.12"
  }
 },
 "nbformat": 4,
 "nbformat_minor": 5
}
