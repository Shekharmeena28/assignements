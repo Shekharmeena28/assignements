{
 "cells": [
  {
   "cell_type": "markdown",
   "id": "3ec245ee",
   "metadata": {},
   "source": [
    "1. Write a Python program to find words which are greater than given length k?"
   ]
  },
  {
   "cell_type": "code",
   "execution_count": 3,
   "id": "fb3e50ba",
   "metadata": {},
   "outputs": [
    {
     "name": "stdout",
     "output_type": "stream",
     "text": [
      "words greator than lenght 5 in  word_list are ['banana', 'playstation', 'batman', 'interstellar']\n"
     ]
    }
   ],
   "source": [
    "word_list =['apple','banana', 'xbox', 'playstation','batman', 'interstellar', 'eggs','crown','tape','boxer']\n",
    "\n",
    "k=5\n",
    "\n",
    "filtered_list = [word for word in word_list if len(word) > 5]\n",
    "print(f\"words greator than lenght {k} in  word_list are {filtered_list}\")"
   ]
  },
  {
   "cell_type": "markdown",
   "id": "c8648187",
   "metadata": {},
   "source": [
    "2. Write a Python program for removing i-th character from a string?"
   ]
  },
  {
   "cell_type": "code",
   "execution_count": 5,
   "id": "97c95510",
   "metadata": {},
   "outputs": [
    {
     "name": "stdout",
     "output_type": "stream",
     "text": [
      "The new string is: you onl live once\n"
     ]
    }
   ],
   "source": [
    "my_string = \"you only live once\"\n",
    "i = 7\n",
    "string_list = list(my_string)\n",
    "\n",
    "del string_list[i]\n",
    "new_string = \"\".join(string_list)\n",
    "\n",
    "# Print the new string\n",
    "print(f\"The new string is: {new_string}\")\n"
   ]
  },
  {
   "cell_type": "markdown",
   "id": "04e8d80e",
   "metadata": {},
   "source": [
    "3. Write a Python program to split and join a string?"
   ]
  },
  {
   "cell_type": "code",
   "execution_count": 16,
   "id": "06aa2c2c",
   "metadata": {},
   "outputs": [
    {
     "name": "stdout",
     "output_type": "stream",
     "text": [
      "The new string is: we are masters of our fate, captains of our soul, we need to know that life comes from us not at us\n"
     ]
    }
   ],
   "source": [
    "my_string = \"we are masters of our fate, captains of our soul, we need to know that life comes from us not at us\"\n",
    "splitted_string = my_string.split()\n",
    "joined_string = \" \".join(splitted_string)\n",
    "print(f\"The new string is: {joined_string}\")\n"
   ]
  },
  {
   "cell_type": "markdown",
   "id": "d1113cce",
   "metadata": {},
   "source": [
    "4. Write a Python to check if a given string is binary string or not?"
   ]
  },
  {
   "cell_type": "code",
   "execution_count": 25,
   "id": "f2b99f19",
   "metadata": {},
   "outputs": [
    {
     "name": "stdout",
     "output_type": "stream",
     "text": [
      "False\n",
      "True\n"
     ]
    }
   ],
   "source": [
    "def is_binary(mystring):\n",
    "    for char in mystring:\n",
    "        if char !='0' and  char !='1':\n",
    "            return False\n",
    "    return True\n",
    "\n",
    "\n",
    "print(is_binary(\"101010101010102002\"))\n",
    "print(is_binary('10101010101010100111'))\n",
    "\n",
    "\n",
    "        "
   ]
  },
  {
   "cell_type": "markdown",
   "id": "15bf4a26",
   "metadata": {},
   "source": [
    "5. Write a Python program to find uncommon words from two Strings?"
   ]
  },
  {
   "cell_type": "code",
   "execution_count": 29,
   "id": "1b888bee",
   "metadata": {},
   "outputs": [
    {
     "name": "stdout",
     "output_type": "stream",
     "text": [
      "Uncommon words:  ['ml', 'is', 'in', 'government', 'school', 'it', 'will', 'redefine', 'education', 'system,']\n"
     ]
    }
   ],
   "source": [
    "string1 = \"if ml is applied in the government school\"\n",
    "string2 = \"it will redefine the education system, if applied\"\n",
    "\n",
    "words1 = string1.split()\n",
    "words2 = string2.split()\n",
    "\n",
    "\n",
    "uncommon_words = [word for word in words1 + words2 if (word not in words1) or (word not in words2)]\n",
    "print(\"Uncommon words: \", uncommon_words)\n"
   ]
  },
  {
   "cell_type": "markdown",
   "id": "ec08bc90",
   "metadata": {},
   "source": [
    "6. Write a Python to find all duplicate characters in string?"
   ]
  },
  {
   "cell_type": "code",
   "execution_count": 34,
   "id": "b3b15d60",
   "metadata": {},
   "outputs": [
    {
     "name": "stdout",
     "output_type": "stream",
     "text": [
      "Duplicate characters: ['i', 't', ' ', 'l', 'e', 'd', 'f', 'n', 'a', 's', 'p']\n"
     ]
    }
   ],
   "source": [
    "my_string = \"it will redefine the education system, if applied\"\n",
    "duplicate_chars = []\n",
    "\n",
    "for char in my_string:\n",
    "    if my_string.count(char) > 1 and char not in duplicate_chars:\n",
    "        duplicate_chars.append(char)\n",
    "        \n",
    "print(\"Duplicate characters:\", duplicate_chars)\n"
   ]
  },
  {
   "cell_type": "markdown",
   "id": "f7129315",
   "metadata": {},
   "source": [
    "7. Write a Python Program to check if a string contains any special character?"
   ]
  },
  {
   "cell_type": "code",
   "execution_count": 40,
   "id": "4f1aaf8a",
   "metadata": {},
   "outputs": [
    {
     "name": "stdout",
     "output_type": "stream",
     "text": [
      "The string contains special characters\n"
     ]
    }
   ],
   "source": [
    "my_string = \"!it will rede@fine the education system, if applied\"\n",
    "\n",
    "special_chars = {'!', '@', '#', '$', '%', '^', '&', '*', '(', ')', '-', '+', '=', '{', '}', '[', ']', ';', ':', ',', '<', '>', '.', '?', '/', '|', '\\\\'}\n",
    "\n",
    "contains_special_char = any(char in special_chars for char in my_string)\n",
    "if contains_special_char:\n",
    "    print(f\"The string contains special characters\")\n",
    "else:\n",
    "    print(f\"The string does not contain special characters.\")\n"
   ]
  },
  {
   "cell_type": "code",
   "execution_count": null,
   "id": "02a78a6b",
   "metadata": {},
   "outputs": [],
   "source": []
  }
 ],
 "metadata": {
  "kernelspec": {
   "display_name": "Python 3 (ipykernel)",
   "language": "python",
   "name": "python3"
  },
  "language_info": {
   "codemirror_mode": {
    "name": "ipython",
    "version": 3
   },
   "file_extension": ".py",
   "mimetype": "text/x-python",
   "name": "python",
   "nbconvert_exporter": "python",
   "pygments_lexer": "ipython3",
   "version": "3.9.13"
  }
 },
 "nbformat": 4,
 "nbformat_minor": 5
}
