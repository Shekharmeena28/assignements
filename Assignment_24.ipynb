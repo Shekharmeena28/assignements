{
 "cells": [
  {
   "cell_type": "markdown",
   "id": "7fa1c186",
   "metadata": {},
   "source": [
    "1. What is the relationship between def statements and lambda expressions"
   ]
  },
  {
   "cell_type": "markdown",
   "id": "fc6e1bdd",
   "metadata": {},
   "source": [
    "Both def statements and lambda expressions are used to define functions in Python. However, there are some differences between the two.\n",
    "\n",
    "def statements are used to define named functions that can take arguments and return values. They are typically used for larger and more complex functions that need to be defined and used multiple times throughout a program.\n",
    "\n",
    "Lambda expressions, on the other hand, are used to define small, anonymous functions that are typically used only once, usually as arguments to other functions. They can also take arguments and return values, but they are defined inline and don't have a name.\n",
    "\n",
    "In general, def statements are more flexible and can be used for a wider range of functions, while lambda expressions are more concise and are useful for functions that are simple and don't need to be defined elsewhere in a program."
   ]
  },
  {
   "cell_type": "markdown",
   "id": "e4012dcc",
   "metadata": {},
   "source": [
    "2. What is the benefit of lambda?"
   ]
  },
  {
   "cell_type": "markdown",
   "id": "ca2ab608",
   "metadata": {},
   "source": [
    "\n",
    "The benefits of using lambda expressions are:\n",
    "\n",
    "Conciseness: Lambda functions are generally shorter and more concise than traditional functions, making them easier to write and read.\n",
    "\n",
    "Readability: Lambda functions can often make code more readable by reducing the number of lines needed to perform a specific operation.\n",
    "\n",
    "Flexibility: Lambda functions can be used anywhere a function is required, including inside other functions, as arguments to higher-order functions, and in other contexts where traditional functions are used.\n",
    "\n",
    "No need for a name: Unlike traditional functions, lambda functions do not require a name, which can be helpful in certain contexts where a one-time-use function is needed.\n",
    "\n",
    "Efficiency: Lambda functions can often execute faster than traditional functions because they do not have the overhead of creating a new function object."
   ]
  },
  {
   "cell_type": "markdown",
   "id": "4a1020f3",
   "metadata": {},
   "source": [
    "3. Compare and contrast map, filter, and reduce."
   ]
  },
  {
   "cell_type": "markdown",
   "id": "3faaa362",
   "metadata": {},
   "source": [
    "map(), filter(), and reduce() are built-in functions in Python that operate on iterables and perform operations such as transformation, filtering, and aggregation.\n",
    "\n",
    "map() applies a given function to each item of an iterable and returns a new iterable with the transformed values. For example, map(lambda x: x**2, [1, 2, 3, 4]) would return the iterable [1, 4, 9, 16], where each item has been squared.\n",
    "\n",
    "filter() applies a given function to each item of an iterable and returns a new iterable with only the items for which the function returns True. For example, filter(lambda x: x % 2 == 0, [1, 2, 3, 4]) would return the iterable [2, 4], where only the even numbers have been kept.\n",
    "\n",
    "reduce() applies a given function to the items of an iterable in a cumulative way, reducing the iterable to a single value. For example, reduce(lambda x, y: x*y, [1, 2, 3, 4]) would return the value 24, which is the product of all the numbers in the iterable.\n",
    "\n",
    "In summary, map() and filter() are used to transform and filter iterables, respectively, while reduce() is used to aggregate iterables to a single value. All three functions can take a lambda expression as their first argument to specify the operation to be performed on each item of the iterable."
   ]
  },
  {
   "cell_type": "markdown",
   "id": "f719cd60",
   "metadata": {},
   "source": [
    "4. What are function annotations, and how are they used?"
   ]
  },
  {
   "cell_type": "markdown",
   "id": "bdd9c6c1",
   "metadata": {},
   "source": [
    "Function annotations are a feature in Python that allows you to attach arbitrary metadata to function arguments and return values. They are optional and do not affect the behavior of the function itself."
   ]
  },
  {
   "cell_type": "code",
   "execution_count": 2,
   "id": "56b92a68",
   "metadata": {},
   "outputs": [],
   "source": [
    "def greet(name: str) -> str:\n",
    "    return 'Hello, ' + name"
   ]
  },
  {
   "cell_type": "markdown",
   "id": "94a882e7",
   "metadata": {},
   "source": [
    "In this example, name: str and -> str are function annotations. They indicate that the name parameter should be a string, and that the return value of the function should also be a string."
   ]
  },
  {
   "cell_type": "markdown",
   "id": "114e0b91",
   "metadata": {},
   "source": [
    "5. What are recursive functions, and how are they used?"
   ]
  },
  {
   "cell_type": "markdown",
   "id": "a021a1bf",
   "metadata": {},
   "source": [
    "Recursive functions are functions that call themselves within their own definition. They are used to solve problems that can be broken down into smaller subproblems of the same type, and are a way of expressing a solution to a problem in terms of a simpler solution of the same problem."
   ]
  },
  {
   "cell_type": "markdown",
   "id": "5aaf1fef",
   "metadata": {},
   "source": [
    "6. What are some general design guidelines for coding functions?"
   ]
  },
  {
   "cell_type": "markdown",
   "id": "b80cea60",
   "metadata": {},
   "source": [
    "Here are some general design guidelines for coding functions:\n",
    "\n",
    "* Function names should be descriptive and should reflect the purpose of the function.\n",
    "* Functions should be small and perform a single task. This makes them easier to test and maintain.\n",
    "* Functions should have a clear input and output. The inputs should be well-defined and the outputs should be easy to understand.\n",
    "* Functions should have a clear purpose and should not perform unrelated tasks.\n",
    "* Functions should have a clear interface and should not rely on external state.\n",
    "* Functions should have clear documentation and comments to explain their purpose and functionality.\n",
    "* Functions should be written in a modular way so that they can be reused in other parts of the program.\n",
    "* Functions should handle errors and unexpected inputs gracefully and provide useful error messages to the user.\n",
    "* Functions should be efficient and avoid unnecessary computations.\n",
    "* Functions should follow the PEP 8 style guide to ensure consistency and readability of code."
   ]
  },
  {
   "cell_type": "markdown",
   "id": "1b40e544",
   "metadata": {},
   "source": [
    "7. Name three or more ways that functions can communicate results to a caller."
   ]
  },
  {
   "cell_type": "markdown",
   "id": "57f1383e",
   "metadata": {},
   "source": [
    "\n",
    "Three or more ways that functions can communicate results to a caller are:\n",
    "\n",
    "* Return statement: A function can use the return statement to send back a value or values to the caller. The returned value can be used by the caller in further computations or processing.\n",
    "\n",
    "* Global variables: A function can modify or read a global variable defined outside the function. This can be used to communicate information between the function and the caller.\n",
    "\n",
    "* Printing: A function can print the result directly to the console using the print() function. However, this is not recommended as it doesn't allow the caller to use the result in further computations or processing.\n",
    "\n",
    "* Exception handling: A function can raise an exception to communicate an error or exceptional condition to the caller. The caller can then catch the exception and handle it appropriately.\n",
    "\n",
    "* Output parameters: Some programming languages allow functions to have output parameters, which are variables that the function modifies to communicate results back to the caller. However, this is not a common practice in Python."
   ]
  },
  {
   "cell_type": "code",
   "execution_count": null,
   "id": "cf5adc5c",
   "metadata": {},
   "outputs": [],
   "source": []
  }
 ],
 "metadata": {
  "kernelspec": {
   "display_name": "Python 3 (ipykernel)",
   "language": "python",
   "name": "python3"
  },
  "language_info": {
   "codemirror_mode": {
    "name": "ipython",
    "version": 3
   },
   "file_extension": ".py",
   "mimetype": "text/x-python",
   "name": "python",
   "nbconvert_exporter": "python",
   "pygments_lexer": "ipython3",
   "version": "3.9.13"
  }
 },
 "nbformat": 4,
 "nbformat_minor": 5
}
