{
 "cells": [
  {
   "cell_type": "markdown",
   "id": "bd9c8834",
   "metadata": {},
   "source": [
    "Answer-1"
   ]
  },
  {
   "cell_type": "code",
   "execution_count": 2,
   "id": "61a0470d",
   "metadata": {},
   "outputs": [
    {
     "name": "stdout",
     "output_type": "stream",
     "text": [
      "Hello Python\n"
     ]
    }
   ],
   "source": [
    "print('Hello Python')"
   ]
  },
  {
   "cell_type": "markdown",
   "id": "82afd3d5",
   "metadata": {},
   "source": [
    "Answer-2"
   ]
  },
  {
   "cell_type": "code",
   "execution_count": 3,
   "id": "c749c504",
   "metadata": {},
   "outputs": [
    {
     "name": "stdout",
     "output_type": "stream",
     "text": [
      "additon is: 8\n",
      "division is: 1.0\n"
     ]
    }
   ],
   "source": [
    "a=4\n",
    "b=4\n",
    "print('additon is:',a+b)\n",
    "print('division is:',a/b)"
   ]
  },
  {
   "cell_type": "markdown",
   "id": "3cc22b82",
   "metadata": {},
   "source": [
    "Answer-3"
   ]
  },
  {
   "cell_type": "code",
   "execution_count": 7,
   "id": "83ccd04b",
   "metadata": {},
   "outputs": [
    {
     "name": "stdout",
     "output_type": "stream",
     "text": [
      "enter the side 1:2\n",
      "enter the side 2:2\n",
      "enter the side 3:2\n",
      "area of triangle is= 1.7320508075688772\n"
     ]
    }
   ],
   "source": [
    "a=int(input('enter the side 1:'))\n",
    "b=int(input('enter the side 2:'))\n",
    "c=int(input('enter the side 3:'))\n",
    "s=(a+b+c)/2 #this is the perimeter\n",
    "area = (s*(s-a)*(s-b)*(s-c)) ** 0.5\n",
    "print('area of triangle is=' ,area)"
   ]
  },
  {
   "cell_type": "markdown",
   "id": "ce122ce0",
   "metadata": {},
   "source": [
    "Answer-4"
   ]
  },
  {
   "cell_type": "code",
   "execution_count": 8,
   "id": "e0c100f3",
   "metadata": {},
   "outputs": [],
   "source": [
    "x=3\n",
    "y=9"
   ]
  },
  {
   "cell_type": "code",
   "execution_count": 9,
   "id": "ae160f28",
   "metadata": {},
   "outputs": [],
   "source": [
    "temp=x\n",
    "x=y\n",
    "y=temp"
   ]
  },
  {
   "cell_type": "code",
   "execution_count": 10,
   "id": "4666e544",
   "metadata": {},
   "outputs": [
    {
     "data": {
      "text/plain": [
       "(9, 3)"
      ]
     },
     "execution_count": 10,
     "metadata": {},
     "output_type": "execute_result"
    }
   ],
   "source": [
    "x,y"
   ]
  },
  {
   "cell_type": "markdown",
   "id": "ce78337b",
   "metadata": {},
   "source": [
    "Answer-5\n"
   ]
  },
  {
   "cell_type": "code",
   "execution_count": 11,
   "id": "3b182f93",
   "metadata": {},
   "outputs": [],
   "source": [
    "import random"
   ]
  },
  {
   "cell_type": "code",
   "execution_count": 17,
   "id": "18d724d4",
   "metadata": {},
   "outputs": [
    {
     "name": "stdout",
     "output_type": "stream",
     "text": [
      "517078443772023664561\n"
     ]
    }
   ],
   "source": [
    "print(random.randint(0,9999999999999999999999))"
   ]
  },
  {
   "cell_type": "code",
   "execution_count": 18,
   "id": "514ca23a",
   "metadata": {},
   "outputs": [
    {
     "name": "stdout",
     "output_type": "stream",
     "text": [
      "9248725528106732735239\n"
     ]
    }
   ],
   "source": [
    "print(random.randint(0,9999999999999999999999))"
   ]
  },
  {
   "cell_type": "code",
   "execution_count": null,
   "id": "265a19f1",
   "metadata": {},
   "outputs": [],
   "source": []
  }
 ],
 "metadata": {
  "kernelspec": {
   "display_name": "Python 3 (ipykernel)",
   "language": "python",
   "name": "python3"
  },
  "language_info": {
   "codemirror_mode": {
    "name": "ipython",
    "version": 3
   },
   "file_extension": ".py",
   "mimetype": "text/x-python",
   "name": "python",
   "nbconvert_exporter": "python",
   "pygments_lexer": "ipython3",
   "version": "3.9.12"
  }
 },
 "nbformat": 4,
 "nbformat_minor": 5
}
