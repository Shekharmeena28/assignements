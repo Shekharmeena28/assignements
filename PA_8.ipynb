{
 "cells": [
  {
   "cell_type": "markdown",
   "id": "403769fc",
   "metadata": {},
   "source": [
    "1. Write a Python Program to Add Two Matrices?"
   ]
  },
  {
   "cell_type": "code",
   "execution_count": 1,
   "id": "0b206a73",
   "metadata": {},
   "outputs": [
    {
     "name": "stdout",
     "output_type": "stream",
     "text": [
      "Matrix 1:\n",
      "[1, 2, 3]\n",
      "[4, 5, 6]\n",
      "[7, 8, 9]\n",
      "Matrix 2:\n",
      "[9, 8, 7]\n",
      "[6, 5, 4]\n",
      "[3, 2, 1]\n",
      "Result:\n",
      "[10, 10, 10]\n",
      "[10, 10, 10]\n",
      "[10, 10, 10]\n"
     ]
    }
   ],
   "source": [
    "def add_matrices(mat1, mat2):\n",
    "    result = [[0 for j in range(len(mat1[0]))] for i in range(len(mat1))]\n",
    "\n",
    "    for i in range(len(mat1)):\n",
    "        for j in range(len(mat1[0])):\n",
    "            result[i][j] = mat1[i][j] + mat2[i][j]\n",
    "\n",
    "    return result\n",
    "\n",
    "mat1 = [[1, 2, 3],\n",
    "        [4, 5, 6],\n",
    "        [7, 8, 9]]\n",
    "\n",
    "mat2 = [[9, 8, 7],\n",
    "        [6, 5, 4],\n",
    "        [3, 2, 1]]\n",
    "\n",
    "result = add_matrices(mat1, mat2)\n",
    "\n",
    "print(\"Matrix 1:\")\n",
    "for row in mat1:\n",
    "    print(row)\n",
    "\n",
    "print(\"Matrix 2:\")\n",
    "for row in mat2:\n",
    "    print(row)\n",
    "\n",
    "print(\"Result:\")\n",
    "for row in result:\n",
    "    print(row)\n"
   ]
  },
  {
   "cell_type": "markdown",
   "id": "5ace8036",
   "metadata": {},
   "source": [
    "2. Write a Python Program to Multiply Two Matrices?"
   ]
  },
  {
   "cell_type": "code",
   "execution_count": 4,
   "id": "657f3248",
   "metadata": {},
   "outputs": [],
   "source": [
    "def multiply_matrices(mat1, mat2):\n",
    "    result = [[0 for j in range(len(mat2[0]))] for i in range(len(mat1))]\n",
    "    for i in range(len(mat1)):\n",
    "        for j in range(len(mat2[0])):\n",
    "            for k in range(len(mat2)):\n",
    "                result[i][j] += mat1[i][k] * mat2[k][j]\n",
    "\n",
    "    return result"
   ]
  },
  {
   "cell_type": "code",
   "execution_count": 6,
   "id": "fe3ecaef",
   "metadata": {},
   "outputs": [
    {
     "data": {
      "text/plain": [
       "[[27, 30, 33], [61, 68, 75], [95, 106, 117]]"
      ]
     },
     "execution_count": 6,
     "metadata": {},
     "output_type": "execute_result"
    }
   ],
   "source": [
    "mat1 = [[1, 2],\n",
    "        [3, 4],\n",
    "        [5, 6]]\n",
    "\n",
    "mat2 = [[7, 8, 9],\n",
    "        [10, 11, 12]]\n",
    "\n",
    "result = multiply_matrices(mat1, mat2)\n",
    "result"
   ]
  },
  {
   "cell_type": "markdown",
   "id": "1c34ea39",
   "metadata": {},
   "source": [
    "3. Write a Python Program to Transpose a Matrix?"
   ]
  },
  {
   "cell_type": "code",
   "execution_count": 8,
   "id": "6654ff73",
   "metadata": {},
   "outputs": [
    {
     "name": "stdout",
     "output_type": "stream",
     "text": [
      "Original matrix:\n",
      "[1, 2, 3]\n",
      "[4, 5, 6]\n",
      "[7, 8, 9]\n",
      "Transposed matrix:\n",
      "[1, 4, 7]\n",
      "[2, 5, 8]\n",
      "[3, 6, 9]\n"
     ]
    }
   ],
   "source": [
    "def transpose_matrix(mat):\n",
    "    num_rows = len(mat)\n",
    "    num_cols = len(mat[0])\n",
    "    transposed_mat = [[0 for j in range(num_rows)] for i in range(num_cols)]\n",
    "    for i in range(num_rows):\n",
    "        for j in range(num_cols):\n",
    "            transposed_mat[j][i] = mat[i][j]\n",
    "\n",
    "    return transposed_mat\n",
    "\n",
    "mat = [[1, 2, 3],\n",
    "       [4, 5, 6],\n",
    "       [7, 8, 9]]\n",
    "\n",
    "transposed_mat = transpose_matrix(mat)\n",
    "\n",
    "print(\"Original matrix:\")\n",
    "for row in mat:\n",
    "    print(row)\n",
    "\n",
    "print(\"Transposed matrix:\")\n",
    "for row in transposed_mat:\n",
    "    print(row)\n"
   ]
  },
  {
   "cell_type": "markdown",
   "id": "b6e2e202",
   "metadata": {},
   "source": [
    "4. Write a Python Program to Sort Words in Alphabetic Order?"
   ]
  },
  {
   "cell_type": "code",
   "execution_count": 14,
   "id": "16f0a5b9",
   "metadata": {},
   "outputs": [
    {
     "name": "stdout",
     "output_type": "stream",
     "text": [
      "Enter a sentence: Time Travel\n",
      "Sorted sentence:  Time Travel\n"
     ]
    }
   ],
   "source": [
    "sentence = input(\"Enter a sentence: \")\n",
    "\n",
    "# Split the sentence into words\n",
    "words = sentence.split()\n",
    "\n",
    "# Sort the words in alphabetical order\n",
    "sorted_words = sorted(words)\n",
    "\n",
    "# Join the sorted words back into a sentence\n",
    "sorted_sentence = ' '.join(sorted_words)\n",
    "\n",
    "# Print the sorted sentence\n",
    "print(\"Sorted sentence: \", sorted_sentence)\n"
   ]
  },
  {
   "cell_type": "markdown",
   "id": "2c7bd512",
   "metadata": {},
   "source": [
    "5. Write a Python Program to Remove Punctuation From a String?"
   ]
  },
  {
   "cell_type": "code",
   "execution_count": 16,
   "id": "87742b2f",
   "metadata": {},
   "outputs": [
    {
     "name": "stdout",
     "output_type": "stream",
     "text": [
      "Input string:  Hello, World! How are you doing today?\n",
      "Output string:  Hello World How are you doing today\n"
     ]
    }
   ],
   "source": [
    "import string\n",
    "\n",
    "def remove_punctuation(input_string):\n",
    "\n",
    "    punctuations = string.punctuation\n",
    "    output_string = \"\".join(char for char in input_string if char not in punctuations)\n",
    "\n",
    "    return output_string\n",
    "\n",
    "input_string = \"Hello, World! How are you doing today?\"\n",
    "print(\"Input string: \", input_string)\n",
    "output_string = remove_punctuation(input_string)\n",
    "print(\"Output string: \", output_string)\n"
   ]
  },
  {
   "cell_type": "code",
   "execution_count": null,
   "id": "90c82f39",
   "metadata": {},
   "outputs": [],
   "source": []
  }
 ],
 "metadata": {
  "kernelspec": {
   "display_name": "Python 3 (ipykernel)",
   "language": "python",
   "name": "python3"
  },
  "language_info": {
   "codemirror_mode": {
    "name": "ipython",
    "version": 3
   },
   "file_extension": ".py",
   "mimetype": "text/x-python",
   "name": "python",
   "nbconvert_exporter": "python",
   "pygments_lexer": "ipython3",
   "version": "3.9.13"
  }
 },
 "nbformat": 4,
 "nbformat_minor": 5
}
