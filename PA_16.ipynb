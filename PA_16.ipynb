{
 "cells": [
  {
   "cell_type": "markdown",
   "id": "e80b6d5f",
   "metadata": {},
   "source": [
    "Question1. Write a function that stutters a word as if someone is struggling to read it. The\n",
    "first two letters are repeated twice with an ellipsis ... and space after each, and then the\n",
    "word is pronounced with a question mark ?."
   ]
  },
  {
   "cell_type": "code",
   "execution_count": 29,
   "id": "1bcd230a",
   "metadata": {},
   "outputs": [
    {
     "data": {
      "text/plain": [
       "'in..in..incredible?'"
      ]
     },
     "execution_count": 29,
     "metadata": {},
     "output_type": "execute_result"
    }
   ],
   "source": [
    "string = 'incredible'\n",
    "\n",
    "ter = (string[:2] +'..' )*2 + string +'?'\n",
    "ter\n",
    "    "
   ]
  },
  {
   "cell_type": "code",
   "execution_count": 51,
   "id": "ce7da0c0",
   "metadata": {},
   "outputs": [
    {
     "data": {
      "text/plain": [
       "'in..in..incredible?'"
      ]
     },
     "execution_count": 51,
     "metadata": {},
     "output_type": "execute_result"
    }
   ],
   "source": [
    "def stutters(string):\n",
    "    stut = (string[:2] +'..' )*2 + string +'?'\n",
    "    \n",
    "    return stut\n",
    "\n",
    "stutters(\"incredible\")"
   ]
  },
  {
   "cell_type": "markdown",
   "id": "b7a078c1",
   "metadata": {},
   "source": [
    "Question 2.Create a function that takes an angle in radians and returns the corresponding\n",
    "angle in degrees rounded to one decimal place."
   ]
  },
  {
   "cell_type": "code",
   "execution_count": 56,
   "id": "0a5ca7be",
   "metadata": {},
   "outputs": [
    {
     "name": "stdout",
     "output_type": "stream",
     "text": [
      "57.3\n",
      "1145.9\n"
     ]
    }
   ],
   "source": [
    "import math\n",
    "def radians_to_degree(radians):\n",
    "    \n",
    "    degree = radians *180/math.pi\n",
    "    \n",
    "    rounded_degree= round(degree, 1)\n",
    "    \n",
    "    \n",
    "    return rounded_degree\n",
    "    \n",
    "    \n",
    "print(radians_to_degree(1))\n",
    "print(radians_to_degree(20))"
   ]
  },
  {
   "cell_type": "markdown",
   "id": "00075e13",
   "metadata": {},
   "source": [
    "Question 3. In this challenge, establish if a given integer num is a Curzon number. If 1 plus\n",
    "2 elevated to num is exactly divisible by 1 plus 2 multiplied by num, then num is a Curzon\n",
    "number.\n",
    "Given a non-negative integer num, implement a function that returns True if num is a Curzon\n",
    "number, or False otherwise."
   ]
  },
  {
   "cell_type": "code",
   "execution_count": 65,
   "id": "9beec05c",
   "metadata": {},
   "outputs": [],
   "source": [
    "def is_curzon(n):\n",
    "    if (2**n + 1) % (2*n + 1)==0:\n",
    "        return f\"Given {n} is the curzon number\"\n",
    "    else:\n",
    "        return f\"given {n} is not the curzon number\""
   ]
  },
  {
   "cell_type": "code",
   "execution_count": 66,
   "id": "83be5f8b",
   "metadata": {},
   "outputs": [
    {
     "data": {
      "text/plain": [
       "'Given 5 is the curzon number'"
      ]
     },
     "execution_count": 66,
     "metadata": {},
     "output_type": "execute_result"
    }
   ],
   "source": [
    "is_curzon(5)"
   ]
  },
  {
   "cell_type": "code",
   "execution_count": 67,
   "id": "64478e64",
   "metadata": {},
   "outputs": [
    {
     "data": {
      "text/plain": [
       "'given 10 is not the curzon number'"
      ]
     },
     "execution_count": 67,
     "metadata": {},
     "output_type": "execute_result"
    }
   ],
   "source": [
    "is_curzon(10)"
   ]
  },
  {
   "cell_type": "markdown",
   "id": "1a3efcc8",
   "metadata": {},
   "source": [
    "Question 4.Given the side length x find the area of a hexagon."
   ]
  },
  {
   "cell_type": "code",
   "execution_count": 71,
   "id": "3a926e08",
   "metadata": {},
   "outputs": [
    {
     "name": "stdout",
     "output_type": "stream",
     "text": [
      "2.598076211353316\n",
      "10.392304845413264\n",
      "23.382685902179844\n"
     ]
    }
   ],
   "source": [
    "import math\n",
    "\n",
    "def area_of_hexagon(x):\n",
    "    area = (3 * math.sqrt(3) / 2) * x ** 2\n",
    "    \n",
    "    return area\n",
    "\n",
    "\n",
    "print(area_of_hexagon(1))\n",
    "print(area_of_hexagon(2))\n",
    "print(area_of_hexagon(3))"
   ]
  },
  {
   "cell_type": "markdown",
   "id": "3f096251",
   "metadata": {},
   "source": [
    "Question 5. Create a function that returns a base-2 (binary) representation of a base-10\n",
    "(decimal) string number. To convert is simple: ((2) means base-2 and (10) means base-10)\n",
    "010101001(2) = 1 + 8 + 32 + 128.\n",
    "Going from right to left, the value of the most right bit is 1, now from that every bit to the left\n",
    "will be x2 the value, value of an 8 bit binary numbers are (256, 128, 64, 32, 16, 8, 4, 2, 1)."
   ]
  },
  {
   "cell_type": "code",
   "execution_count": 82,
   "id": "8fbe24e2",
   "metadata": {},
   "outputs": [],
   "source": [
    "def decimal_to_binary(decimal):\n",
    "    number = int(decimal)\n",
    "    \n",
    "    # Initialize an empty string to store the binary digits\n",
    "    binary = ''\n",
    "    \n",
    "    # Loop through the binary digit values in reverse order\n",
    "    while number > 0:\n",
    "        # Calculate the next binary digit value as the remainder of number divided by 2\n",
    "        digit_value = number % 2\n",
    "        \n",
    "        # Add the binary digit value to the binary string\n",
    "        binary = str(digit_value) + binary\n",
    "        \n",
    "        # Divide the number by 2 and truncate the remainder\n",
    "        number //= 2\n",
    "    \n",
    "    # Return the binary string\n",
    "    return binary\n"
   ]
  },
  {
   "cell_type": "code",
   "execution_count": 83,
   "id": "8dba1705",
   "metadata": {},
   "outputs": [
    {
     "data": {
      "text/plain": [
       "'101'"
      ]
     },
     "execution_count": 83,
     "metadata": {},
     "output_type": "execute_result"
    }
   ],
   "source": [
    "decimal_to_binary(5)"
   ]
  },
  {
   "cell_type": "code",
   "execution_count": 84,
   "id": "4ed410be",
   "metadata": {},
   "outputs": [
    {
     "data": {
      "text/plain": [
       "'1010'"
      ]
     },
     "execution_count": 84,
     "metadata": {},
     "output_type": "execute_result"
    }
   ],
   "source": [
    "decimal_to_binary(10)"
   ]
  },
  {
   "cell_type": "code",
   "execution_count": null,
   "id": "14f3e42b",
   "metadata": {},
   "outputs": [],
   "source": []
  }
 ],
 "metadata": {
  "kernelspec": {
   "display_name": "Python 3 (ipykernel)",
   "language": "python",
   "name": "python3"
  },
  "language_info": {
   "codemirror_mode": {
    "name": "ipython",
    "version": 3
   },
   "file_extension": ".py",
   "mimetype": "text/x-python",
   "name": "python",
   "nbconvert_exporter": "python",
   "pygments_lexer": "ipython3",
   "version": "3.9.13"
  }
 },
 "nbformat": 4,
 "nbformat_minor": 5
}
