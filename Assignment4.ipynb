{
 "cells": [
  {
   "cell_type": "markdown",
   "id": "1be096b4",
   "metadata": {},
   "source": [
    "Answer-1"
   ]
  },
  {
   "cell_type": "markdown",
   "id": "b7e8cdf1",
   "metadata": {},
   "source": [
    "it represents empty list, in which there is no item."
   ]
  },
  {
   "cell_type": "markdown",
   "id": "a45da1f7",
   "metadata": {},
   "source": [
    "Answer-2"
   ]
  },
  {
   "cell_type": "code",
   "execution_count": 4,
   "id": "54aedcf7",
   "metadata": {},
   "outputs": [],
   "source": [
    "spam=[2, 4, 6, 8, 10]"
   ]
  },
  {
   "cell_type": "code",
   "execution_count": 2,
   "id": "cbaeb2bb",
   "metadata": {},
   "outputs": [],
   "source": [
    "spam[2]='hello'"
   ]
  },
  {
   "cell_type": "code",
   "execution_count": 3,
   "id": "263342f6",
   "metadata": {},
   "outputs": [
    {
     "data": {
      "text/plain": [
       "[2, 4, 'hello', 8, 10]"
      ]
     },
     "execution_count": 3,
     "metadata": {},
     "output_type": "execute_result"
    }
   ],
   "source": [
    "spam"
   ]
  },
  {
   "cell_type": "markdown",
   "id": "41d9f5cd",
   "metadata": {},
   "source": [
    "Answer-3"
   ]
  },
  {
   "cell_type": "code",
   "execution_count": 6,
   "id": "9dced0b3",
   "metadata": {},
   "outputs": [
    {
     "data": {
      "text/plain": [
       "8"
      ]
     },
     "execution_count": 6,
     "metadata": {},
     "output_type": "execute_result"
    }
   ],
   "source": [
    "spam[int(int('3' * 2) / 11)] #it will give 3 as output as '3' is a string multiplied by 2 becomes 33 and divided 11 is 3\n",
    "#it will show element at index number 3 from above list which has 8 init"
   ]
  },
  {
   "cell_type": "markdown",
   "id": "55bb97cf",
   "metadata": {},
   "source": [
    "Answer-4"
   ]
  },
  {
   "cell_type": "code",
   "execution_count": 5,
   "id": "48cd18a4",
   "metadata": {},
   "outputs": [
    {
     "data": {
      "text/plain": [
       "10"
      ]
     },
     "execution_count": 5,
     "metadata": {},
     "output_type": "execute_result"
    }
   ],
   "source": [
    "spam[-1]"
   ]
  },
  {
   "cell_type": "markdown",
   "id": "e2e4a9ac",
   "metadata": {},
   "source": [
    "Answer-5"
   ]
  },
  {
   "cell_type": "code",
   "execution_count": 7,
   "id": "28b862a8",
   "metadata": {},
   "outputs": [
    {
     "data": {
      "text/plain": [
       "[2, 4]"
      ]
     },
     "execution_count": 7,
     "metadata": {},
     "output_type": "execute_result"
    }
   ],
   "source": [
    "spam[:2]"
   ]
  },
  {
   "cell_type": "markdown",
   "id": "2d9f49d7",
   "metadata": {},
   "source": [
    "Answer-6"
   ]
  },
  {
   "cell_type": "code",
   "execution_count": 9,
   "id": "fdac48de",
   "metadata": {},
   "outputs": [],
   "source": [
    "bacon=[3.14,'cat',11,'cat', True]"
   ]
  },
  {
   "cell_type": "code",
   "execution_count": 10,
   "id": "9b855758",
   "metadata": {},
   "outputs": [
    {
     "data": {
      "text/plain": [
       "1"
      ]
     },
     "execution_count": 10,
     "metadata": {},
     "output_type": "execute_result"
    }
   ],
   "source": [
    "bacon.index('cat')"
   ]
  },
  {
   "cell_type": "markdown",
   "id": "a8677e99",
   "metadata": {},
   "source": [
    "Answer-7"
   ]
  },
  {
   "cell_type": "code",
   "execution_count": 12,
   "id": "272a3991",
   "metadata": {},
   "outputs": [],
   "source": [
    "bacon.append(99)"
   ]
  },
  {
   "cell_type": "code",
   "execution_count": 13,
   "id": "73451fe3",
   "metadata": {},
   "outputs": [
    {
     "data": {
      "text/plain": [
       "[3.14, 'cat', 11, 'cat', True, 99]"
      ]
     },
     "execution_count": 13,
     "metadata": {},
     "output_type": "execute_result"
    }
   ],
   "source": [
    "bacon"
   ]
  },
  {
   "cell_type": "markdown",
   "id": "2dc0a6cf",
   "metadata": {},
   "source": [
    "Answer-8"
   ]
  },
  {
   "cell_type": "code",
   "execution_count": 14,
   "id": "3f2f3acc",
   "metadata": {},
   "outputs": [],
   "source": [
    "bacon.remove('cat')"
   ]
  },
  {
   "cell_type": "code",
   "execution_count": 15,
   "id": "5f158522",
   "metadata": {},
   "outputs": [
    {
     "data": {
      "text/plain": [
       "[3.14, 11, 'cat', True, 99]"
      ]
     },
     "execution_count": 15,
     "metadata": {},
     "output_type": "execute_result"
    }
   ],
   "source": [
    "bacon"
   ]
  },
  {
   "cell_type": "markdown",
   "id": "4f45225b",
   "metadata": {},
   "source": [
    "ANswer-9"
   ]
  },
  {
   "cell_type": "markdown",
   "id": "8294e49f",
   "metadata": {},
   "source": [
    "operator for list concatenation is + and for replication operators is * "
   ]
  },
  {
   "cell_type": "markdown",
   "id": "9b8fb543",
   "metadata": {},
   "source": [
    "Answer-10"
   ]
  },
  {
   "cell_type": "markdown",
   "id": "58a212f8",
   "metadata": {},
   "source": [
    "append() will add the item in the list only at the end of list while insert() can add them anywhere in the list"
   ]
  },
  {
   "cell_type": "markdown",
   "id": "bccdf73d",
   "metadata": {},
   "source": [
    "Answer-11"
   ]
  },
  {
   "cell_type": "markdown",
   "id": "4ae686ba",
   "metadata": {},
   "source": [
    "we can use remove() or pop() to remvoe items from the list"
   ]
  },
  {
   "cell_type": "markdown",
   "id": "94907cc2",
   "metadata": {},
   "source": [
    "Answer-12"
   ]
  },
  {
   "cell_type": "markdown",
   "id": "98879b6f",
   "metadata": {},
   "source": [
    "Lists are similar to strings, which are ordered collections of characters, except that the elements of a list can have\n",
    "any type and for any one list, the items can be of different types."
   ]
  },
  {
   "cell_type": "markdown",
   "id": "15d6c91a",
   "metadata": {},
   "source": [
    "Answer-13"
   ]
  },
  {
   "cell_type": "markdown",
   "id": "b8ebc018",
   "metadata": {},
   "source": [
    "the main difference btw the list and tuples us that list is mutable while tuple is immutable. which means list can be edited\n",
    "but tuples cannot be edited."
   ]
  },
  {
   "cell_type": "markdown",
   "id": "bb369267",
   "metadata": {},
   "source": [
    "Answer-14"
   ]
  },
  {
   "cell_type": "code",
   "execution_count": 21,
   "id": "39f0357c",
   "metadata": {},
   "outputs": [],
   "source": [
    "tupl=(42,)"
   ]
  },
  {
   "cell_type": "code",
   "execution_count": 22,
   "id": "e01fe2cf",
   "metadata": {},
   "outputs": [
    {
     "data": {
      "text/plain": [
       "tuple"
      ]
     },
     "execution_count": 22,
     "metadata": {},
     "output_type": "execute_result"
    }
   ],
   "source": [
    "type(tupl)"
   ]
  },
  {
   "cell_type": "markdown",
   "id": "e6791c21",
   "metadata": {},
   "source": [
    "Answer-15"
   ]
  },
  {
   "cell_type": "markdown",
   "id": "fa151cc3",
   "metadata": {},
   "source": [
    "by using tuple() and list() functions"
   ]
  },
  {
   "cell_type": "markdown",
   "id": "7eac2370",
   "metadata": {},
   "source": [
    "Answer-16"
   ]
  },
  {
   "cell_type": "markdown",
   "id": "6ed97546",
   "metadata": {},
   "source": [
    "they contain the references to the list values"
   ]
  },
  {
   "cell_type": "markdown",
   "id": "57263d7a",
   "metadata": {},
   "source": [
    "Answer-17"
   ]
  },
  {
   "cell_type": "markdown",
   "id": "aa37c88e",
   "metadata": {},
   "source": [
    "copy.copy() function will do a shallow copy of a list and copy.deepcopy() will do the deep copy of list, which it can copy list\n",
    "inside the list"
   ]
  },
  {
   "cell_type": "code",
   "execution_count": null,
   "id": "3759e6a9",
   "metadata": {},
   "outputs": [],
   "source": []
  }
 ],
 "metadata": {
  "kernelspec": {
   "display_name": "Python 3 (ipykernel)",
   "language": "python",
   "name": "python3"
  },
  "language_info": {
   "codemirror_mode": {
    "name": "ipython",
    "version": 3
   },
   "file_extension": ".py",
   "mimetype": "text/x-python",
   "name": "python",
   "nbconvert_exporter": "python",
   "pygments_lexer": "ipython3",
   "version": "3.9.12"
  }
 },
 "nbformat": 4,
 "nbformat_minor": 5
}
