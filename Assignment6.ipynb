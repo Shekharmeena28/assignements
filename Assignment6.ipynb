{
 "cells": [
  {
   "cell_type": "markdown",
   "id": "a4d6e094",
   "metadata": {},
   "source": [
    "Answer-1"
   ]
  },
  {
   "cell_type": "markdown",
   "id": "6a98b714",
   "metadata": {},
   "source": [
    "the backslash \\ is a special character, also called the escape character. \n",
    "It is used in representing certain whitespace characters: \"\\t\" is a tab, \"\\n\" is a newline, and \"\\r\" is a carriage return. \n",
    "Conversely, prefixing a special character with \\ turns it into an ordinary character."
   ]
  },
  {
   "cell_type": "markdown",
   "id": "c8361d0d",
   "metadata": {},
   "source": [
    "Answer-2"
   ]
  },
  {
   "cell_type": "markdown",
   "id": "2e71dc84",
   "metadata": {},
   "source": [
    "the t stands for tab space and n stands for new line."
   ]
  },
  {
   "cell_type": "markdown",
   "id": "dee90234",
   "metadata": {},
   "source": [
    "ANswer-3"
   ]
  },
  {
   "cell_type": "markdown",
   "id": "30f0ef22",
   "metadata": {},
   "source": [
    "the \\\\ escape character will represent a backslash character."
   ]
  },
  {
   "cell_type": "markdown",
   "id": "8d6e3632",
   "metadata": {},
   "source": [
    "Answer-4"
   ]
  },
  {
   "cell_type": "code",
   "execution_count": 5,
   "id": "799bca2c",
   "metadata": {},
   "outputs": [],
   "source": [
    "str=\"Howl's Moving Castle\""
   ]
  },
  {
   "cell_type": "markdown",
   "id": "6b006ea8",
   "metadata": {},
   "source": [
    "The single quote in Howl's is fine because you've used double quotes to mark the beginning and end of the string."
   ]
  },
  {
   "cell_type": "markdown",
   "id": "df9ca147",
   "metadata": {},
   "source": [
    "Answer-5"
   ]
  },
  {
   "cell_type": "markdown",
   "id": "2c51738b",
   "metadata": {},
   "source": [
    "python print() built-in function is used to print the given content inside the command prompt. \n",
    "the default functionality of Python print is that it adds a newline character at the end."
   ]
  },
  {
   "cell_type": "markdown",
   "id": "ab8371e0",
   "metadata": {},
   "source": [
    "Answer-6"
   ]
  },
  {
   "cell_type": "code",
   "execution_count": 6,
   "id": "9dccfdda",
   "metadata": {},
   "outputs": [
    {
     "data": {
      "text/plain": [
       "'e'"
      ]
     },
     "execution_count": 6,
     "metadata": {},
     "output_type": "execute_result"
    }
   ],
   "source": [
    "\n",
    "'Hello world!'[1]"
   ]
  },
  {
   "cell_type": "code",
   "execution_count": 7,
   "id": "e7d9cfa8",
   "metadata": {},
   "outputs": [
    {
     "data": {
      "text/plain": [
       "'Hello'"
      ]
     },
     "execution_count": 7,
     "metadata": {},
     "output_type": "execute_result"
    }
   ],
   "source": [
    "'Hello world!'[0:5]"
   ]
  },
  {
   "cell_type": "code",
   "execution_count": 8,
   "id": "abbc3a7e",
   "metadata": {},
   "outputs": [
    {
     "data": {
      "text/plain": [
       "'Hello'"
      ]
     },
     "execution_count": 8,
     "metadata": {},
     "output_type": "execute_result"
    }
   ],
   "source": [
    "'Hello world!'[:5]"
   ]
  },
  {
   "cell_type": "code",
   "execution_count": 9,
   "id": "87b4420d",
   "metadata": {},
   "outputs": [
    {
     "data": {
      "text/plain": [
       "'lo world!'"
      ]
     },
     "execution_count": 9,
     "metadata": {},
     "output_type": "execute_result"
    }
   ],
   "source": [
    "\n",
    "'Hello world!'[3:]"
   ]
  },
  {
   "cell_type": "markdown",
   "id": "b7f3d996",
   "metadata": {},
   "source": [
    "Answer-7"
   ]
  },
  {
   "cell_type": "code",
   "execution_count": 10,
   "id": "6c36af53",
   "metadata": {},
   "outputs": [
    {
     "data": {
      "text/plain": [
       "'HELLO'"
      ]
     },
     "execution_count": 10,
     "metadata": {},
     "output_type": "execute_result"
    }
   ],
   "source": [
    "'Hello'.upper()"
   ]
  },
  {
   "cell_type": "code",
   "execution_count": 11,
   "id": "653e5206",
   "metadata": {},
   "outputs": [
    {
     "data": {
      "text/plain": [
       "True"
      ]
     },
     "execution_count": 11,
     "metadata": {},
     "output_type": "execute_result"
    }
   ],
   "source": [
    "'Hello'.upper().isupper()"
   ]
  },
  {
   "cell_type": "code",
   "execution_count": 13,
   "id": "7204190e",
   "metadata": {},
   "outputs": [
    {
     "data": {
      "text/plain": [
       "'hello'"
      ]
     },
     "execution_count": 13,
     "metadata": {},
     "output_type": "execute_result"
    }
   ],
   "source": [
    "'Hello'.upper().lower()"
   ]
  },
  {
   "cell_type": "markdown",
   "id": "413372fb",
   "metadata": {},
   "source": [
    "Answer-8"
   ]
  },
  {
   "cell_type": "code",
   "execution_count": 14,
   "id": "7eca47ba",
   "metadata": {},
   "outputs": [
    {
     "data": {
      "text/plain": [
       "'There-can-be-only-one.'"
      ]
     },
     "execution_count": 14,
     "metadata": {},
     "output_type": "execute_result"
    }
   ],
   "source": [
    "'Remember, remember, the fifth of November.'.split()\n",
    "\n",
    "'-'.join('There can be only one.'.split())"
   ]
  },
  {
   "cell_type": "markdown",
   "id": "4c55e4b4",
   "metadata": {},
   "source": [
    "Answer-9"
   ]
  },
  {
   "cell_type": "markdown",
   "id": "d22dad76",
   "metadata": {},
   "source": [
    "rjust(), ljust(), center() string methods "
   ]
  },
  {
   "cell_type": "markdown",
   "id": "0a88a119",
   "metadata": {},
   "source": [
    "ANswer-10"
   ]
  },
  {
   "cell_type": "markdown",
   "id": "338a52d2",
   "metadata": {},
   "source": [
    "lstrip() and rstri() are used to remove the white space at the left end or the right end of the string"
   ]
  },
  {
   "cell_type": "code",
   "execution_count": 15,
   "id": "d9696e52",
   "metadata": {},
   "outputs": [],
   "source": [
    "m='shekhar '"
   ]
  },
  {
   "cell_type": "code",
   "execution_count": 16,
   "id": "f81f9593",
   "metadata": {},
   "outputs": [
    {
     "data": {
      "text/plain": [
       "'shekhar'"
      ]
     },
     "execution_count": 16,
     "metadata": {},
     "output_type": "execute_result"
    }
   ],
   "source": [
    "m.rstrip()"
   ]
  },
  {
   "cell_type": "code",
   "execution_count": 17,
   "id": "8f9d1ab7",
   "metadata": {},
   "outputs": [],
   "source": [
    "k=' shekhar'"
   ]
  },
  {
   "cell_type": "code",
   "execution_count": 18,
   "id": "6475df79",
   "metadata": {},
   "outputs": [
    {
     "data": {
      "text/plain": [
       "'shekhar'"
      ]
     },
     "execution_count": 18,
     "metadata": {},
     "output_type": "execute_result"
    }
   ],
   "source": [
    "k.lstrip()"
   ]
  },
  {
   "cell_type": "code",
   "execution_count": null,
   "id": "b6ededfc",
   "metadata": {},
   "outputs": [],
   "source": []
  }
 ],
 "metadata": {
  "kernelspec": {
   "display_name": "Python 3 (ipykernel)",
   "language": "python",
   "name": "python3"
  },
  "language_info": {
   "codemirror_mode": {
    "name": "ipython",
    "version": 3
   },
   "file_extension": ".py",
   "mimetype": "text/x-python",
   "name": "python",
   "nbconvert_exporter": "python",
   "pygments_lexer": "ipython3",
   "version": "3.9.12"
  }
 },
 "nbformat": 4,
 "nbformat_minor": 5
}
