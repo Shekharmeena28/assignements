{
 "cells": [
  {
   "cell_type": "markdown",
   "id": "10dfdfa2",
   "metadata": {},
   "source": [
    "Q1. Is an assignment operator like += only for show? Is it possible that it would lead to faster results\n",
    "at the runtime?\n"
   ]
  },
  {
   "cell_type": "markdown",
   "id": "e6be9f08",
   "metadata": {},
   "source": [
    "The `+=` operator in Python is not just for show; it can lead to faster and more efficient code execution in certain situations. It is used for in-place addition or concatenation, modifying the value of a variable without creating a new object. This can improve memory usage and execution speed, especially for mutable data types like lists. Using `+=` can be more efficient and readable than alternative methods that involve creating new objects. However, its effectiveness depends on the data type and use case, and profiling may be necessary to determine the most efficient approach for your specific scenario."
   ]
  },
  {
   "cell_type": "markdown",
   "id": "a007c0aa",
   "metadata": {},
   "source": [
    "Q2. What is the smallest number of statements you&#39;d have to write in most programming languages to\n",
    "replace the Python expression a, b = a + b, a?"
   ]
  },
  {
   "cell_type": "markdown",
   "id": "9ec356ba",
   "metadata": {},
   "source": [
    "In most programming languages, to replace the Python expression `a, b = a + b, a` with the same functionality, you would typically need at least three statements. Python's ability to perform tuple packing and unpacking in a single line makes this operation concise and unique to Python.\n",
    "\n",
    "Here's a breakdown of what you might need to do in other programming languages:\n",
    "\n",
    "1. **Create Temporary Variables**: In many languages, you would need to create temporary variables to store intermediate values because you cannot directly reassign multiple variables in one step. Here's an example in JavaScript:\n",
    "\n",
    "   ```javascript\n",
    "   let temp = a + b;\n",
    "   a = temp;\n",
    "   b = a;\n",
    "   ```\n",
    "\n",
    "2. **Use Swap Function**: Some languages, like C++, have built-in functions or idiomatic ways to swap values of variables. You can use such a function to achieve the swap:\n",
    "\n",
    "   ```cpp\n",
    "   std::swap(a, b);\n",
    "   ```\n",
    "\n",
    "3. **Use a Temporary Array**: In languages that support arrays, you might use a temporary array to swap values:\n",
    "\n",
    "   ```java\n",
    "   int[] tempArr = new int[2];\n",
    "   tempArr[0] = a + b;\n",
    "   tempArr[1] = a;\n",
    "   a = tempArr[0];\n",
    "   b = tempArr[1];\n",
    "   ```\n",
    "\n",
    "These examples demonstrate that the Python expression `a, b = a + b, a` is a concise way to swap the values of `a` and `b` and is not directly transferrable to most programming languages without additional statements or constructs specific to those languages. Python's syntax for simultaneous assignment and tuple packing/unpacking simplifies such operations."
   ]
  },
  {
   "cell_type": "markdown",
   "id": "58222f1d",
   "metadata": {},
   "source": [
    "Q3. In Python, what is the most effective way to set a list of 100 integers to 0?"
   ]
  },
  {
   "cell_type": "markdown",
   "id": "0b3fe6cd",
   "metadata": {},
   "source": [
    "my_list = [0] The most effective way to set a list of 100 integers to 0 in Python is to use a list comprehension. You can create a list containing 100 zeros by using a list comprehension with a simple expression. Here's how you can do it:\n",
    "\n",
    "```python\n",
    "my_list = [0] * 100\n",
    "```\n",
    "\n",
    "In this code, `[0] * 100` creates a list that repeats the value `0` 100 times, effectively initializing all elements in the list to 0. This approach is efficient and concise for initializing a list with a specific value, in this case, 0.* 100\n"
   ]
  },
  {
   "cell_type": "markdown",
   "id": "da12183e",
   "metadata": {},
   "source": [
    "Q4. What is the most effective way to initialise a list of 99 integers that repeats the sequence 1, 2, 3?\n",
    "S If necessary, show step-by-step instructions on how to accomplish this."
   ]
  },
  {
   "cell_type": "markdown",
   "id": "4302040c",
   "metadata": {},
   "source": [
    "The most effective way to initialize a list of 99 integers that repeats the sequence 1, 2, 3 is to use list comprehension in combination with the `itertools.cycle` function from the `itertools` module. Here's how you can do it step by step:\n",
    "\n",
    "1. Import the `itertools` module:\n",
    "\n",
    "```python\n",
    "import itertools\n",
    "```\n",
    "\n",
    "2. Create a list comprehension that uses `itertools.cycle` to repeat the sequence 1, 2, 3 until you reach a length of 99:\n",
    "\n",
    "```python\n",
    "sequence = [1, 2, 3]  # The sequence you want to repeat\n",
    "n = 99  # The desired length of the list\n",
    "\n",
    "result = [x for x in itertools.islice(itertools.cycle(sequence), n)]\n",
    "```\n",
    "\n",
    "In this code:\n",
    "\n",
    "- `itertools.cycle(sequence)` creates an iterator that cycles through the elements of the `sequence` infinitely.\n",
    "- `itertools.islice` limits the iterator to the first `n` elements, effectively stopping the cycling after 99 elements.\n",
    "- The list comprehension `[x for x in ...]` converts the iterator into a list.\n",
    "\n",
    "After running this code, the `result` list will contain 99 integers repeating the sequence 1, 2, 3.\n",
    "\n",
    "Here's a compact version of the code:\n",
    "\n",
    "```python\n",
    "import itertools\n",
    "\n",
    "sequence = [1, 2, 3]\n",
    "n = 99\n",
    "\n",
    "result = list(itertools.islice(itertools.cycle(sequence), n))\n",
    "```\n",
    "\n",
    "This approach is efficient because it avoids explicitly creating a longer list with repeated sequences, and it ensures that you get exactly 99 elements without needing extra logic to truncate or extend the list."
   ]
  },
  {
   "cell_type": "markdown",
   "id": "2e4c96c2",
   "metadata": {},
   "source": [
    "Q5. If you&#39;re using IDLE to run a Python application, explain how to print a multidimensional list as\n",
    "efficiently?"
   ]
  },
  {
   "cell_type": "markdown",
   "id": "e44578ba",
   "metadata": {},
   "source": [
    "In IDLE, you can print a multidimensional list efficiently by using nested loops to iterate through the list's elements and print them row by row. This approach allows you to control the formatting and layout of the printed output. Here's a step-by-step guide:\n",
    "\n",
    "Open IDLE and create your Python application.\n",
    "\n",
    "Define your multidimensional list. For example:"
   ]
  },
  {
   "cell_type": "code",
   "execution_count": 3,
   "id": "db5d1de6",
   "metadata": {},
   "outputs": [],
   "source": [
    "my_list = [\n",
    "    [1, 2, 3],\n",
    "    [4, 5, 6],\n",
    "    [7, 8, 9]\n",
    "]\n"
   ]
  },
  {
   "cell_type": "code",
   "execution_count": 4,
   "id": "fe76e956",
   "metadata": {},
   "outputs": [
    {
     "name": "stdout",
     "output_type": "stream",
     "text": [
      "1\t2\t3\t\n",
      "4\t5\t6\t\n",
      "7\t8\t9\t\n"
     ]
    }
   ],
   "source": [
    "for row in my_list:\n",
    "    for element in row:\n",
    "        print(element, end='\\t')  # Use '\\t' to separate elements with tabs\n",
    "    print()  # Print a newline after each row\n"
   ]
  },
  {
   "cell_type": "markdown",
   "id": "03693dff",
   "metadata": {},
   "source": [
    "Q6. Is it possible to use list comprehension with a string? If so, how can you go about doing it?\n"
   ]
  },
  {
   "cell_type": "markdown",
   "id": "ac263545",
   "metadata": {},
   "source": [
    "Yes, you can use list comprehension with a string in Python. List comprehensions are not limited to working with lists; they can also be used to create new lists or modify existing ones based on the elements of a string."
   ]
  },
  {
   "cell_type": "code",
   "execution_count": 6,
   "id": "4be5725e",
   "metadata": {},
   "outputs": [
    {
     "name": "stdout",
     "output_type": "stream",
     "text": [
      "['H', 'e', 'l', 'l', 'o', ',', ' ', 'w', 'o', 'r', 'l', 'd', '!']\n"
     ]
    }
   ],
   "source": [
    "my_string = \"Hello, world!\"\n",
    "char_list = [char for char in my_string]\n",
    "print(char_list)\n"
   ]
  },
  {
   "cell_type": "markdown",
   "id": "53ea53e8",
   "metadata": {},
   "source": [
    "Q7. From the command line, how do you get support with a user-written Python programme? Is this\n",
    "possible from inside IDLE?"
   ]
  },
  {
   "cell_type": "markdown",
   "id": "fb9476dd",
   "metadata": {},
   "source": [
    "To get support with a user-written Python program from the command line or from inside IDLE, you have several options:\n",
    "\n",
    "1. **Online Documentation**: Python has extensive online documentation available at the official Python website (docs.python.org). You can access documentation for Python's standard library modules, language features, and more. It's a valuable resource for learning and troubleshooting.\n",
    "\n",
    "2. **Python Help Command (Command Line)**: You can use the built-in `help()` function within the Python interactive shell or script. Open a terminal or command prompt, run Python by typing `python`, and then use the `help()` function to get information about modules, functions, or classes. For example:\n",
    "\n",
    "   ```python\n",
    "   >>> help(print)\n",
    "   ```\n",
    "\n",
    "   This command will display documentation about the `print()` function. You can exit the help viewer by typing `q`.\n",
    "\n",
    "3. **Online Forums and Communities**: There are numerous online forums and communities where Python programmers can seek help, such as Stack Overflow, the Python community on Reddit, and the Python mailing lists. You can ask questions, provide details about your program, and get assistance from experienced Python developers.\n",
    "\n",
    "4. **Integrated Development Environments (IDEs)**: Many integrated development environments, including IDLE, provide features for accessing documentation and getting help. In IDLE, you can use the built-in help viewer by typing `help()` and then searching for topics. Additionally, IDLE often includes autocomplete and code suggestions that can assist in discovering functions and modules.\n",
    "\n",
    "5. **Third-Party Packages and Libraries**: If your program uses third-party packages or libraries, consult their documentation or community resources for help. Many popular Python packages have their own documentation and forums.\n",
    "\n",
    "6. **Python PEPs (Python Enhancement Proposals)**: PEPs are design documents providing information on a Python feature or specification. They can be helpful for understanding Python's design principles and features. You can find PEPs at https://peps.python.org/.\n",
    "\n",
    "7. **Books and Tutorials**: Python books and online tutorials are excellent resources for learning and troubleshooting. They often provide practical examples and explanations.\n",
    "\n",
    "8. **Debugging Tools**: Use Python's debugging tools like `pdb` or third-party debuggers like `pdb++` to inspect and diagnose issues in your program.\n",
    "\n",
    "When seeking support, it's essential to provide relevant information about the problem you're facing, such as error messages, code snippets, and the specific Python version you're using. This information helps others assist you more effectively."
   ]
  },
  {
   "cell_type": "markdown",
   "id": "a2fdfbaa",
   "metadata": {},
   "source": [
    "Q8. Functions are said to be “first-class objects” in Python but not in most other languages, such as\n",
    "C++ or Java. What can you do in Python with a function (callable object) that you can&#39;t do in C or\n",
    "C++?"
   ]
  },
  {
   "cell_type": "markdown",
   "id": "cf360543",
   "metadata": {},
   "source": [
    "In Python, functions are considered \"first-class objects,\" which means they have a special status and can be treated like any other object, such as integers, strings, or lists. This concept allows you to perform several operations with functions in Python that are not as straightforward or common in languages like C or C++. Here are some things you can do with functions in Python that are not as easily achievable in C or C++:\n",
    "\n",
    "1. **Assign Functions to Variables**: In Python, you can assign a function to a variable, creating a reference to the function. This allows you to pass functions as arguments to other functions, store them in data structures, and create dynamic behavior based on which function is referenced.\n",
    "\n",
    "   ```python\n",
    "   def add(a, b):\n",
    "       return a + b\n",
    "\n",
    "   operation = add\n",
    "   result = operation(2, 3)  # Calls the 'add' function through the 'operation' variable\n",
    "   ```\n",
    "\n",
    "2. **Pass Functions as Arguments**: Python allows you to pass functions as arguments to other functions. This is commonly used in functional programming paradigms and is the basis for constructs like callbacks and higher-order functions.\n",
    "\n",
    "   ```python\n",
    "   def apply(func, x, y):\n",
    "       return func(x, y)\n",
    "\n",
    "   def add(a, b):\n",
    "       return a + b\n",
    "\n",
    "   result = apply(add, 2, 3)  # Passes the 'add' function as an argument to 'apply'\n",
    "   ```\n",
    "\n",
    "3. **Return Functions from Functions**: You can return functions from other functions in Python. This is used to create closures and factories, allowing you to encapsulate behavior within functions.\n",
    "\n",
    "   ```python\n",
    "   def multiplier(factor):\n",
    "       def multiply(x):\n",
    "           return x * factor\n",
    "       return multiply\n",
    "\n",
    "   double = multiplier(2)\n",
    "   result = double(5)  # Returns 10\n",
    "   ```\n",
    "\n",
    "4. **Store Functions in Data Structures**: Python allows you to store functions in lists, dictionaries, or other data structures. This is valuable for creating dynamic behavior and dispatching functions based on conditions.\n",
    "\n",
    "   ```python\n",
    "   functions = [add, subtract, multiply, divide]\n",
    "   result = functions[0](2, 3)  # Calls the 'add' function from the list\n",
    "   ```\n",
    "\n",
    "5. **Create Anonymous Functions (Lambda Functions)**: Python supports lambda functions, which are small, anonymous functions that can be defined inline. This is useful for creating simple, short-lived functions.\n",
    "\n",
    "   ```python\n",
    "   square = lambda x: x ** 2\n",
    "   result = square(4)  # Returns 16\n",
    "   ```\n",
    "\n",
    "6. **Custom Decorators**: Python allows you to create custom decorators, which are functions that modify or enhance the behavior of other functions. This is a powerful feature for adding functionality to functions without modifying their source code.\n",
    "\n",
    "   ```python\n",
    "   def my_decorator(func):\n",
    "       def wrapper(*args, **kwargs):\n",
    "           print(\"Before function call\")\n",
    "           result = func(*args, **kwargs)\n",
    "           print(\"After function call\")\n",
    "           return result\n",
    "       return wrapper\n",
    "\n",
    "   @my_decorator\n",
    "   def my_function():\n",
    "       print(\"Inside my_function\")\n",
    "\n",
    "   my_function()  # Calls 'my_function' with the added behavior of 'my_decorator'\n",
    "   ```\n",
    "\n",
    "7. **Dynamic Function Generation**: In Python, you can generate functions dynamically at runtime, allowing you to create functions with different behavior based on runtime conditions.\n",
    "\n",
    "   ```python\n",
    "   def create_multiplier(factor):\n",
    "       def multiply(x):\n",
    "           return x * factor\n",
    "       return multiply\n",
    "\n",
    "   double = create_multiplier(2)\n",
    "   triple = create_multiplier(3)\n",
    "   ```\n",
    "\n",
    "These capabilities make Python's treatment of functions as first-class objects powerful for tasks like functional programming, metaprogramming, and dynamic behavior. In contrast, languages like C or C++ treat functions differently, and achieving similar functionality often requires more complex mechanisms or is not as straightforward."
   ]
  },
  {
   "cell_type": "markdown",
   "id": "10102ab6",
   "metadata": {},
   "source": [
    "Q9. How do you distinguish between a wrapper, a wrapped feature, and a decorator?"
   ]
  },
  {
   "cell_type": "markdown",
   "id": "8c367947",
   "metadata": {},
   "source": [
    "In Python, the terms \"wrapper,\" \"wrapped feature,\" and \"decorator\" are often used in the context of adding functionality or modifying the behavior of functions or methods. Here's how you can distinguish between these concepts:\n",
    "\n",
    "1. **Wrapper**:\n",
    "\n",
    "   - A wrapper is a function or a piece of code that encapsulates or surrounds another function or feature.\n",
    "   - It is typically responsible for adding some behavior before or after the execution of the wrapped feature.\n",
    "   - Wrappers are used to enhance, modify, or extend the functionality of the wrapped feature.\n",
    "   - Wrappers can be applied to various programming tasks and are not specific to Python. They are a general concept used in software engineering.\n",
    "\n",
    "2. **Wrapped Feature**:\n",
    "\n",
    "   - The wrapped feature is the core function or method that you want to enhance or modify.\n",
    "   - It represents the original functionality that you want to wrap with additional behavior.\n",
    "   - The wrapped feature is the target of the wrapper, and the wrapper operates on it.\n",
    "\n",
    "3. **Decorator**:\n",
    "\n",
    "   - A decorator is a specific Python construct for adding functionality to functions or methods.\n",
    "   - It is a function that takes another function as an argument and returns a new function.\n",
    "   - Decorators are used to modify or extend the behavior of functions or methods without changing their source code.\n",
    "   - They are often used to add cross-cutting concerns such as logging, authentication, or timing to functions or methods.\n",
    "   - Decorators are typically applied using the `@decorator_name` syntax.\n",
    "\n",
    "In summary, a \"wrapper\" is a general concept that encapsulates or surrounds a feature, a \"wrapped feature\" is the original function or method being wrapped, and a \"decorator\" is a specific Python construct for adding behavior to functions or methods. Decorators are a common way to implement wrappers in Python, but wrappers can be implemented in other ways as well, depending on the programming context."
   ]
  },
  {
   "cell_type": "markdown",
   "id": "311008ff",
   "metadata": {},
   "source": [
    "Q10. If a function is a generator function, what does it return?"
   ]
  },
  {
   "cell_type": "markdown",
   "id": "68af9c0f",
   "metadata": {},
   "source": [
    "A generator function in Python does not return a typical value like an integer, string, or list. Instead, it returns a special type of iterator called a generator. When you call a generator function, it does not execute the function body immediately. Instead, it returns a generator object, which can be used to control the execution of the function and produce values lazily, one at a time, using the `yield` keyword.\n",
    "\n",
    "Here's a simple example of a generator function:\n",
    "\n",
    "```python\n",
    "def my_generator():\n",
    "    yield 1\n",
    "    yield 2\n",
    "    yield 3\n",
    "\n",
    "gen = my_generator()\n",
    "```\n",
    "\n",
    "In this example, `my_generator()` is a generator function that yields three values. When you call `my_generator()`, it doesn't execute the function body but instead returns a generator object (`gen`). You can use this generator object to iterate through the values one at a time:\n",
    "\n",
    "```python\n",
    "for value in gen:\n",
    "    print(value)\n",
    "```\n",
    "\n",
    "When you iterate over the generator, it executes the function body up to the `yield` statements, produces the value, and then pauses execution, remembering its state. The next time you iterate, it resumes execution from where it left off and continues producing values until there are no more `yield` statements or until you stop iterating.\n",
    "\n",
    "So, to answer your question, a generator function returns a generator object, which is used to produce values lazily as you iterate through it."
   ]
  },
  {
   "cell_type": "code",
   "execution_count": 8,
   "id": "574c9b5d",
   "metadata": {},
   "outputs": [],
   "source": [
    "def my_generator():\n",
    "    yield 1\n",
    "    yield 2\n",
    "    yield 3"
   ]
  },
  {
   "cell_type": "code",
   "execution_count": 9,
   "id": "b45bc5f7",
   "metadata": {},
   "outputs": [],
   "source": [
    "gen = my_generator()"
   ]
  },
  {
   "cell_type": "code",
   "execution_count": 10,
   "id": "477b417b",
   "metadata": {},
   "outputs": [
    {
     "name": "stdout",
     "output_type": "stream",
     "text": [
      "1\n",
      "2\n",
      "3\n"
     ]
    }
   ],
   "source": [
    "for value in gen:\n",
    "    print(value)"
   ]
  },
  {
   "cell_type": "markdown",
   "id": "90925e5d",
   "metadata": {},
   "source": [
    "Q11. What is the one improvement that must be made to a function in order for it to become a\n",
    "generator function in the Python language?"
   ]
  },
  {
   "cell_type": "markdown",
   "id": "3e5d2d20",
   "metadata": {},
   "source": [
    "To turn a regular function into a generator function in Python, you need to make one key improvement: replace the `return` statements with `yield` statements.\n",
    "\n",
    "Here's the fundamental difference:\n",
    "\n",
    "- In a regular function, you use the `return` statement to send a value back to the caller, and the function's state is lost after the return.\n",
    "\n",
    "- In a generator function, you use the `yield` statement to yield a value to the caller, but the function's state is preserved, allowing it to resume execution from where it left off when called again.\n",
    "\n",
    "Here's an example to illustrate the difference:\n",
    "\n",
    "Regular Function (Not a Generator):\n",
    "```python\n",
    "def regular_function():\n",
    "    return 1\n",
    "    return 2\n",
    "\n",
    "result = regular_function()\n",
    "print(result)  # Output: 1\n",
    "```\n",
    "\n",
    "Generator Function:\n",
    "```python\n",
    "def generator_function():\n",
    "    yield 1\n",
    "    yield 2\n",
    "\n",
    "gen = generator_function()\n",
    "\n",
    "for value in gen:\n",
    "    print(value)\n",
    "# Output: 1\n",
    "#         2\n",
    "```\n",
    "\n",
    "In the generator function, you use `yield` to yield values (1 and 2), and the function's state is preserved between calls. Each time you iterate through the generator (`for value in gen`), it resumes execution from where it left off and produces the next value.\n",
    "\n",
    "So, to convert a regular function into a generator function, replace `return` statements with `yield` statements to allow the function to yield values lazily and retain its state between calls."
   ]
  },
  {
   "cell_type": "markdown",
   "id": "24ff1b63",
   "metadata": {},
   "source": [
    "Q12. Identify at least one benefit of generators."
   ]
  },
  {
   "cell_type": "markdown",
   "id": "d6283ce8",
   "metadata": {},
   "source": [
    "One of the key benefits of using generators in Python is their memory efficiency. Generators allow you to produce values lazily, on-the-fly, as they are needed, without precomputing and storing all the values in memory at once. This can lead to significant memory savings, especially when dealing with large datasets or infinite sequences. Here's why memory efficiency is a notable benefit of generators:\n",
    "\n",
    "1. **Reduced Memory Footprint**: Generators produce values one at a time and do not store the entire sequence of values in memory. This means that memory consumption remains low and constant, regardless of the size of the sequence. This is particularly advantageous when working with large datasets that may not fit entirely into memory.\n",
    "\n",
    "2. **Efficient Processing of Infinite Sequences**: Generators are well-suited for representing and processing infinite sequences, such as streaming data or mathematical sequences. Since they produce values on-the-fly, you can work with infinite sequences without worrying about running out of memory.\n",
    "\n",
    "3. **Lazy Evaluation**: Generators support lazy evaluation, meaning that they only compute values when requested. This can lead to more efficient use of computational resources because you don't need to compute all values upfront if you only need a subset of them.\n",
    "\n",
    "4. **Sequential Processing**: Generators encourage sequential processing, which can simplify code and make it more readable. You typically iterate over a generator using a `for` loop or other iteration constructs, which promotes a clear and concise coding style.\n",
    "\n",
    "5. **Chaining and Composition**: Generators can be easily chained and composed to create complex data processing pipelines without the need to store intermediate results in memory. This allows for efficient data transformations and filtering.\n",
    "\n",
    "Here's an example that demonstrates the memory efficiency of generators compared to lists:\n",
    "\n",
    "```python\n",
    "# Using a list to store a large sequence\n",
    "large_list = [x for x in range(1, 1000000)]  # Creates a list of 1 million integers\n",
    "# This consumes a significant amount of memory\n",
    "\n",
    "# Using a generator to represent the same sequence\n",
    "def generate_large_sequence():\n",
    "    for x in range(1, 1000000):\n",
    "        yield x\n",
    "\n",
    "gen = generate_large_sequence()\n",
    "# This consumes minimal memory because values are generated lazily\n",
    "\n",
    "# You can iterate through the generator just like a list\n",
    "for value in gen:\n",
    "    if value > 10:\n",
    "        break\n",
    "```\n",
    "\n",
    "In this example, the list consumes a significant amount of memory, while the generator consumes very little memory because it produces values on-the-fly as you iterate through it. This memory efficiency can be crucial when working with large or infinite datasets."
   ]
  },
  {
   "cell_type": "code",
   "execution_count": null,
   "id": "f6f36f88",
   "metadata": {},
   "outputs": [],
   "source": []
  }
 ],
 "metadata": {
  "kernelspec": {
   "display_name": "Python 3 (ipykernel)",
   "language": "python",
   "name": "python3"
  },
  "language_info": {
   "codemirror_mode": {
    "name": "ipython",
    "version": 3
   },
   "file_extension": ".py",
   "mimetype": "text/x-python",
   "name": "python",
   "nbconvert_exporter": "python",
   "pygments_lexer": "ipython3",
   "version": "3.9.13"
  }
 },
 "nbformat": 4,
 "nbformat_minor": 5
}
